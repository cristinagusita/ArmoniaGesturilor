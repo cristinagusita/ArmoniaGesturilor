{
  "cells": [
    {
      "cell_type": "code",
      "execution_count": 287,
      "metadata": {
        "id": "igMyGnjE9hEp"
      },
      "outputs": [],
      "source": [
        "import csv\n",
        "\n",
        "import numpy as np\n",
        "import tensorflow as tf\n",
        "from sklearn.model_selection import train_test_split\n",
        "from keras.layers import BatchNormalization\n",
        "\n",
        "RANDOM_SEED = 42"
      ]
    },
    {
      "cell_type": "markdown",
      "metadata": {
        "id": "t2HDvhIu9hEr"
      },
      "source": [
        "# Specify each path"
      ]
    },
    {
      "cell_type": "code",
      "execution_count": 288,
      "metadata": {
        "id": "9NvZP2Zn9hEy"
      },
      "outputs": [],
      "source": [
        "dataset = 'model/keypoint_classifier/keypoint.csv'\n",
        "model_save_path = 'model/keypoint_classifier/keypoint_classifier.hdf5'\n",
        "tflite_save_path = 'model/keypoint_classifier/keypoint_classifier.tflite'"
      ]
    },
    {
      "cell_type": "markdown",
      "metadata": {
        "id": "s5oMH7x19hEz"
      },
      "source": [
        "# Set number of classes"
      ]
    },
    {
      "cell_type": "code",
      "execution_count": 289,
      "metadata": {
        "id": "du4kodXL9hEz"
      },
      "outputs": [],
      "source": [
        "NUM_CLASSES = 11"
      ]
    },
    {
      "cell_type": "markdown",
      "metadata": {
        "id": "XjnL0uso9hEz"
      },
      "source": [
        "# Dataset reading"
      ]
    },
    {
      "cell_type": "code",
      "execution_count": 290,
      "metadata": {
        "id": "QT5ZqtEz9hE0"
      },
      "outputs": [],
      "source": [
        "X_dataset = np.loadtxt(dataset, delimiter=',', dtype='float32', usecols=list(range(1, (21 * 2) + 1)))"
      ]
    },
    {
      "cell_type": "code",
      "execution_count": 291,
      "metadata": {
        "id": "QmoKFsp49hE0"
      },
      "outputs": [],
      "source": [
        "y_dataset = np.loadtxt(dataset, delimiter=',', dtype='int32', usecols=(0))"
      ]
    },
    {
      "cell_type": "code",
      "execution_count": 292,
      "metadata": {
        "id": "xQU7JTZ_9hE0"
      },
      "outputs": [],
      "source": [
        "X_train, X_test, y_train, y_test = train_test_split(X_dataset, y_dataset, train_size=0.75, random_state=RANDOM_SEED)"
      ]
    },
    {
      "cell_type": "markdown",
      "metadata": {
        "id": "mxK_lETT9hE0"
      },
      "source": [
        "# Model building"
      ]
    },
    {
      "cell_type": "code",
      "execution_count": 293,
      "metadata": {
        "id": "vHBmUf1t9hE1"
      },
      "outputs": [],
      "source": [
        "model = tf.keras.models.Sequential([\n",
        "    tf.keras.layers.Input((21 * 2, )),\n",
        "    tf.keras.layers.Dense(256, activation='relu'),\n",
        "    BatchNormalization(),\n",
        "    tf.keras.layers.Dropout(0.5),\n",
        "    tf.keras.layers.Dense(128, activation='relu'),\n",
        "    BatchNormalization(),\n",
        "    tf.keras.layers.Dropout(0.5),\n",
        "    tf.keras.layers.Dense(64, activation='relu'),\n",
        "    BatchNormalization(),\n",
        "    tf.keras.layers.Dropout(0.5),\n",
        "    tf.keras.layers.Dense(NUM_CLASSES, activation='softmax')\n",
        "])"
      ]
    },
    {
      "cell_type": "code",
      "execution_count": 294,
      "metadata": {
        "colab": {
          "base_uri": "https://localhost:8080/"
        },
        "id": "ypqky9tc9hE1",
        "outputId": "5db082bb-30e3-4110-bf63-a1ee777ecd46"
      },
      "outputs": [
        {
          "name": "stdout",
          "output_type": "stream",
          "text": [
            "Model: \"sequential_13\"\n",
            "_________________________________________________________________\n",
            " Layer (type)                Output Shape              Param #   \n",
            "=================================================================\n",
            " dense_55 (Dense)            (None, 256)               11008     \n",
            "                                                                 \n",
            " batch_normalization_12 (Ba  (None, 256)               1024      \n",
            " tchNormalization)                                               \n",
            "                                                                 \n",
            " dropout_42 (Dropout)        (None, 256)               0         \n",
            "                                                                 \n",
            " dense_56 (Dense)            (None, 128)               32896     \n",
            "                                                                 \n",
            " batch_normalization_13 (Ba  (None, 128)               512       \n",
            " tchNormalization)                                               \n",
            "                                                                 \n",
            " dropout_43 (Dropout)        (None, 128)               0         \n",
            "                                                                 \n",
            " dense_57 (Dense)            (None, 64)                8256      \n",
            "                                                                 \n",
            " batch_normalization_14 (Ba  (None, 64)                256       \n",
            " tchNormalization)                                               \n",
            "                                                                 \n",
            " dropout_44 (Dropout)        (None, 64)                0         \n",
            "                                                                 \n",
            " dense_58 (Dense)            (None, 11)                715       \n",
            "                                                                 \n",
            "=================================================================\n",
            "Total params: 54667 (213.54 KB)\n",
            "Trainable params: 53771 (210.04 KB)\n",
            "Non-trainable params: 896 (3.50 KB)\n",
            "_________________________________________________________________\n"
          ]
        }
      ],
      "source": [
        "model.summary()  # tf.keras.utils.plot_model(model, show_shapes=True)"
      ]
    },
    {
      "cell_type": "code",
      "execution_count": 295,
      "metadata": {
        "id": "MbMjOflQ9hE1"
      },
      "outputs": [],
      "source": [
        "# Model checkpoint callback\n",
        "cp_callback = tf.keras.callbacks.ModelCheckpoint(\n",
        "    model_save_path, verbose=1, save_weights_only=False)\n",
        "# Callback for early stopping\n",
        "es_callback = tf.keras.callbacks.EarlyStopping(patience=20, verbose=1)"
      ]
    },
    {
      "cell_type": "code",
      "execution_count": 296,
      "metadata": {
        "id": "c3Dac0M_9hE2"
      },
      "outputs": [],
      "source": [
        "# Model compilation\n",
        "model.compile(\n",
        "    optimizer='adam',\n",
        "    loss='sparse_categorical_crossentropy',\n",
        "    metrics=['accuracy']\n",
        ")"
      ]
    },
    {
      "cell_type": "markdown",
      "metadata": {
        "id": "7XI0j1Iu9hE2"
      },
      "source": [
        "# Model training"
      ]
    },
    {
      "cell_type": "code",
      "execution_count": 297,
      "metadata": {
        "colab": {
          "base_uri": "https://localhost:8080/"
        },
        "id": "WirBl-JE9hE3",
        "outputId": "71b30ca2-8294-4d9d-8aa2-800d90d399de",
        "scrolled": true
      },
      "outputs": [
        {
          "name": "stdout",
          "output_type": "stream",
          "text": [
            "Epoch 1/1000\n"
          ]
        },
        {
          "name": "stdout",
          "output_type": "stream",
          "text": [
            "1/3 [=========>....................] - ETA: 3s - loss: 3.5587 - accuracy: 0.1328\n",
            "Epoch 1: saving model to model/keypoint_classifier\\keypoint_classifier.hdf5\n",
            "3/3 [==============================] - 2s 167ms/step - loss: 3.4709 - accuracy: 0.1018 - val_loss: 2.3632 - val_accuracy: 0.1789\n",
            "Epoch 2/1000\n",
            "1/3 [=========>....................] - ETA: 0s - loss: 2.9398 - accuracy: 0.1484\n",
            "Epoch 2: saving model to model/keypoint_classifier\\keypoint_classifier.hdf5\n",
            "3/3 [==============================] - 0s 47ms/step - loss: 3.1080 - accuracy: 0.1404 - val_loss: 2.3410 - val_accuracy: 0.2316\n",
            "Epoch 3/1000\n",
            "1/3 [=========>....................] - ETA: 0s - loss: 2.7900 - accuracy: 0.1562"
          ]
        },
        {
          "name": "stderr",
          "output_type": "stream",
          "text": [
            "C:\\Users\\Cristina\\AppData\\Roaming\\Python\\Python310\\site-packages\\keras\\src\\engine\\training.py:3079: UserWarning: You are saving your model as an HDF5 file via `model.save()`. This file format is considered legacy. We recommend using instead the native Keras format, e.g. `model.save('my_model.keras')`.\n",
            "  saving_api.save_model(\n"
          ]
        },
        {
          "name": "stdout",
          "output_type": "stream",
          "text": [
            "\n",
            "Epoch 3: saving model to model/keypoint_classifier\\keypoint_classifier.hdf5\n",
            "3/3 [==============================] - 0s 51ms/step - loss: 2.8249 - accuracy: 0.1333 - val_loss: 2.3200 - val_accuracy: 0.2526\n",
            "Epoch 4/1000\n",
            "1/3 [=========>....................] - ETA: 0s - loss: 2.6767 - accuracy: 0.2266\n",
            "Epoch 4: saving model to model/keypoint_classifier\\keypoint_classifier.hdf5\n",
            "3/3 [==============================] - 0s 50ms/step - loss: 2.6278 - accuracy: 0.1860 - val_loss: 2.2976 - val_accuracy: 0.2421\n",
            "Epoch 5/1000\n",
            "1/3 [=========>....................] - ETA: 0s - loss: 2.4762 - accuracy: 0.2969\n",
            "Epoch 5: saving model to model/keypoint_classifier\\keypoint_classifier.hdf5\n",
            "3/3 [==============================] - 0s 50ms/step - loss: 2.4532 - accuracy: 0.2737 - val_loss: 2.2749 - val_accuracy: 0.3053\n",
            "Epoch 6/1000\n",
            "1/3 [=========>....................] - ETA: 0s - loss: 2.4454 - accuracy: 0.2344\n",
            "Epoch 6: saving model to model/keypoint_classifier\\keypoint_classifier.hdf5\n",
            "3/3 [==============================] - 0s 49ms/step - loss: 2.2724 - accuracy: 0.2807 - val_loss: 2.2524 - val_accuracy: 0.3895\n",
            "Epoch 7/1000\n",
            "1/3 [=========>....................] - ETA: 0s - loss: 2.2279 - accuracy: 0.2188\n",
            "Epoch 7: saving model to model/keypoint_classifier\\keypoint_classifier.hdf5\n",
            "3/3 [==============================] - 0s 46ms/step - loss: 2.1711 - accuracy: 0.2702 - val_loss: 2.2310 - val_accuracy: 0.4737\n",
            "Epoch 8/1000\n",
            "1/3 [=========>....................] - ETA: 0s - loss: 2.0370 - accuracy: 0.3281\n",
            "Epoch 8: saving model to model/keypoint_classifier\\keypoint_classifier.hdf5\n",
            "3/3 [==============================] - 0s 67ms/step - loss: 2.1426 - accuracy: 0.3158 - val_loss: 2.2066 - val_accuracy: 0.4842\n",
            "Epoch 9/1000\n",
            "1/3 [=========>....................] - ETA: 0s - loss: 2.1277 - accuracy: 0.3203\n",
            "Epoch 9: saving model to model/keypoint_classifier\\keypoint_classifier.hdf5\n",
            "3/3 [==============================] - 0s 51ms/step - loss: 2.0013 - accuracy: 0.3053 - val_loss: 2.1809 - val_accuracy: 0.4737\n",
            "Epoch 10/1000\n",
            "1/3 [=========>....................] - ETA: 0s - loss: 1.9620 - accuracy: 0.3438\n",
            "Epoch 10: saving model to model/keypoint_classifier\\keypoint_classifier.hdf5\n",
            "3/3 [==============================] - 0s 46ms/step - loss: 1.9611 - accuracy: 0.3719 - val_loss: 2.1559 - val_accuracy: 0.4737\n",
            "Epoch 11/1000\n",
            "1/3 [=========>....................] - ETA: 0s - loss: 1.9737 - accuracy: 0.3438\n",
            "Epoch 11: saving model to model/keypoint_classifier\\keypoint_classifier.hdf5\n",
            "3/3 [==============================] - 0s 45ms/step - loss: 1.8615 - accuracy: 0.3825 - val_loss: 2.1303 - val_accuracy: 0.4737\n",
            "Epoch 12/1000\n",
            "1/3 [=========>....................] - ETA: 0s - loss: 1.8283 - accuracy: 0.4219\n",
            "Epoch 12: saving model to model/keypoint_classifier\\keypoint_classifier.hdf5\n",
            "3/3 [==============================] - 0s 57ms/step - loss: 1.8515 - accuracy: 0.3895 - val_loss: 2.1076 - val_accuracy: 0.5263\n",
            "Epoch 13/1000\n",
            "1/3 [=========>....................] - ETA: 0s - loss: 1.7030 - accuracy: 0.4062\n",
            "Epoch 13: saving model to model/keypoint_classifier\\keypoint_classifier.hdf5\n",
            "3/3 [==============================] - 0s 56ms/step - loss: 1.6748 - accuracy: 0.4211 - val_loss: 2.0850 - val_accuracy: 0.5684\n",
            "Epoch 14/1000\n",
            "1/3 [=========>....................] - ETA: 0s - loss: 1.6896 - accuracy: 0.3906\n",
            "Epoch 14: saving model to model/keypoint_classifier\\keypoint_classifier.hdf5\n",
            "3/3 [==============================] - 0s 48ms/step - loss: 1.5836 - accuracy: 0.4386 - val_loss: 2.0615 - val_accuracy: 0.5368\n",
            "Epoch 15/1000\n",
            "1/3 [=========>....................] - ETA: 0s - loss: 1.6317 - accuracy: 0.4219\n",
            "Epoch 15: saving model to model/keypoint_classifier\\keypoint_classifier.hdf5\n",
            "3/3 [==============================] - 0s 44ms/step - loss: 1.4905 - accuracy: 0.4667 - val_loss: 2.0392 - val_accuracy: 0.5474\n",
            "Epoch 16/1000\n",
            "1/3 [=========>....................] - ETA: 0s - loss: 1.5688 - accuracy: 0.4297\n",
            "Epoch 16: saving model to model/keypoint_classifier\\keypoint_classifier.hdf5\n",
            "3/3 [==============================] - 0s 50ms/step - loss: 1.4899 - accuracy: 0.4877 - val_loss: 2.0162 - val_accuracy: 0.5684\n",
            "Epoch 17/1000\n",
            "1/3 [=========>....................] - ETA: 0s - loss: 1.4414 - accuracy: 0.5312\n",
            "Epoch 17: saving model to model/keypoint_classifier\\keypoint_classifier.hdf5\n",
            "3/3 [==============================] - 0s 67ms/step - loss: 1.4644 - accuracy: 0.5053 - val_loss: 1.9924 - val_accuracy: 0.5684\n",
            "Epoch 18/1000\n",
            "1/3 [=========>....................] - ETA: 0s - loss: 1.3358 - accuracy: 0.5156\n",
            "Epoch 18: saving model to model/keypoint_classifier\\keypoint_classifier.hdf5\n",
            "3/3 [==============================] - 0s 46ms/step - loss: 1.4443 - accuracy: 0.5158 - val_loss: 1.9674 - val_accuracy: 0.5789\n",
            "Epoch 19/1000\n",
            "1/3 [=========>....................] - ETA: 0s - loss: 1.3248 - accuracy: 0.5469\n",
            "Epoch 19: saving model to model/keypoint_classifier\\keypoint_classifier.hdf5\n",
            "3/3 [==============================] - 0s 48ms/step - loss: 1.2743 - accuracy: 0.5860 - val_loss: 1.9442 - val_accuracy: 0.5789\n",
            "Epoch 20/1000\n",
            "1/3 [=========>....................] - ETA: 0s - loss: 1.2606 - accuracy: 0.6172\n",
            "Epoch 20: saving model to model/keypoint_classifier\\keypoint_classifier.hdf5\n",
            "3/3 [==============================] - 0s 53ms/step - loss: 1.3538 - accuracy: 0.5544 - val_loss: 1.9216 - val_accuracy: 0.5789\n",
            "Epoch 21/1000\n",
            "1/3 [=========>....................] - ETA: 0s - loss: 1.3716 - accuracy: 0.5469\n",
            "Epoch 21: saving model to model/keypoint_classifier\\keypoint_classifier.hdf5\n",
            "3/3 [==============================] - 0s 47ms/step - loss: 1.3118 - accuracy: 0.5719 - val_loss: 1.9023 - val_accuracy: 0.5474\n",
            "Epoch 22/1000\n",
            "1/3 [=========>....................] - ETA: 0s - loss: 1.2969 - accuracy: 0.5781\n",
            "Epoch 22: saving model to model/keypoint_classifier\\keypoint_classifier.hdf5\n",
            "3/3 [==============================] - 0s 53ms/step - loss: 1.2929 - accuracy: 0.5719 - val_loss: 1.8836 - val_accuracy: 0.5579\n",
            "Epoch 23/1000\n",
            "1/3 [=========>....................] - ETA: 0s - loss: 1.2568 - accuracy: 0.5859\n",
            "Epoch 23: saving model to model/keypoint_classifier\\keypoint_classifier.hdf5\n",
            "3/3 [==============================] - 0s 64ms/step - loss: 1.1894 - accuracy: 0.5895 - val_loss: 1.8665 - val_accuracy: 0.5474\n",
            "Epoch 24/1000\n",
            "1/3 [=========>....................] - ETA: 0s - loss: 1.1858 - accuracy: 0.6328\n",
            "Epoch 24: saving model to model/keypoint_classifier\\keypoint_classifier.hdf5\n",
            "3/3 [==============================] - 0s 50ms/step - loss: 1.2621 - accuracy: 0.6000 - val_loss: 1.8524 - val_accuracy: 0.5158\n",
            "Epoch 25/1000\n",
            "1/3 [=========>....................] - ETA: 0s - loss: 1.0993 - accuracy: 0.6641\n",
            "Epoch 25: saving model to model/keypoint_classifier\\keypoint_classifier.hdf5\n",
            "3/3 [==============================] - 0s 46ms/step - loss: 1.0902 - accuracy: 0.6667 - val_loss: 1.8391 - val_accuracy: 0.5158\n",
            "Epoch 26/1000\n",
            "1/3 [=========>....................] - ETA: 0s - loss: 1.1674 - accuracy: 0.6562\n",
            "Epoch 26: saving model to model/keypoint_classifier\\keypoint_classifier.hdf5\n",
            "3/3 [==============================] - 0s 47ms/step - loss: 1.1592 - accuracy: 0.6281 - val_loss: 1.8249 - val_accuracy: 0.4842\n",
            "Epoch 27/1000\n",
            "1/3 [=========>....................] - ETA: 0s - loss: 1.1443 - accuracy: 0.6328\n",
            "Epoch 27: saving model to model/keypoint_classifier\\keypoint_classifier.hdf5\n",
            "3/3 [==============================] - 0s 47ms/step - loss: 1.1376 - accuracy: 0.6351 - val_loss: 1.8045 - val_accuracy: 0.4842\n",
            "Epoch 28/1000\n",
            "1/3 [=========>....................] - ETA: 0s - loss: 1.1530 - accuracy: 0.6484\n",
            "Epoch 28: saving model to model/keypoint_classifier\\keypoint_classifier.hdf5\n",
            "3/3 [==============================] - 0s 46ms/step - loss: 1.1129 - accuracy: 0.6421 - val_loss: 1.7813 - val_accuracy: 0.4947\n",
            "Epoch 29/1000\n",
            "1/3 [=========>....................] - ETA: 0s - loss: 1.1845 - accuracy: 0.6641\n",
            "Epoch 29: saving model to model/keypoint_classifier\\keypoint_classifier.hdf5\n",
            "3/3 [==============================] - 0s 50ms/step - loss: 1.1404 - accuracy: 0.6456 - val_loss: 1.7563 - val_accuracy: 0.4842\n",
            "Epoch 30/1000\n",
            "1/3 [=========>....................] - ETA: 0s - loss: 1.2194 - accuracy: 0.5938\n",
            "Epoch 30: saving model to model/keypoint_classifier\\keypoint_classifier.hdf5\n",
            "3/3 [==============================] - 0s 47ms/step - loss: 1.0427 - accuracy: 0.6667 - val_loss: 1.7328 - val_accuracy: 0.4842\n",
            "Epoch 31/1000\n",
            "1/3 [=========>....................] - ETA: 0s - loss: 1.0576 - accuracy: 0.6250\n",
            "Epoch 31: saving model to model/keypoint_classifier\\keypoint_classifier.hdf5\n",
            "3/3 [==============================] - 0s 46ms/step - loss: 1.0266 - accuracy: 0.6421 - val_loss: 1.7105 - val_accuracy: 0.5053\n",
            "Epoch 32/1000\n",
            "1/3 [=========>....................] - ETA: 0s - loss: 1.0955 - accuracy: 0.6406\n",
            "Epoch 32: saving model to model/keypoint_classifier\\keypoint_classifier.hdf5\n",
            "3/3 [==============================] - 0s 49ms/step - loss: 1.0053 - accuracy: 0.6982 - val_loss: 1.6890 - val_accuracy: 0.5368\n",
            "Epoch 33/1000\n",
            "1/3 [=========>....................] - ETA: 0s - loss: 0.8456 - accuracy: 0.7422\n",
            "Epoch 33: saving model to model/keypoint_classifier\\keypoint_classifier.hdf5\n",
            "3/3 [==============================] - 0s 50ms/step - loss: 0.9057 - accuracy: 0.7263 - val_loss: 1.6707 - val_accuracy: 0.5474\n",
            "Epoch 34/1000\n",
            "1/3 [=========>....................] - ETA: 0s - loss: 0.9330 - accuracy: 0.6797\n",
            "Epoch 34: saving model to model/keypoint_classifier\\keypoint_classifier.hdf5\n",
            "3/3 [==============================] - 0s 59ms/step - loss: 0.8721 - accuracy: 0.7263 - val_loss: 1.6532 - val_accuracy: 0.5789\n",
            "Epoch 35/1000\n",
            "1/3 [=========>....................] - ETA: 0s - loss: 1.0093 - accuracy: 0.6953\n",
            "Epoch 35: saving model to model/keypoint_classifier\\keypoint_classifier.hdf5\n",
            "3/3 [==============================] - 0s 44ms/step - loss: 0.8917 - accuracy: 0.7228 - val_loss: 1.6367 - val_accuracy: 0.5684\n",
            "Epoch 36/1000\n",
            "1/3 [=========>....................] - ETA: 0s - loss: 0.8458 - accuracy: 0.7422\n",
            "Epoch 36: saving model to model/keypoint_classifier\\keypoint_classifier.hdf5\n",
            "3/3 [==============================] - 0s 51ms/step - loss: 0.8428 - accuracy: 0.7404 - val_loss: 1.6220 - val_accuracy: 0.5579\n",
            "Epoch 37/1000\n",
            "1/3 [=========>....................] - ETA: 0s - loss: 0.9109 - accuracy: 0.7188\n",
            "Epoch 37: saving model to model/keypoint_classifier\\keypoint_classifier.hdf5\n",
            "3/3 [==============================] - 0s 46ms/step - loss: 0.9249 - accuracy: 0.7053 - val_loss: 1.6042 - val_accuracy: 0.5579\n",
            "Epoch 38/1000\n",
            "1/3 [=========>....................] - ETA: 0s - loss: 0.8448 - accuracy: 0.7969\n",
            "Epoch 38: saving model to model/keypoint_classifier\\keypoint_classifier.hdf5\n",
            "3/3 [==============================] - 0s 47ms/step - loss: 0.8277 - accuracy: 0.7719 - val_loss: 1.5863 - val_accuracy: 0.5474\n",
            "Epoch 39/1000\n",
            "1/3 [=========>....................] - ETA: 0s - loss: 0.8932 - accuracy: 0.7812\n",
            "Epoch 39: saving model to model/keypoint_classifier\\keypoint_classifier.hdf5\n",
            "3/3 [==============================] - 0s 59ms/step - loss: 0.8345 - accuracy: 0.7860 - val_loss: 1.5663 - val_accuracy: 0.5684\n",
            "Epoch 40/1000\n",
            "1/3 [=========>....................] - ETA: 0s - loss: 0.7612 - accuracy: 0.7500\n",
            "Epoch 40: saving model to model/keypoint_classifier\\keypoint_classifier.hdf5\n",
            "3/3 [==============================] - 0s 49ms/step - loss: 0.7549 - accuracy: 0.7649 - val_loss: 1.5485 - val_accuracy: 0.5684\n",
            "Epoch 41/1000\n",
            "1/3 [=========>....................] - ETA: 0s - loss: 0.7053 - accuracy: 0.7891\n",
            "Epoch 41: saving model to model/keypoint_classifier\\keypoint_classifier.hdf5\n",
            "3/3 [==============================] - 0s 52ms/step - loss: 0.7746 - accuracy: 0.7614 - val_loss: 1.5355 - val_accuracy: 0.5474\n",
            "Epoch 42/1000\n",
            "1/3 [=========>....................] - ETA: 0s - loss: 0.7200 - accuracy: 0.8125\n",
            "Epoch 42: saving model to model/keypoint_classifier\\keypoint_classifier.hdf5\n",
            "3/3 [==============================] - 0s 48ms/step - loss: 0.7078 - accuracy: 0.8000 - val_loss: 1.5256 - val_accuracy: 0.5474\n",
            "Epoch 43/1000\n",
            "1/3 [=========>....................] - ETA: 0s - loss: 0.6679 - accuracy: 0.8125\n",
            "Epoch 43: saving model to model/keypoint_classifier\\keypoint_classifier.hdf5\n",
            "3/3 [==============================] - 0s 50ms/step - loss: 0.6499 - accuracy: 0.8175 - val_loss: 1.5171 - val_accuracy: 0.5474\n",
            "Epoch 44/1000\n",
            "1/3 [=========>....................] - ETA: 0s - loss: 0.6384 - accuracy: 0.8125\n",
            "Epoch 44: saving model to model/keypoint_classifier\\keypoint_classifier.hdf5\n",
            "3/3 [==============================] - 0s 48ms/step - loss: 0.7169 - accuracy: 0.7684 - val_loss: 1.5082 - val_accuracy: 0.5474\n",
            "Epoch 45/1000\n",
            "1/3 [=========>....................] - ETA: 0s - loss: 0.6985 - accuracy: 0.8438\n",
            "Epoch 45: saving model to model/keypoint_classifier\\keypoint_classifier.hdf5\n",
            "3/3 [==============================] - 0s 47ms/step - loss: 0.7654 - accuracy: 0.7860 - val_loss: 1.4971 - val_accuracy: 0.5368\n",
            "Epoch 46/1000\n",
            "1/3 [=========>....................] - ETA: 0s - loss: 0.7568 - accuracy: 0.7500\n",
            "Epoch 46: saving model to model/keypoint_classifier\\keypoint_classifier.hdf5\n",
            "3/3 [==============================] - 0s 49ms/step - loss: 0.7580 - accuracy: 0.7719 - val_loss: 1.4879 - val_accuracy: 0.5368\n",
            "Epoch 47/1000\n",
            "1/3 [=========>....................] - ETA: 0s - loss: 0.6338 - accuracy: 0.8594\n",
            "Epoch 47: saving model to model/keypoint_classifier\\keypoint_classifier.hdf5\n",
            "3/3 [==============================] - 0s 49ms/step - loss: 0.7091 - accuracy: 0.7895 - val_loss: 1.4715 - val_accuracy: 0.5368\n",
            "Epoch 48/1000\n",
            "1/3 [=========>....................] - ETA: 0s - loss: 0.6461 - accuracy: 0.7969\n",
            "Epoch 48: saving model to model/keypoint_classifier\\keypoint_classifier.hdf5\n",
            "3/3 [==============================] - 0s 62ms/step - loss: 0.6708 - accuracy: 0.7825 - val_loss: 1.4524 - val_accuracy: 0.5579\n",
            "Epoch 49/1000\n",
            "1/3 [=========>....................] - ETA: 0s - loss: 0.6313 - accuracy: 0.7969\n",
            "Epoch 49: saving model to model/keypoint_classifier\\keypoint_classifier.hdf5\n",
            "3/3 [==============================] - 0s 51ms/step - loss: 0.6550 - accuracy: 0.8175 - val_loss: 1.4335 - val_accuracy: 0.5789\n",
            "Epoch 50/1000\n",
            "1/3 [=========>....................] - ETA: 0s - loss: 0.6741 - accuracy: 0.8047\n",
            "Epoch 50: saving model to model/keypoint_classifier\\keypoint_classifier.hdf5\n",
            "3/3 [==============================] - 0s 45ms/step - loss: 0.6699 - accuracy: 0.7965 - val_loss: 1.4086 - val_accuracy: 0.5895\n",
            "Epoch 51/1000\n",
            "1/3 [=========>....................] - ETA: 0s - loss: 0.6733 - accuracy: 0.8125\n",
            "Epoch 51: saving model to model/keypoint_classifier\\keypoint_classifier.hdf5\n",
            "3/3 [==============================] - 0s 46ms/step - loss: 0.6873 - accuracy: 0.8140 - val_loss: 1.3824 - val_accuracy: 0.6000\n",
            "Epoch 52/1000\n",
            "1/3 [=========>....................] - ETA: 0s - loss: 0.5357 - accuracy: 0.8828\n",
            "Epoch 52: saving model to model/keypoint_classifier\\keypoint_classifier.hdf5\n",
            "3/3 [==============================] - 0s 52ms/step - loss: 0.5685 - accuracy: 0.8632 - val_loss: 1.3537 - val_accuracy: 0.6000\n",
            "Epoch 53/1000\n",
            "1/3 [=========>....................] - ETA: 0s - loss: 0.5218 - accuracy: 0.8828\n",
            "Epoch 53: saving model to model/keypoint_classifier\\keypoint_classifier.hdf5\n",
            "3/3 [==============================] - 0s 47ms/step - loss: 0.5622 - accuracy: 0.8386 - val_loss: 1.3250 - val_accuracy: 0.6105\n",
            "Epoch 54/1000\n",
            "1/3 [=========>....................] - ETA: 0s - loss: 0.5215 - accuracy: 0.8516\n",
            "Epoch 54: saving model to model/keypoint_classifier\\keypoint_classifier.hdf5\n",
            "3/3 [==============================] - 0s 52ms/step - loss: 0.5373 - accuracy: 0.8667 - val_loss: 1.3014 - val_accuracy: 0.6316\n",
            "Epoch 55/1000\n",
            "1/3 [=========>....................] - ETA: 0s - loss: 0.5681 - accuracy: 0.8125\n",
            "Epoch 55: saving model to model/keypoint_classifier\\keypoint_classifier.hdf5\n",
            "3/3 [==============================] - 0s 50ms/step - loss: 0.5223 - accuracy: 0.8316 - val_loss: 1.2778 - val_accuracy: 0.6526\n",
            "Epoch 56/1000\n",
            "1/3 [=========>....................] - ETA: 0s - loss: 0.6033 - accuracy: 0.8359\n",
            "Epoch 56: saving model to model/keypoint_classifier\\keypoint_classifier.hdf5\n",
            "3/3 [==============================] - 0s 48ms/step - loss: 0.5511 - accuracy: 0.8386 - val_loss: 1.2587 - val_accuracy: 0.6526\n",
            "Epoch 57/1000\n",
            "1/3 [=========>....................] - ETA: 0s - loss: 0.4921 - accuracy: 0.8516\n",
            "Epoch 57: saving model to model/keypoint_classifier\\keypoint_classifier.hdf5\n",
            "3/3 [==============================] - 0s 49ms/step - loss: 0.5071 - accuracy: 0.8526 - val_loss: 1.2382 - val_accuracy: 0.6526\n",
            "Epoch 58/1000\n",
            "1/3 [=========>....................] - ETA: 0s - loss: 0.6383 - accuracy: 0.8359\n",
            "Epoch 58: saving model to model/keypoint_classifier\\keypoint_classifier.hdf5\n",
            "3/3 [==============================] - 0s 51ms/step - loss: 0.5813 - accuracy: 0.8596 - val_loss: 1.2221 - val_accuracy: 0.6632\n",
            "Epoch 59/1000\n",
            "1/3 [=========>....................] - ETA: 0s - loss: 0.5722 - accuracy: 0.8359\n",
            "Epoch 59: saving model to model/keypoint_classifier\\keypoint_classifier.hdf5\n",
            "3/3 [==============================] - 0s 46ms/step - loss: 0.5838 - accuracy: 0.8491 - val_loss: 1.2069 - val_accuracy: 0.6632\n",
            "Epoch 60/1000\n",
            "1/3 [=========>....................] - ETA: 0s - loss: 0.5827 - accuracy: 0.8359\n",
            "Epoch 60: saving model to model/keypoint_classifier\\keypoint_classifier.hdf5\n",
            "3/3 [==============================] - 0s 53ms/step - loss: 0.5828 - accuracy: 0.8351 - val_loss: 1.1896 - val_accuracy: 0.6737\n",
            "Epoch 61/1000\n",
            "1/3 [=========>....................] - ETA: 0s - loss: 0.4112 - accuracy: 0.8828\n",
            "Epoch 61: saving model to model/keypoint_classifier\\keypoint_classifier.hdf5\n",
            "3/3 [==============================] - 0s 69ms/step - loss: 0.4402 - accuracy: 0.8807 - val_loss: 1.1712 - val_accuracy: 0.6842\n",
            "Epoch 62/1000\n",
            "1/3 [=========>....................] - ETA: 0s - loss: 0.4808 - accuracy: 0.8906\n",
            "Epoch 62: saving model to model/keypoint_classifier\\keypoint_classifier.hdf5\n",
            "3/3 [==============================] - 0s 49ms/step - loss: 0.5346 - accuracy: 0.8596 - val_loss: 1.1556 - val_accuracy: 0.7053\n",
            "Epoch 63/1000\n",
            "1/3 [=========>....................] - ETA: 0s - loss: 0.4374 - accuracy: 0.8828\n",
            "Epoch 63: saving model to model/keypoint_classifier\\keypoint_classifier.hdf5\n",
            "3/3 [==============================] - 0s 48ms/step - loss: 0.4479 - accuracy: 0.8842 - val_loss: 1.1382 - val_accuracy: 0.7263\n",
            "Epoch 64/1000\n",
            "1/3 [=========>....................] - ETA: 0s - loss: 0.5232 - accuracy: 0.8359\n",
            "Epoch 64: saving model to model/keypoint_classifier\\keypoint_classifier.hdf5\n",
            "3/3 [==============================] - 0s 49ms/step - loss: 0.5487 - accuracy: 0.8140 - val_loss: 1.1209 - val_accuracy: 0.7368\n",
            "Epoch 65/1000\n",
            "1/3 [=========>....................] - ETA: 0s - loss: 0.4167 - accuracy: 0.8984\n",
            "Epoch 65: saving model to model/keypoint_classifier\\keypoint_classifier.hdf5\n",
            "3/3 [==============================] - 0s 47ms/step - loss: 0.5131 - accuracy: 0.8702 - val_loss: 1.1020 - val_accuracy: 0.7263\n",
            "Epoch 66/1000\n",
            "1/3 [=========>....................] - ETA: 0s - loss: 0.5179 - accuracy: 0.8594\n",
            "Epoch 66: saving model to model/keypoint_classifier\\keypoint_classifier.hdf5\n",
            "3/3 [==============================] - 0s 50ms/step - loss: 0.4707 - accuracy: 0.8772 - val_loss: 1.0821 - val_accuracy: 0.7263\n",
            "Epoch 67/1000\n",
            "1/3 [=========>....................] - ETA: 0s - loss: 0.5029 - accuracy: 0.8516\n",
            "Epoch 67: saving model to model/keypoint_classifier\\keypoint_classifier.hdf5\n",
            "3/3 [==============================] - 0s 64ms/step - loss: 0.5203 - accuracy: 0.8491 - val_loss: 1.0603 - val_accuracy: 0.7158\n",
            "Epoch 68/1000\n",
            "1/3 [=========>....................] - ETA: 0s - loss: 0.3844 - accuracy: 0.9219\n",
            "Epoch 68: saving model to model/keypoint_classifier\\keypoint_classifier.hdf5\n",
            "3/3 [==============================] - 0s 49ms/step - loss: 0.4453 - accuracy: 0.8912 - val_loss: 1.0454 - val_accuracy: 0.7053\n",
            "Epoch 69/1000\n",
            "1/3 [=========>....................] - ETA: 0s - loss: 0.4693 - accuracy: 0.8281\n",
            "Epoch 69: saving model to model/keypoint_classifier\\keypoint_classifier.hdf5\n",
            "3/3 [==============================] - 0s 48ms/step - loss: 0.4376 - accuracy: 0.8632 - val_loss: 1.0306 - val_accuracy: 0.7053\n",
            "Epoch 70/1000\n",
            "1/3 [=========>....................] - ETA: 0s - loss: 0.5078 - accuracy: 0.8438\n",
            "Epoch 70: saving model to model/keypoint_classifier\\keypoint_classifier.hdf5\n",
            "3/3 [==============================] - 0s 49ms/step - loss: 0.4741 - accuracy: 0.8526 - val_loss: 1.0177 - val_accuracy: 0.7158\n",
            "Epoch 71/1000\n",
            "1/3 [=========>....................] - ETA: 0s - loss: 0.3774 - accuracy: 0.9297\n",
            "Epoch 71: saving model to model/keypoint_classifier\\keypoint_classifier.hdf5\n",
            "3/3 [==============================] - 0s 48ms/step - loss: 0.3839 - accuracy: 0.9123 - val_loss: 0.9973 - val_accuracy: 0.7263\n",
            "Epoch 72/1000\n",
            "1/3 [=========>....................] - ETA: 0s - loss: 0.4167 - accuracy: 0.8984\n",
            "Epoch 72: saving model to model/keypoint_classifier\\keypoint_classifier.hdf5\n",
            "3/3 [==============================] - 0s 45ms/step - loss: 0.3846 - accuracy: 0.9158 - val_loss: 0.9749 - val_accuracy: 0.7263\n",
            "Epoch 73/1000\n",
            "1/3 [=========>....................] - ETA: 0s - loss: 0.3726 - accuracy: 0.9141\n",
            "Epoch 73: saving model to model/keypoint_classifier\\keypoint_classifier.hdf5\n",
            "3/3 [==============================] - 0s 68ms/step - loss: 0.3888 - accuracy: 0.9123 - val_loss: 0.9503 - val_accuracy: 0.7368\n",
            "Epoch 74/1000\n",
            "1/3 [=========>....................] - ETA: 0s - loss: 0.3851 - accuracy: 0.9141\n",
            "Epoch 74: saving model to model/keypoint_classifier\\keypoint_classifier.hdf5\n",
            "3/3 [==============================] - 0s 50ms/step - loss: 0.3894 - accuracy: 0.8982 - val_loss: 0.9354 - val_accuracy: 0.7368\n",
            "Epoch 75/1000\n",
            "1/3 [=========>....................] - ETA: 0s - loss: 0.4749 - accuracy: 0.8750\n",
            "Epoch 75: saving model to model/keypoint_classifier\\keypoint_classifier.hdf5\n",
            "3/3 [==============================] - 0s 50ms/step - loss: 0.4667 - accuracy: 0.8561 - val_loss: 0.9305 - val_accuracy: 0.7368\n",
            "Epoch 76/1000\n",
            "1/3 [=========>....................] - ETA: 0s - loss: 0.4412 - accuracy: 0.8906\n",
            "Epoch 76: saving model to model/keypoint_classifier\\keypoint_classifier.hdf5\n",
            "3/3 [==============================] - 0s 52ms/step - loss: 0.4070 - accuracy: 0.8877 - val_loss: 0.9271 - val_accuracy: 0.7474\n",
            "Epoch 77/1000\n",
            "1/3 [=========>....................] - ETA: 0s - loss: 0.3462 - accuracy: 0.9141\n",
            "Epoch 77: saving model to model/keypoint_classifier\\keypoint_classifier.hdf5\n",
            "3/3 [==============================] - 0s 49ms/step - loss: 0.3823 - accuracy: 0.8982 - val_loss: 0.9174 - val_accuracy: 0.7474\n",
            "Epoch 78/1000\n",
            "1/3 [=========>....................] - ETA: 0s - loss: 0.3410 - accuracy: 0.9297\n",
            "Epoch 78: saving model to model/keypoint_classifier\\keypoint_classifier.hdf5\n",
            "3/3 [==============================] - 0s 47ms/step - loss: 0.4257 - accuracy: 0.8842 - val_loss: 0.9098 - val_accuracy: 0.7579\n",
            "Epoch 79/1000\n",
            "1/3 [=========>....................] - ETA: 0s - loss: 0.3853 - accuracy: 0.8984\n",
            "Epoch 79: saving model to model/keypoint_classifier\\keypoint_classifier.hdf5\n",
            "3/3 [==============================] - 0s 64ms/step - loss: 0.3817 - accuracy: 0.9018 - val_loss: 0.8986 - val_accuracy: 0.7684\n",
            "Epoch 80/1000\n",
            "1/3 [=========>....................] - ETA: 0s - loss: 0.3799 - accuracy: 0.8828\n",
            "Epoch 80: saving model to model/keypoint_classifier\\keypoint_classifier.hdf5\n",
            "3/3 [==============================] - 0s 50ms/step - loss: 0.3878 - accuracy: 0.8807 - val_loss: 0.8845 - val_accuracy: 0.7684\n",
            "Epoch 81/1000\n",
            "1/3 [=========>....................] - ETA: 0s - loss: 0.4673 - accuracy: 0.8906\n",
            "Epoch 81: saving model to model/keypoint_classifier\\keypoint_classifier.hdf5\n",
            "3/3 [==============================] - 0s 45ms/step - loss: 0.4013 - accuracy: 0.9018 - val_loss: 0.8666 - val_accuracy: 0.7684\n",
            "Epoch 82/1000\n",
            "1/3 [=========>....................] - ETA: 0s - loss: 0.3806 - accuracy: 0.9141\n",
            "Epoch 82: saving model to model/keypoint_classifier\\keypoint_classifier.hdf5\n",
            "3/3 [==============================] - 0s 52ms/step - loss: 0.3489 - accuracy: 0.9263 - val_loss: 0.8524 - val_accuracy: 0.7684\n",
            "Epoch 83/1000\n",
            "1/3 [=========>....................] - ETA: 0s - loss: 0.3687 - accuracy: 0.9141\n",
            "Epoch 83: saving model to model/keypoint_classifier\\keypoint_classifier.hdf5\n",
            "3/3 [==============================] - 0s 51ms/step - loss: 0.3890 - accuracy: 0.9053 - val_loss: 0.8334 - val_accuracy: 0.7579\n",
            "Epoch 84/1000\n",
            "1/3 [=========>....................] - ETA: 0s - loss: 0.4736 - accuracy: 0.8516\n",
            "Epoch 84: saving model to model/keypoint_classifier\\keypoint_classifier.hdf5\n",
            "3/3 [==============================] - 0s 67ms/step - loss: 0.3928 - accuracy: 0.8912 - val_loss: 0.8138 - val_accuracy: 0.7684\n",
            "Epoch 85/1000\n",
            "1/3 [=========>....................] - ETA: 0s - loss: 0.4114 - accuracy: 0.8594\n",
            "Epoch 85: saving model to model/keypoint_classifier\\keypoint_classifier.hdf5\n",
            "3/3 [==============================] - 0s 48ms/step - loss: 0.3791 - accuracy: 0.8877 - val_loss: 0.7951 - val_accuracy: 0.7789\n",
            "Epoch 86/1000\n",
            "1/3 [=========>....................] - ETA: 0s - loss: 0.3027 - accuracy: 0.9375\n",
            "Epoch 86: saving model to model/keypoint_classifier\\keypoint_classifier.hdf5\n",
            "3/3 [==============================] - 0s 48ms/step - loss: 0.3754 - accuracy: 0.9158 - val_loss: 0.7684 - val_accuracy: 0.8000\n",
            "Epoch 87/1000\n",
            "1/3 [=========>....................] - ETA: 0s - loss: 0.4143 - accuracy: 0.8594\n",
            "Epoch 87: saving model to model/keypoint_classifier\\keypoint_classifier.hdf5\n",
            "3/3 [==============================] - 0s 50ms/step - loss: 0.3871 - accuracy: 0.8877 - val_loss: 0.7389 - val_accuracy: 0.8000\n",
            "Epoch 88/1000\n",
            "1/3 [=========>....................] - ETA: 0s - loss: 0.3710 - accuracy: 0.9297\n",
            "Epoch 88: saving model to model/keypoint_classifier\\keypoint_classifier.hdf5\n",
            "3/3 [==============================] - 0s 51ms/step - loss: 0.3624 - accuracy: 0.9123 - val_loss: 0.7137 - val_accuracy: 0.8211\n",
            "Epoch 89/1000\n",
            "1/3 [=========>....................] - ETA: 0s - loss: 0.3430 - accuracy: 0.9141\n",
            "Epoch 89: saving model to model/keypoint_classifier\\keypoint_classifier.hdf5\n",
            "3/3 [==============================] - 0s 105ms/step - loss: 0.3660 - accuracy: 0.9053 - val_loss: 0.6891 - val_accuracy: 0.8211\n",
            "Epoch 90/1000\n",
            "1/3 [=========>....................] - ETA: 0s - loss: 0.2979 - accuracy: 0.9062\n",
            "Epoch 90: saving model to model/keypoint_classifier\\keypoint_classifier.hdf5\n",
            "3/3 [==============================] - 0s 49ms/step - loss: 0.3399 - accuracy: 0.9018 - val_loss: 0.6698 - val_accuracy: 0.8316\n",
            "Epoch 91/1000\n",
            "1/3 [=========>....................] - ETA: 0s - loss: 0.3112 - accuracy: 0.9297\n",
            "Epoch 91: saving model to model/keypoint_classifier\\keypoint_classifier.hdf5\n",
            "3/3 [==============================] - 0s 46ms/step - loss: 0.3477 - accuracy: 0.9123 - val_loss: 0.6536 - val_accuracy: 0.8421\n",
            "Epoch 92/1000\n",
            "1/3 [=========>....................] - ETA: 0s - loss: 0.3590 - accuracy: 0.8984\n",
            "Epoch 92: saving model to model/keypoint_classifier\\keypoint_classifier.hdf5\n",
            "3/3 [==============================] - 0s 46ms/step - loss: 0.3299 - accuracy: 0.9158 - val_loss: 0.6387 - val_accuracy: 0.8526\n",
            "Epoch 93/1000\n",
            "1/3 [=========>....................] - ETA: 0s - loss: 0.3770 - accuracy: 0.8828\n",
            "Epoch 93: saving model to model/keypoint_classifier\\keypoint_classifier.hdf5\n",
            "3/3 [==============================] - 0s 52ms/step - loss: 0.3445 - accuracy: 0.8947 - val_loss: 0.6284 - val_accuracy: 0.8947\n",
            "Epoch 94/1000\n",
            "1/3 [=========>....................] - ETA: 0s - loss: 0.2904 - accuracy: 0.9062\n",
            "Epoch 94: saving model to model/keypoint_classifier\\keypoint_classifier.hdf5\n",
            "3/3 [==============================] - 0s 47ms/step - loss: 0.2896 - accuracy: 0.9158 - val_loss: 0.6184 - val_accuracy: 0.9053\n",
            "Epoch 95/1000\n",
            "1/3 [=========>....................] - ETA: 0s - loss: 0.2622 - accuracy: 0.9453\n",
            "Epoch 95: saving model to model/keypoint_classifier\\keypoint_classifier.hdf5\n",
            "3/3 [==============================] - 0s 51ms/step - loss: 0.2931 - accuracy: 0.9333 - val_loss: 0.6061 - val_accuracy: 0.8947\n",
            "Epoch 96/1000\n",
            "1/3 [=========>....................] - ETA: 0s - loss: 0.2939 - accuracy: 0.9141\n",
            "Epoch 96: saving model to model/keypoint_classifier\\keypoint_classifier.hdf5\n",
            "3/3 [==============================] - 0s 65ms/step - loss: 0.3366 - accuracy: 0.9053 - val_loss: 0.5919 - val_accuracy: 0.8947\n",
            "Epoch 97/1000\n",
            "1/3 [=========>....................] - ETA: 0s - loss: 0.2681 - accuracy: 0.9219\n",
            "Epoch 97: saving model to model/keypoint_classifier\\keypoint_classifier.hdf5\n",
            "3/3 [==============================] - 0s 49ms/step - loss: 0.2943 - accuracy: 0.9298 - val_loss: 0.5801 - val_accuracy: 0.8842\n",
            "Epoch 98/1000\n",
            "1/3 [=========>....................] - ETA: 0s - loss: 0.3010 - accuracy: 0.9141\n",
            "Epoch 98: saving model to model/keypoint_classifier\\keypoint_classifier.hdf5\n",
            "3/3 [==============================] - 0s 50ms/step - loss: 0.2847 - accuracy: 0.9158 - val_loss: 0.5717 - val_accuracy: 0.8737\n",
            "Epoch 99/1000\n",
            "1/3 [=========>....................] - ETA: 0s - loss: 0.2517 - accuracy: 0.9609\n",
            "Epoch 99: saving model to model/keypoint_classifier\\keypoint_classifier.hdf5\n",
            "3/3 [==============================] - 0s 50ms/step - loss: 0.2908 - accuracy: 0.9404 - val_loss: 0.5604 - val_accuracy: 0.8737\n",
            "Epoch 100/1000\n",
            "1/3 [=========>....................] - ETA: 0s - loss: 0.3825 - accuracy: 0.8984\n",
            "Epoch 100: saving model to model/keypoint_classifier\\keypoint_classifier.hdf5\n",
            "3/3 [==============================] - 0s 45ms/step - loss: 0.3078 - accuracy: 0.9193 - val_loss: 0.5430 - val_accuracy: 0.8737\n",
            "Epoch 101/1000\n",
            "1/3 [=========>....................] - ETA: 0s - loss: 0.2580 - accuracy: 0.9375\n",
            "Epoch 101: saving model to model/keypoint_classifier\\keypoint_classifier.hdf5\n",
            "3/3 [==============================] - 0s 51ms/step - loss: 0.3035 - accuracy: 0.9228 - val_loss: 0.5248 - val_accuracy: 0.8842\n",
            "Epoch 102/1000\n",
            "1/3 [=========>....................] - ETA: 0s - loss: 0.3318 - accuracy: 0.9297\n",
            "Epoch 102: saving model to model/keypoint_classifier\\keypoint_classifier.hdf5\n",
            "3/3 [==============================] - 0s 46ms/step - loss: 0.3009 - accuracy: 0.9439 - val_loss: 0.5070 - val_accuracy: 0.8947\n",
            "Epoch 103/1000\n",
            "1/3 [=========>....................] - ETA: 0s - loss: 0.2678 - accuracy: 0.9375\n",
            "Epoch 103: saving model to model/keypoint_classifier\\keypoint_classifier.hdf5\n",
            "3/3 [==============================] - 0s 72ms/step - loss: 0.2580 - accuracy: 0.9404 - val_loss: 0.4947 - val_accuracy: 0.8842\n",
            "Epoch 104/1000\n",
            "1/3 [=========>....................] - ETA: 0s - loss: 0.3285 - accuracy: 0.9375\n",
            "Epoch 104: saving model to model/keypoint_classifier\\keypoint_classifier.hdf5\n",
            "3/3 [==============================] - 0s 46ms/step - loss: 0.2850 - accuracy: 0.9368 - val_loss: 0.4910 - val_accuracy: 0.8737\n",
            "Epoch 105/1000\n",
            "1/3 [=========>....................] - ETA: 0s - loss: 0.2548 - accuracy: 0.9375\n",
            "Epoch 105: saving model to model/keypoint_classifier\\keypoint_classifier.hdf5\n",
            "3/3 [==============================] - 0s 48ms/step - loss: 0.2390 - accuracy: 0.9474 - val_loss: 0.4810 - val_accuracy: 0.8842\n",
            "Epoch 106/1000\n",
            "1/3 [=========>....................] - ETA: 0s - loss: 0.2164 - accuracy: 0.9531\n",
            "Epoch 106: saving model to model/keypoint_classifier\\keypoint_classifier.hdf5\n",
            "3/3 [==============================] - 0s 49ms/step - loss: 0.2640 - accuracy: 0.9333 - val_loss: 0.4736 - val_accuracy: 0.8842\n",
            "Epoch 107/1000\n",
            "1/3 [=========>....................] - ETA: 0s - loss: 0.2881 - accuracy: 0.9219\n",
            "Epoch 107: saving model to model/keypoint_classifier\\keypoint_classifier.hdf5\n",
            "3/3 [==============================] - 0s 49ms/step - loss: 0.2799 - accuracy: 0.9228 - val_loss: 0.4668 - val_accuracy: 0.8842\n",
            "Epoch 108/1000\n",
            "1/3 [=========>....................] - ETA: 0s - loss: 0.2984 - accuracy: 0.9297\n",
            "Epoch 108: saving model to model/keypoint_classifier\\keypoint_classifier.hdf5\n",
            "3/3 [==============================] - 0s 51ms/step - loss: 0.2939 - accuracy: 0.9263 - val_loss: 0.4528 - val_accuracy: 0.8947\n",
            "Epoch 109/1000\n",
            "1/3 [=========>....................] - ETA: 0s - loss: 0.2196 - accuracy: 0.9609\n",
            "Epoch 109: saving model to model/keypoint_classifier\\keypoint_classifier.hdf5\n",
            "3/3 [==============================] - 0s 51ms/step - loss: 0.2635 - accuracy: 0.9439 - val_loss: 0.4349 - val_accuracy: 0.9158\n",
            "Epoch 110/1000\n",
            "1/3 [=========>....................] - ETA: 0s - loss: 0.2692 - accuracy: 0.9453\n",
            "Epoch 110: saving model to model/keypoint_classifier\\keypoint_classifier.hdf5\n",
            "3/3 [==============================] - 0s 48ms/step - loss: 0.3183 - accuracy: 0.9158 - val_loss: 0.4249 - val_accuracy: 0.9263\n",
            "Epoch 111/1000\n",
            "1/3 [=========>....................] - ETA: 0s - loss: 0.2458 - accuracy: 0.9531\n",
            "Epoch 111: saving model to model/keypoint_classifier\\keypoint_classifier.hdf5\n",
            "3/3 [==============================] - 0s 53ms/step - loss: 0.2852 - accuracy: 0.9333 - val_loss: 0.4162 - val_accuracy: 0.9474\n",
            "Epoch 112/1000\n",
            "1/3 [=========>....................] - ETA: 0s - loss: 0.2559 - accuracy: 0.9375\n",
            "Epoch 112: saving model to model/keypoint_classifier\\keypoint_classifier.hdf5\n",
            "3/3 [==============================] - 0s 49ms/step - loss: 0.2781 - accuracy: 0.9088 - val_loss: 0.4078 - val_accuracy: 0.9474\n",
            "Epoch 113/1000\n",
            "1/3 [=========>....................] - ETA: 0s - loss: 0.2596 - accuracy: 0.9141\n",
            "Epoch 113: saving model to model/keypoint_classifier\\keypoint_classifier.hdf5\n",
            "3/3 [==============================] - 0s 45ms/step - loss: 0.2420 - accuracy: 0.9333 - val_loss: 0.4018 - val_accuracy: 0.9474\n",
            "Epoch 114/1000\n",
            "1/3 [=========>....................] - ETA: 0s - loss: 0.2249 - accuracy: 0.9531\n",
            "Epoch 114: saving model to model/keypoint_classifier\\keypoint_classifier.hdf5\n",
            "3/3 [==============================] - 0s 50ms/step - loss: 0.2441 - accuracy: 0.9368 - val_loss: 0.3935 - val_accuracy: 0.9474\n",
            "Epoch 115/1000\n",
            "1/3 [=========>....................] - ETA: 0s - loss: 0.2121 - accuracy: 0.9453\n",
            "Epoch 115: saving model to model/keypoint_classifier\\keypoint_classifier.hdf5\n",
            "3/3 [==============================] - 0s 70ms/step - loss: 0.2403 - accuracy: 0.9228 - val_loss: 0.3887 - val_accuracy: 0.9474\n",
            "Epoch 116/1000\n",
            "1/3 [=========>....................] - ETA: 0s - loss: 0.2082 - accuracy: 0.9688\n",
            "Epoch 116: saving model to model/keypoint_classifier\\keypoint_classifier.hdf5\n",
            "3/3 [==============================] - 0s 47ms/step - loss: 0.2607 - accuracy: 0.9368 - val_loss: 0.3871 - val_accuracy: 0.9368\n",
            "Epoch 117/1000\n",
            "1/3 [=========>....................] - ETA: 0s - loss: 0.3101 - accuracy: 0.9219\n",
            "Epoch 117: saving model to model/keypoint_classifier\\keypoint_classifier.hdf5\n",
            "3/3 [==============================] - 0s 50ms/step - loss: 0.2487 - accuracy: 0.9439 - val_loss: 0.3797 - val_accuracy: 0.9263\n",
            "Epoch 118/1000\n",
            "1/3 [=========>....................] - ETA: 0s - loss: 0.1877 - accuracy: 0.9531\n",
            "Epoch 118: saving model to model/keypoint_classifier\\keypoint_classifier.hdf5\n",
            "3/3 [==============================] - 0s 47ms/step - loss: 0.2377 - accuracy: 0.9439 - val_loss: 0.3644 - val_accuracy: 0.9263\n",
            "Epoch 119/1000\n",
            "1/3 [=========>....................] - ETA: 0s - loss: 0.2503 - accuracy: 0.9219\n",
            "Epoch 119: saving model to model/keypoint_classifier\\keypoint_classifier.hdf5\n",
            "3/3 [==============================] - 0s 48ms/step - loss: 0.2619 - accuracy: 0.9228 - val_loss: 0.3446 - val_accuracy: 0.9368\n",
            "Epoch 120/1000\n",
            "1/3 [=========>....................] - ETA: 0s - loss: 0.2577 - accuracy: 0.9375\n",
            "Epoch 120: saving model to model/keypoint_classifier\\keypoint_classifier.hdf5\n",
            "3/3 [==============================] - 0s 49ms/step - loss: 0.2307 - accuracy: 0.9474 - val_loss: 0.3314 - val_accuracy: 0.9368\n",
            "Epoch 121/1000\n",
            "1/3 [=========>....................] - ETA: 0s - loss: 0.2887 - accuracy: 0.9219\n",
            "Epoch 121: saving model to model/keypoint_classifier\\keypoint_classifier.hdf5\n",
            "3/3 [==============================] - 0s 57ms/step - loss: 0.2608 - accuracy: 0.9263 - val_loss: 0.3230 - val_accuracy: 0.9368\n",
            "Epoch 122/1000\n",
            "1/3 [=========>....................] - ETA: 0s - loss: 0.2053 - accuracy: 0.9453\n",
            "Epoch 122: saving model to model/keypoint_classifier\\keypoint_classifier.hdf5\n",
            "3/3 [==============================] - 0s 47ms/step - loss: 0.1917 - accuracy: 0.9474 - val_loss: 0.3152 - val_accuracy: 0.9368\n",
            "Epoch 123/1000\n",
            "1/3 [=========>....................] - ETA: 0s - loss: 0.2657 - accuracy: 0.9219\n",
            "Epoch 123: saving model to model/keypoint_classifier\\keypoint_classifier.hdf5\n",
            "3/3 [==============================] - 0s 48ms/step - loss: 0.2581 - accuracy: 0.9263 - val_loss: 0.3073 - val_accuracy: 0.9368\n",
            "Epoch 124/1000\n",
            "1/3 [=========>....................] - ETA: 0s - loss: 0.2887 - accuracy: 0.9141\n",
            "Epoch 124: saving model to model/keypoint_classifier\\keypoint_classifier.hdf5\n",
            "3/3 [==============================] - 0s 49ms/step - loss: 0.2811 - accuracy: 0.9123 - val_loss: 0.2941 - val_accuracy: 0.9368\n",
            "Epoch 125/1000\n",
            "1/3 [=========>....................] - ETA: 0s - loss: 0.1868 - accuracy: 0.9609\n",
            "Epoch 125: saving model to model/keypoint_classifier\\keypoint_classifier.hdf5\n",
            "3/3 [==============================] - 0s 51ms/step - loss: 0.2001 - accuracy: 0.9474 - val_loss: 0.2851 - val_accuracy: 0.9474\n",
            "Epoch 126/1000\n",
            "1/3 [=========>....................] - ETA: 0s - loss: 0.1860 - accuracy: 0.9609\n",
            "Epoch 126: saving model to model/keypoint_classifier\\keypoint_classifier.hdf5\n",
            "3/3 [==============================] - 0s 47ms/step - loss: 0.1855 - accuracy: 0.9684 - val_loss: 0.2768 - val_accuracy: 0.9474\n",
            "Epoch 127/1000\n",
            "1/3 [=========>....................] - ETA: 0s - loss: 0.1484 - accuracy: 0.9766\n",
            "Epoch 127: saving model to model/keypoint_classifier\\keypoint_classifier.hdf5\n",
            "3/3 [==============================] - 0s 70ms/step - loss: 0.1946 - accuracy: 0.9579 - val_loss: 0.2666 - val_accuracy: 0.9579\n",
            "Epoch 128/1000\n",
            "1/3 [=========>....................] - ETA: 0s - loss: 0.2860 - accuracy: 0.9141\n",
            "Epoch 128: saving model to model/keypoint_classifier\\keypoint_classifier.hdf5\n",
            "3/3 [==============================] - 0s 51ms/step - loss: 0.2509 - accuracy: 0.9263 - val_loss: 0.2560 - val_accuracy: 0.9579\n",
            "Epoch 129/1000\n",
            "1/3 [=========>....................] - ETA: 0s - loss: 0.2020 - accuracy: 0.9531\n",
            "Epoch 129: saving model to model/keypoint_classifier\\keypoint_classifier.hdf5\n",
            "3/3 [==============================] - 0s 49ms/step - loss: 0.2405 - accuracy: 0.9368 - val_loss: 0.2488 - val_accuracy: 0.9579\n",
            "Epoch 130/1000\n",
            "1/3 [=========>....................] - ETA: 0s - loss: 0.1866 - accuracy: 0.9531\n",
            "Epoch 130: saving model to model/keypoint_classifier\\keypoint_classifier.hdf5\n",
            "3/3 [==============================] - 0s 50ms/step - loss: 0.2210 - accuracy: 0.9474 - val_loss: 0.2432 - val_accuracy: 0.9579\n",
            "Epoch 131/1000\n",
            "1/3 [=========>....................] - ETA: 0s - loss: 0.2191 - accuracy: 0.9609\n",
            "Epoch 131: saving model to model/keypoint_classifier\\keypoint_classifier.hdf5\n",
            "3/3 [==============================] - 0s 54ms/step - loss: 0.2325 - accuracy: 0.9509 - val_loss: 0.2427 - val_accuracy: 0.9579\n",
            "Epoch 132/1000\n",
            "1/3 [=========>....................] - ETA: 0s - loss: 0.1453 - accuracy: 0.9844\n",
            "Epoch 132: saving model to model/keypoint_classifier\\keypoint_classifier.hdf5\n",
            "3/3 [==============================] - 0s 47ms/step - loss: 0.1628 - accuracy: 0.9789 - val_loss: 0.2425 - val_accuracy: 0.9579\n",
            "Epoch 133/1000\n",
            "1/3 [=========>....................] - ETA: 0s - loss: 0.1732 - accuracy: 0.9609\n",
            "Epoch 133: saving model to model/keypoint_classifier\\keypoint_classifier.hdf5\n",
            "3/3 [==============================] - 0s 53ms/step - loss: 0.1852 - accuracy: 0.9544 - val_loss: 0.2410 - val_accuracy: 0.9684\n",
            "Epoch 134/1000\n",
            "1/3 [=========>....................] - ETA: 0s - loss: 0.1535 - accuracy: 0.9688\n",
            "Epoch 134: saving model to model/keypoint_classifier\\keypoint_classifier.hdf5\n",
            "3/3 [==============================] - 0s 49ms/step - loss: 0.1953 - accuracy: 0.9509 - val_loss: 0.2460 - val_accuracy: 0.9579\n",
            "Epoch 135/1000\n",
            "1/3 [=========>....................] - ETA: 0s - loss: 0.1478 - accuracy: 0.9609\n",
            "Epoch 135: saving model to model/keypoint_classifier\\keypoint_classifier.hdf5\n",
            "3/3 [==============================] - 0s 70ms/step - loss: 0.1984 - accuracy: 0.9509 - val_loss: 0.2474 - val_accuracy: 0.9579\n",
            "Epoch 136/1000\n",
            "1/3 [=========>....................] - ETA: 0s - loss: 0.2112 - accuracy: 0.9531\n",
            "Epoch 136: saving model to model/keypoint_classifier\\keypoint_classifier.hdf5\n",
            "3/3 [==============================] - 0s 49ms/step - loss: 0.1934 - accuracy: 0.9474 - val_loss: 0.2465 - val_accuracy: 0.9579\n",
            "Epoch 137/1000\n",
            "1/3 [=========>....................] - ETA: 0s - loss: 0.1976 - accuracy: 0.9688\n",
            "Epoch 137: saving model to model/keypoint_classifier\\keypoint_classifier.hdf5\n",
            "3/3 [==============================] - 0s 50ms/step - loss: 0.1992 - accuracy: 0.9544 - val_loss: 0.2431 - val_accuracy: 0.9579\n",
            "Epoch 138/1000\n",
            "1/3 [=========>....................] - ETA: 0s - loss: 0.1996 - accuracy: 0.9453\n",
            "Epoch 138: saving model to model/keypoint_classifier\\keypoint_classifier.hdf5\n",
            "3/3 [==============================] - 0s 50ms/step - loss: 0.1920 - accuracy: 0.9614 - val_loss: 0.2371 - val_accuracy: 0.9579\n",
            "Epoch 139/1000\n",
            "1/3 [=========>....................] - ETA: 0s - loss: 0.2437 - accuracy: 0.9219\n",
            "Epoch 139: saving model to model/keypoint_classifier\\keypoint_classifier.hdf5\n",
            "3/3 [==============================] - 0s 52ms/step - loss: 0.2162 - accuracy: 0.9368 - val_loss: 0.2341 - val_accuracy: 0.9579\n",
            "Epoch 140/1000\n",
            "1/3 [=========>....................] - ETA: 0s - loss: 0.2342 - accuracy: 0.9609\n",
            "Epoch 140: saving model to model/keypoint_classifier\\keypoint_classifier.hdf5\n",
            "3/3 [==============================] - 0s 45ms/step - loss: 0.2369 - accuracy: 0.9404 - val_loss: 0.2324 - val_accuracy: 0.9579\n",
            "Epoch 141/1000\n",
            "1/3 [=========>....................] - ETA: 0s - loss: 0.1783 - accuracy: 0.9688\n",
            "Epoch 141: saving model to model/keypoint_classifier\\keypoint_classifier.hdf5\n",
            "3/3 [==============================] - 0s 52ms/step - loss: 0.1879 - accuracy: 0.9649 - val_loss: 0.2315 - val_accuracy: 0.9579\n",
            "Epoch 142/1000\n",
            "1/3 [=========>....................] - ETA: 0s - loss: 0.2445 - accuracy: 0.9219\n",
            "Epoch 142: saving model to model/keypoint_classifier\\keypoint_classifier.hdf5\n",
            "3/3 [==============================] - 0s 54ms/step - loss: 0.2263 - accuracy: 0.9298 - val_loss: 0.2330 - val_accuracy: 0.9368\n",
            "Epoch 143/1000\n",
            "1/3 [=========>....................] - ETA: 0s - loss: 0.2161 - accuracy: 0.9375\n",
            "Epoch 143: saving model to model/keypoint_classifier\\keypoint_classifier.hdf5\n",
            "3/3 [==============================] - 0s 72ms/step - loss: 0.1994 - accuracy: 0.9439 - val_loss: 0.2311 - val_accuracy: 0.9368\n",
            "Epoch 144/1000\n",
            "1/3 [=========>....................] - ETA: 0s - loss: 0.1475 - accuracy: 0.9531\n",
            "Epoch 144: saving model to model/keypoint_classifier\\keypoint_classifier.hdf5\n",
            "3/3 [==============================] - 0s 48ms/step - loss: 0.1771 - accuracy: 0.9544 - val_loss: 0.2317 - val_accuracy: 0.9368\n",
            "Epoch 145/1000\n",
            "1/3 [=========>....................] - ETA: 0s - loss: 0.1751 - accuracy: 0.9531\n",
            "Epoch 145: saving model to model/keypoint_classifier\\keypoint_classifier.hdf5\n",
            "3/3 [==============================] - 0s 52ms/step - loss: 0.1855 - accuracy: 0.9649 - val_loss: 0.2337 - val_accuracy: 0.9368\n",
            "Epoch 146/1000\n",
            "1/3 [=========>....................] - ETA: 0s - loss: 0.1823 - accuracy: 0.9609\n",
            "Epoch 146: saving model to model/keypoint_classifier\\keypoint_classifier.hdf5\n",
            "3/3 [==============================] - 0s 69ms/step - loss: 0.2050 - accuracy: 0.9439 - val_loss: 0.2411 - val_accuracy: 0.9474\n",
            "Epoch 147/1000\n",
            "1/3 [=========>....................] - ETA: 0s - loss: 0.2520 - accuracy: 0.9375\n",
            "Epoch 147: saving model to model/keypoint_classifier\\keypoint_classifier.hdf5\n",
            "3/3 [==============================] - 0s 51ms/step - loss: 0.2323 - accuracy: 0.9474 - val_loss: 0.2768 - val_accuracy: 0.9474\n",
            "Epoch 148/1000\n",
            "1/3 [=========>....................] - ETA: 0s - loss: 0.1656 - accuracy: 0.9688\n",
            "Epoch 148: saving model to model/keypoint_classifier\\keypoint_classifier.hdf5\n",
            "3/3 [==============================] - 0s 53ms/step - loss: 0.2064 - accuracy: 0.9544 - val_loss: 0.3172 - val_accuracy: 0.9158\n",
            "Epoch 149/1000\n",
            "1/3 [=========>....................] - ETA: 0s - loss: 0.2551 - accuracy: 0.9297\n",
            "Epoch 149: saving model to model/keypoint_classifier\\keypoint_classifier.hdf5\n",
            "3/3 [==============================] - 0s 66ms/step - loss: 0.2046 - accuracy: 0.9614 - val_loss: 0.3185 - val_accuracy: 0.9053\n",
            "Epoch 150/1000\n",
            "1/3 [=========>....................] - ETA: 0s - loss: 0.2070 - accuracy: 0.9531\n",
            "Epoch 150: saving model to model/keypoint_classifier\\keypoint_classifier.hdf5\n",
            "3/3 [==============================] - 0s 50ms/step - loss: 0.2074 - accuracy: 0.9509 - val_loss: 0.2723 - val_accuracy: 0.9263\n",
            "Epoch 151/1000\n",
            "1/3 [=========>....................] - ETA: 0s - loss: 0.1570 - accuracy: 0.9609\n",
            "Epoch 151: saving model to model/keypoint_classifier\\keypoint_classifier.hdf5\n",
            "3/3 [==============================] - 0s 52ms/step - loss: 0.1646 - accuracy: 0.9579 - val_loss: 0.2329 - val_accuracy: 0.9579\n",
            "Epoch 152/1000\n",
            "1/3 [=========>....................] - ETA: 0s - loss: 0.1751 - accuracy: 0.9531\n",
            "Epoch 152: saving model to model/keypoint_classifier\\keypoint_classifier.hdf5\n",
            "3/3 [==============================] - 0s 52ms/step - loss: 0.1754 - accuracy: 0.9579 - val_loss: 0.2109 - val_accuracy: 0.9684\n",
            "Epoch 153/1000\n",
            "1/3 [=========>....................] - ETA: 0s - loss: 0.1992 - accuracy: 0.9297\n",
            "Epoch 153: saving model to model/keypoint_classifier\\keypoint_classifier.hdf5\n",
            "3/3 [==============================] - 0s 49ms/step - loss: 0.2063 - accuracy: 0.9333 - val_loss: 0.2036 - val_accuracy: 0.9684\n",
            "Epoch 154/1000\n",
            "1/3 [=========>....................] - ETA: 0s - loss: 0.1622 - accuracy: 0.9531\n",
            "Epoch 154: saving model to model/keypoint_classifier\\keypoint_classifier.hdf5\n",
            "3/3 [==============================] - 0s 50ms/step - loss: 0.1760 - accuracy: 0.9509 - val_loss: 0.1987 - val_accuracy: 0.9684\n",
            "Epoch 155/1000\n",
            "1/3 [=========>....................] - ETA: 0s - loss: 0.2296 - accuracy: 0.9375\n",
            "Epoch 155: saving model to model/keypoint_classifier\\keypoint_classifier.hdf5\n",
            "3/3 [==============================] - 0s 65ms/step - loss: 0.2040 - accuracy: 0.9509 - val_loss: 0.1891 - val_accuracy: 0.9684\n",
            "Epoch 156/1000\n",
            "1/3 [=========>....................] - ETA: 0s - loss: 0.1140 - accuracy: 0.9844\n",
            "Epoch 156: saving model to model/keypoint_classifier\\keypoint_classifier.hdf5\n",
            "3/3 [==============================] - 0s 51ms/step - loss: 0.1623 - accuracy: 0.9579 - val_loss: 0.1827 - val_accuracy: 0.9789\n",
            "Epoch 157/1000\n",
            "1/3 [=========>....................] - ETA: 0s - loss: 0.1626 - accuracy: 0.9531\n",
            "Epoch 157: saving model to model/keypoint_classifier\\keypoint_classifier.hdf5\n",
            "3/3 [==============================] - 0s 50ms/step - loss: 0.1943 - accuracy: 0.9404 - val_loss: 0.1736 - val_accuracy: 0.9579\n",
            "Epoch 158/1000\n",
            "1/3 [=========>....................] - ETA: 0s - loss: 0.1449 - accuracy: 0.9844\n",
            "Epoch 158: saving model to model/keypoint_classifier\\keypoint_classifier.hdf5\n",
            "3/3 [==============================] - 0s 53ms/step - loss: 0.1647 - accuracy: 0.9684 - val_loss: 0.1606 - val_accuracy: 0.9789\n",
            "Epoch 159/1000\n",
            "1/3 [=========>....................] - ETA: 0s - loss: 0.1257 - accuracy: 0.9844\n",
            "Epoch 159: saving model to model/keypoint_classifier\\keypoint_classifier.hdf5\n",
            "3/3 [==============================] - 0s 57ms/step - loss: 0.1579 - accuracy: 0.9684 - val_loss: 0.1521 - val_accuracy: 0.9789\n",
            "Epoch 160/1000\n",
            "1/3 [=========>....................] - ETA: 0s - loss: 0.1980 - accuracy: 0.9375\n",
            "Epoch 160: saving model to model/keypoint_classifier\\keypoint_classifier.hdf5\n",
            "3/3 [==============================] - 0s 85ms/step - loss: 0.1722 - accuracy: 0.9509 - val_loss: 0.1477 - val_accuracy: 0.9789\n",
            "Epoch 161/1000\n",
            "1/3 [=========>....................] - ETA: 0s - loss: 0.1443 - accuracy: 0.9844\n",
            "Epoch 161: saving model to model/keypoint_classifier\\keypoint_classifier.hdf5\n",
            "3/3 [==============================] - 0s 59ms/step - loss: 0.1552 - accuracy: 0.9825 - val_loss: 0.1485 - val_accuracy: 0.9684\n",
            "Epoch 162/1000\n",
            "1/3 [=========>....................] - ETA: 0s - loss: 0.1747 - accuracy: 0.9531\n",
            "Epoch 162: saving model to model/keypoint_classifier\\keypoint_classifier.hdf5\n",
            "3/3 [==============================] - 0s 64ms/step - loss: 0.1552 - accuracy: 0.9614 - val_loss: 0.1498 - val_accuracy: 0.9684\n",
            "Epoch 163/1000\n",
            "1/3 [=========>....................] - ETA: 0s - loss: 0.1667 - accuracy: 0.9531\n",
            "Epoch 163: saving model to model/keypoint_classifier\\keypoint_classifier.hdf5\n",
            "3/3 [==============================] - 0s 85ms/step - loss: 0.1990 - accuracy: 0.9368 - val_loss: 0.1516 - val_accuracy: 0.9684\n",
            "Epoch 164/1000\n",
            "1/3 [=========>....................] - ETA: 0s - loss: 0.1941 - accuracy: 0.9453\n",
            "Epoch 164: saving model to model/keypoint_classifier\\keypoint_classifier.hdf5\n",
            "3/3 [==============================] - 0s 65ms/step - loss: 0.2041 - accuracy: 0.9474 - val_loss: 0.1558 - val_accuracy: 0.9579\n",
            "Epoch 165/1000\n",
            "1/3 [=========>....................] - ETA: 0s - loss: 0.1357 - accuracy: 0.9766\n",
            "Epoch 165: saving model to model/keypoint_classifier\\keypoint_classifier.hdf5\n",
            "3/3 [==============================] - 0s 63ms/step - loss: 0.1668 - accuracy: 0.9544 - val_loss: 0.1616 - val_accuracy: 0.9579\n",
            "Epoch 166/1000\n",
            "1/3 [=========>....................] - ETA: 0s - loss: 0.1881 - accuracy: 0.9609\n",
            "Epoch 166: saving model to model/keypoint_classifier\\keypoint_classifier.hdf5\n",
            "3/3 [==============================] - 0s 63ms/step - loss: 0.2001 - accuracy: 0.9544 - val_loss: 0.1647 - val_accuracy: 0.9579\n",
            "Epoch 167/1000\n",
            "1/3 [=========>....................] - ETA: 0s - loss: 0.1472 - accuracy: 0.9609\n",
            "Epoch 167: saving model to model/keypoint_classifier\\keypoint_classifier.hdf5\n",
            "3/3 [==============================] - 0s 89ms/step - loss: 0.1853 - accuracy: 0.9544 - val_loss: 0.1630 - val_accuracy: 0.9579\n",
            "Epoch 168/1000\n",
            "1/3 [=========>....................] - ETA: 0s - loss: 0.1644 - accuracy: 0.9609\n",
            "Epoch 168: saving model to model/keypoint_classifier\\keypoint_classifier.hdf5\n",
            "3/3 [==============================] - 0s 68ms/step - loss: 0.1837 - accuracy: 0.9614 - val_loss: 0.1605 - val_accuracy: 0.9579\n",
            "Epoch 169/1000\n",
            "1/3 [=========>....................] - ETA: 0s - loss: 0.1288 - accuracy: 0.9688\n",
            "Epoch 169: saving model to model/keypoint_classifier\\keypoint_classifier.hdf5\n",
            "3/3 [==============================] - 0s 64ms/step - loss: 0.1506 - accuracy: 0.9544 - val_loss: 0.1544 - val_accuracy: 0.9684\n",
            "Epoch 170/1000\n",
            "1/3 [=========>....................] - ETA: 0s - loss: 0.1405 - accuracy: 0.9688\n",
            "Epoch 170: saving model to model/keypoint_classifier\\keypoint_classifier.hdf5\n",
            "3/3 [==============================] - 0s 62ms/step - loss: 0.1326 - accuracy: 0.9649 - val_loss: 0.1505 - val_accuracy: 0.9684\n",
            "Epoch 171/1000\n",
            "1/3 [=========>....................] - ETA: 0s - loss: 0.1018 - accuracy: 0.9922\n",
            "Epoch 171: saving model to model/keypoint_classifier\\keypoint_classifier.hdf5\n",
            "3/3 [==============================] - 0s 60ms/step - loss: 0.1539 - accuracy: 0.9614 - val_loss: 0.1427 - val_accuracy: 0.9684\n",
            "Epoch 172/1000\n",
            "1/3 [=========>....................] - ETA: 0s - loss: 0.1095 - accuracy: 0.9844\n",
            "Epoch 172: saving model to model/keypoint_classifier\\keypoint_classifier.hdf5\n",
            "3/3 [==============================] - 0s 83ms/step - loss: 0.1514 - accuracy: 0.9719 - val_loss: 0.1278 - val_accuracy: 0.9684\n",
            "Epoch 173/1000\n",
            "1/3 [=========>....................] - ETA: 0s - loss: 0.1809 - accuracy: 0.9609\n",
            "Epoch 173: saving model to model/keypoint_classifier\\keypoint_classifier.hdf5\n",
            "3/3 [==============================] - 0s 64ms/step - loss: 0.1691 - accuracy: 0.9474 - val_loss: 0.1180 - val_accuracy: 0.9684\n",
            "Epoch 174/1000\n",
            "1/3 [=========>....................] - ETA: 0s - loss: 0.1635 - accuracy: 0.9609\n",
            "Epoch 174: saving model to model/keypoint_classifier\\keypoint_classifier.hdf5\n",
            "3/3 [==============================] - 0s 61ms/step - loss: 0.1707 - accuracy: 0.9404 - val_loss: 0.1157 - val_accuracy: 0.9684\n",
            "Epoch 175/1000\n",
            "1/3 [=========>....................] - ETA: 0s - loss: 0.1285 - accuracy: 0.9609\n",
            "Epoch 175: saving model to model/keypoint_classifier\\keypoint_classifier.hdf5\n",
            "3/3 [==============================] - 0s 62ms/step - loss: 0.1306 - accuracy: 0.9719 - val_loss: 0.1130 - val_accuracy: 0.9684\n",
            "Epoch 176/1000\n",
            "1/3 [=========>....................] - ETA: 0s - loss: 0.1728 - accuracy: 0.9609\n",
            "Epoch 176: saving model to model/keypoint_classifier\\keypoint_classifier.hdf5\n",
            "3/3 [==============================] - 0s 64ms/step - loss: 0.1729 - accuracy: 0.9544 - val_loss: 0.1095 - val_accuracy: 0.9684\n",
            "Epoch 177/1000\n",
            "1/3 [=========>....................] - ETA: 0s - loss: 0.1134 - accuracy: 0.9922\n",
            "Epoch 177: saving model to model/keypoint_classifier\\keypoint_classifier.hdf5\n",
            "3/3 [==============================] - 0s 87ms/step - loss: 0.1550 - accuracy: 0.9649 - val_loss: 0.1083 - val_accuracy: 0.9684\n",
            "Epoch 178/1000\n",
            "1/3 [=========>....................] - ETA: 0s - loss: 0.1703 - accuracy: 0.9531\n",
            "Epoch 178: saving model to model/keypoint_classifier\\keypoint_classifier.hdf5\n",
            "3/3 [==============================] - 0s 61ms/step - loss: 0.1647 - accuracy: 0.9544 - val_loss: 0.1044 - val_accuracy: 0.9684\n",
            "Epoch 179/1000\n",
            "1/3 [=========>....................] - ETA: 0s - loss: 0.1363 - accuracy: 0.9766\n",
            "Epoch 179: saving model to model/keypoint_classifier\\keypoint_classifier.hdf5\n",
            "3/3 [==============================] - 0s 63ms/step - loss: 0.1786 - accuracy: 0.9579 - val_loss: 0.1074 - val_accuracy: 0.9684\n",
            "Epoch 180/1000\n",
            "1/3 [=========>....................] - ETA: 0s - loss: 0.1114 - accuracy: 0.9844\n",
            "Epoch 180: saving model to model/keypoint_classifier\\keypoint_classifier.hdf5\n",
            "3/3 [==============================] - 0s 62ms/step - loss: 0.1647 - accuracy: 0.9544 - val_loss: 0.1122 - val_accuracy: 0.9684\n",
            "Epoch 181/1000\n",
            "1/3 [=========>....................] - ETA: 0s - loss: 0.1157 - accuracy: 0.9844\n",
            "Epoch 181: saving model to model/keypoint_classifier\\keypoint_classifier.hdf5\n",
            "3/3 [==============================] - 0s 59ms/step - loss: 0.1576 - accuracy: 0.9579 - val_loss: 0.1171 - val_accuracy: 0.9684\n",
            "Epoch 182/1000\n",
            "1/3 [=========>....................] - ETA: 0s - loss: 0.1345 - accuracy: 0.9766\n",
            "Epoch 182: saving model to model/keypoint_classifier\\keypoint_classifier.hdf5\n",
            "3/3 [==============================] - 0s 62ms/step - loss: 0.1567 - accuracy: 0.9649 - val_loss: 0.1206 - val_accuracy: 0.9684\n",
            "Epoch 183/1000\n",
            "1/3 [=========>....................] - ETA: 0s - loss: 0.0993 - accuracy: 0.9766\n",
            "Epoch 183: saving model to model/keypoint_classifier\\keypoint_classifier.hdf5\n",
            "3/3 [==============================] - 0s 61ms/step - loss: 0.1068 - accuracy: 0.9754 - val_loss: 0.1226 - val_accuracy: 0.9684\n",
            "Epoch 184/1000\n",
            "1/3 [=========>....................] - ETA: 0s - loss: 0.2032 - accuracy: 0.9531\n",
            "Epoch 184: saving model to model/keypoint_classifier\\keypoint_classifier.hdf5\n",
            "3/3 [==============================] - 0s 61ms/step - loss: 0.1584 - accuracy: 0.9649 - val_loss: 0.1192 - val_accuracy: 0.9684\n",
            "Epoch 185/1000\n",
            "1/3 [=========>....................] - ETA: 0s - loss: 0.0770 - accuracy: 0.9844\n",
            "Epoch 185: saving model to model/keypoint_classifier\\keypoint_classifier.hdf5\n",
            "3/3 [==============================] - 0s 84ms/step - loss: 0.1227 - accuracy: 0.9789 - val_loss: 0.1171 - val_accuracy: 0.9684\n",
            "Epoch 186/1000\n",
            "1/3 [=========>....................] - ETA: 0s - loss: 0.1281 - accuracy: 0.9531\n",
            "Epoch 186: saving model to model/keypoint_classifier\\keypoint_classifier.hdf5\n",
            "3/3 [==============================] - 0s 59ms/step - loss: 0.1152 - accuracy: 0.9649 - val_loss: 0.1182 - val_accuracy: 0.9684\n",
            "Epoch 187/1000\n",
            "1/3 [=========>....................] - ETA: 0s - loss: 0.0985 - accuracy: 0.9844\n",
            "Epoch 187: saving model to model/keypoint_classifier\\keypoint_classifier.hdf5\n",
            "3/3 [==============================] - 0s 67ms/step - loss: 0.1064 - accuracy: 0.9825 - val_loss: 0.1196 - val_accuracy: 0.9684\n",
            "Epoch 188/1000\n",
            "1/3 [=========>....................] - ETA: 0s - loss: 0.1493 - accuracy: 0.9531\n",
            "Epoch 188: saving model to model/keypoint_classifier\\keypoint_classifier.hdf5\n",
            "3/3 [==============================] - 0s 60ms/step - loss: 0.1478 - accuracy: 0.9509 - val_loss: 0.1195 - val_accuracy: 0.9684\n",
            "Epoch 189/1000\n",
            "1/3 [=========>....................] - ETA: 0s - loss: 0.1435 - accuracy: 0.9844\n",
            "Epoch 189: saving model to model/keypoint_classifier\\keypoint_classifier.hdf5\n",
            "3/3 [==============================] - 0s 61ms/step - loss: 0.1658 - accuracy: 0.9719 - val_loss: 0.1200 - val_accuracy: 0.9789\n",
            "Epoch 190/1000\n",
            "1/3 [=========>....................] - ETA: 0s - loss: 0.0784 - accuracy: 1.0000\n",
            "Epoch 190: saving model to model/keypoint_classifier\\keypoint_classifier.hdf5\n",
            "3/3 [==============================] - 0s 84ms/step - loss: 0.1272 - accuracy: 0.9719 - val_loss: 0.1161 - val_accuracy: 0.9684\n",
            "Epoch 191/1000\n",
            "1/3 [=========>....................] - ETA: 0s - loss: 0.1435 - accuracy: 0.9688\n",
            "Epoch 191: saving model to model/keypoint_classifier\\keypoint_classifier.hdf5\n",
            "3/3 [==============================] - 0s 64ms/step - loss: 0.1258 - accuracy: 0.9754 - val_loss: 0.1124 - val_accuracy: 0.9684\n",
            "Epoch 192/1000\n",
            "1/3 [=========>....................] - ETA: 0s - loss: 0.1497 - accuracy: 0.9531\n",
            "Epoch 192: saving model to model/keypoint_classifier\\keypoint_classifier.hdf5\n",
            "3/3 [==============================] - 0s 60ms/step - loss: 0.1185 - accuracy: 0.9684 - val_loss: 0.1021 - val_accuracy: 0.9789\n",
            "Epoch 193/1000\n",
            "1/3 [=========>....................] - ETA: 0s - loss: 0.1832 - accuracy: 0.9375\n",
            "Epoch 193: saving model to model/keypoint_classifier\\keypoint_classifier.hdf5\n",
            "3/3 [==============================] - 0s 60ms/step - loss: 0.1551 - accuracy: 0.9474 - val_loss: 0.0949 - val_accuracy: 0.9684\n",
            "Epoch 194/1000\n",
            "1/3 [=========>....................] - ETA: 0s - loss: 0.1817 - accuracy: 0.9453\n",
            "Epoch 194: saving model to model/keypoint_classifier\\keypoint_classifier.hdf5\n",
            "3/3 [==============================] - 0s 60ms/step - loss: 0.1545 - accuracy: 0.9579 - val_loss: 0.0980 - val_accuracy: 0.9579\n",
            "Epoch 195/1000\n",
            "1/3 [=========>....................] - ETA: 0s - loss: 0.1495 - accuracy: 0.9609\n",
            "Epoch 195: saving model to model/keypoint_classifier\\keypoint_classifier.hdf5\n",
            "3/3 [==============================] - 0s 65ms/step - loss: 0.1303 - accuracy: 0.9684 - val_loss: 0.1092 - val_accuracy: 0.9579\n",
            "Epoch 196/1000\n",
            "1/3 [=========>....................] - ETA: 0s - loss: 0.1641 - accuracy: 0.9609\n",
            "Epoch 196: saving model to model/keypoint_classifier\\keypoint_classifier.hdf5\n",
            "3/3 [==============================] - 0s 63ms/step - loss: 0.1263 - accuracy: 0.9719 - val_loss: 0.1197 - val_accuracy: 0.9579\n",
            "Epoch 197/1000\n",
            "1/3 [=========>....................] - ETA: 0s - loss: 0.1380 - accuracy: 0.9688\n",
            "Epoch 197: saving model to model/keypoint_classifier\\keypoint_classifier.hdf5\n",
            "3/3 [==============================] - 0s 62ms/step - loss: 0.1314 - accuracy: 0.9579 - val_loss: 0.1275 - val_accuracy: 0.9474\n",
            "Epoch 198/1000\n",
            "1/3 [=========>....................] - ETA: 0s - loss: 0.0709 - accuracy: 0.9922\n",
            "Epoch 198: saving model to model/keypoint_classifier\\keypoint_classifier.hdf5\n",
            "3/3 [==============================] - 0s 62ms/step - loss: 0.0992 - accuracy: 0.9825 - val_loss: 0.1330 - val_accuracy: 0.9579\n",
            "Epoch 199/1000\n",
            "1/3 [=========>....................] - ETA: 0s - loss: 0.1387 - accuracy: 0.9453\n",
            "Epoch 199: saving model to model/keypoint_classifier\\keypoint_classifier.hdf5\n",
            "3/3 [==============================] - 0s 58ms/step - loss: 0.1319 - accuracy: 0.9579 - val_loss: 0.1381 - val_accuracy: 0.9579\n",
            "Epoch 200/1000\n",
            "1/3 [=========>....................] - ETA: 0s - loss: 0.0968 - accuracy: 0.9688\n",
            "Epoch 200: saving model to model/keypoint_classifier\\keypoint_classifier.hdf5\n",
            "3/3 [==============================] - 0s 82ms/step - loss: 0.1128 - accuracy: 0.9684 - val_loss: 0.1447 - val_accuracy: 0.9579\n",
            "Epoch 201/1000\n",
            "1/3 [=========>....................] - ETA: 0s - loss: 0.1467 - accuracy: 0.9609\n",
            "Epoch 201: saving model to model/keypoint_classifier\\keypoint_classifier.hdf5\n",
            "3/3 [==============================] - 0s 64ms/step - loss: 0.1403 - accuracy: 0.9544 - val_loss: 0.1407 - val_accuracy: 0.9579\n",
            "Epoch 202/1000\n",
            "1/3 [=========>....................] - ETA: 0s - loss: 0.1224 - accuracy: 0.9688\n",
            "Epoch 202: saving model to model/keypoint_classifier\\keypoint_classifier.hdf5\n",
            "3/3 [==============================] - 0s 58ms/step - loss: 0.1023 - accuracy: 0.9789 - val_loss: 0.1332 - val_accuracy: 0.9684\n",
            "Epoch 203/1000\n",
            "1/3 [=========>....................] - ETA: 0s - loss: 0.1166 - accuracy: 0.9531\n",
            "Epoch 203: saving model to model/keypoint_classifier\\keypoint_classifier.hdf5\n",
            "3/3 [==============================] - 0s 63ms/step - loss: 0.1064 - accuracy: 0.9719 - val_loss: 0.1257 - val_accuracy: 0.9684\n",
            "Epoch 204/1000\n",
            "1/3 [=========>....................] - ETA: 0s - loss: 0.1292 - accuracy: 0.9609\n",
            "Epoch 204: saving model to model/keypoint_classifier\\keypoint_classifier.hdf5\n",
            "3/3 [==============================] - 0s 57ms/step - loss: 0.1336 - accuracy: 0.9614 - val_loss: 0.1191 - val_accuracy: 0.9684\n",
            "Epoch 205/1000\n",
            "1/3 [=========>....................] - ETA: 0s - loss: 0.0846 - accuracy: 0.9922\n",
            "Epoch 205: saving model to model/keypoint_classifier\\keypoint_classifier.hdf5\n",
            "3/3 [==============================] - 0s 83ms/step - loss: 0.1363 - accuracy: 0.9614 - val_loss: 0.1136 - val_accuracy: 0.9684\n",
            "Epoch 206/1000\n",
            "1/3 [=========>....................] - ETA: 0s - loss: 0.1057 - accuracy: 0.9766\n",
            "Epoch 206: saving model to model/keypoint_classifier\\keypoint_classifier.hdf5\n",
            "3/3 [==============================] - 0s 69ms/step - loss: 0.0977 - accuracy: 0.9825 - val_loss: 0.1134 - val_accuracy: 0.9579\n",
            "Epoch 207/1000\n",
            "1/3 [=========>....................] - ETA: 0s - loss: 0.1141 - accuracy: 0.9609\n",
            "Epoch 207: saving model to model/keypoint_classifier\\keypoint_classifier.hdf5\n",
            "3/3 [==============================] - 0s 72ms/step - loss: 0.1388 - accuracy: 0.9649 - val_loss: 0.1109 - val_accuracy: 0.9579\n",
            "Epoch 208/1000\n",
            "1/3 [=========>....................] - ETA: 0s - loss: 0.1425 - accuracy: 0.9531\n",
            "Epoch 208: saving model to model/keypoint_classifier\\keypoint_classifier.hdf5\n",
            "3/3 [==============================] - 0s 66ms/step - loss: 0.1297 - accuracy: 0.9544 - val_loss: 0.1065 - val_accuracy: 0.9684\n",
            "Epoch 209/1000\n",
            "1/3 [=========>....................] - ETA: 0s - loss: 0.1140 - accuracy: 0.9844\n",
            "Epoch 209: saving model to model/keypoint_classifier\\keypoint_classifier.hdf5\n",
            "3/3 [==============================] - 0s 94ms/step - loss: 0.0893 - accuracy: 0.9860 - val_loss: 0.1056 - val_accuracy: 0.9684\n",
            "Epoch 210/1000\n",
            "1/3 [=========>....................] - ETA: 0s - loss: 0.1289 - accuracy: 0.9766\n",
            "Epoch 210: saving model to model/keypoint_classifier\\keypoint_classifier.hdf5\n",
            "3/3 [==============================] - 0s 75ms/step - loss: 0.1667 - accuracy: 0.9614 - val_loss: 0.1151 - val_accuracy: 0.9579\n",
            "Epoch 211/1000\n",
            "1/3 [=========>....................] - ETA: 0s - loss: 0.0955 - accuracy: 0.9688\n",
            "Epoch 211: saving model to model/keypoint_classifier\\keypoint_classifier.hdf5\n",
            "3/3 [==============================] - 0s 64ms/step - loss: 0.1050 - accuracy: 0.9754 - val_loss: 0.1287 - val_accuracy: 0.9579\n",
            "Epoch 212/1000\n",
            "1/3 [=========>....................] - ETA: 0s - loss: 0.1457 - accuracy: 0.9688\n",
            "Epoch 212: saving model to model/keypoint_classifier\\keypoint_classifier.hdf5\n",
            "3/3 [==============================] - 0s 62ms/step - loss: 0.1549 - accuracy: 0.9579 - val_loss: 0.1382 - val_accuracy: 0.9579\n",
            "Epoch 213/1000\n",
            "1/3 [=========>....................] - ETA: 0s - loss: 0.1448 - accuracy: 0.9531\n",
            "Epoch 213: saving model to model/keypoint_classifier\\keypoint_classifier.hdf5\n",
            "3/3 [==============================] - 0s 58ms/step - loss: 0.1472 - accuracy: 0.9614 - val_loss: 0.1428 - val_accuracy: 0.9368\n",
            "Epoch 213: early stopping\n"
          ]
        },
        {
          "data": {
            "text/plain": [
              "<keras.src.callbacks.History at 0x18f503ba830>"
            ]
          },
          "execution_count": 297,
          "metadata": {},
          "output_type": "execute_result"
        }
      ],
      "source": [
        "model.fit(\n",
        "    X_train,\n",
        "    y_train,\n",
        "    epochs=1000,\n",
        "    batch_size=128,\n",
        "    validation_data=(X_test, y_test),\n",
        "    callbacks=[cp_callback, es_callback]\n",
        ")"
      ]
    },
    {
      "cell_type": "code",
      "execution_count": 298,
      "metadata": {
        "colab": {
          "base_uri": "https://localhost:8080/"
        },
        "id": "pxvb2Y299hE3",
        "outputId": "59eb3185-2e37-4b9e-bc9d-ab1b8ac29b7f"
      },
      "outputs": [
        {
          "name": "stdout",
          "output_type": "stream",
          "text": [
            "1/1 [==============================] - 0s 46ms/step - loss: 0.1428 - accuracy: 0.9368\n"
          ]
        }
      ],
      "source": [
        "# Model evaluation\n",
        "val_loss, val_acc = model.evaluate(X_test, y_test, batch_size=128)"
      ]
    },
    {
      "cell_type": "code",
      "execution_count": 299,
      "metadata": {
        "id": "RBkmDeUW9hE4"
      },
      "outputs": [],
      "source": [
        "# Loading the saved model\n",
        "model = tf.keras.models.load_model(model_save_path)"
      ]
    },
    {
      "cell_type": "code",
      "execution_count": 300,
      "metadata": {
        "colab": {
          "base_uri": "https://localhost:8080/"
        },
        "id": "tFz9Tb0I9hE4",
        "outputId": "1c3b3528-54ae-4ee2-ab04-77429211cbef"
      },
      "outputs": [
        {
          "name": "stdout",
          "output_type": "stream",
          "text": [
            "1/1 [==============================] - 0s 143ms/step\n",
            "[4.2276562e-05 6.3606394e-06 8.0386584e-05 4.9270515e-04 4.6045811e-06\n",
            " 2.3348506e-04 1.5633024e-05 6.4641522e-04 9.9842286e-01 4.5266381e-05\n",
            " 1.0003093e-05]\n",
            "8\n"
          ]
        }
      ],
      "source": [
        "# Inference test\n",
        "predict_result = model.predict(np.array([X_test[0]]))\n",
        "print(np.squeeze(predict_result))\n",
        "print(np.argmax(np.squeeze(predict_result)))"
      ]
    },
    {
      "cell_type": "markdown",
      "metadata": {
        "id": "S3U4yNWx9hE4"
      },
      "source": [
        "# Confusion matrix"
      ]
    },
    {
      "cell_type": "code",
      "execution_count": 301,
      "metadata": {
        "colab": {
          "base_uri": "https://localhost:8080/",
          "height": 582
        },
        "id": "AP1V6SCk9hE5",
        "outputId": "08e41a80-7a4a-4619-8125-ecc371368d19"
      },
      "outputs": [
        {
          "name": "stdout",
          "output_type": "stream",
          "text": [
            "3/3 [==============================] - 0s 3ms/step\n"
          ]
        },
        {
          "data": {
            "image/png": "[encoded data removed]",
            "text/plain": [
              "<Figure size 700x600 with 2 Axes>"
            ]
          },
          "metadata": {},
          "output_type": "display_data"
        },
        {
          "name": "stdout",
          "output_type": "stream",
          "text": [
            "Classification Report\n",
            "              precision    recall  f1-score   support\n",
            "\n",
            "           0       1.00      0.70      0.82        10\n",
            "           1       1.00      1.00      1.00        10\n",
            "           2       1.00      1.00      1.00        10\n",
            "           3       1.00      0.82      0.90        11\n",
            "           4       0.60      0.75      0.67         4\n",
            "           5       1.00      1.00      1.00         4\n",
            "           6       1.00      1.00      1.00         3\n",
            "           7       1.00      1.00      1.00        10\n",
            "           8       1.00      1.00      1.00        10\n",
            "           9       1.00      1.00      1.00         5\n",
            "          10       0.82      1.00      0.90        18\n",
            "\n",
            "    accuracy                           0.94        95\n",
            "   macro avg       0.95      0.93      0.94        95\n",
            "weighted avg       0.95      0.94      0.94        95\n",
            "\n"
          ]
        }
      ],
      "source": [
        "import pandas as pd\n",
        "import seaborn as sns\n",
        "import matplotlib.pyplot as plt\n",
        "from sklearn.metrics import confusion_matrix, classification_report\n",
        "\n",
        "def print_confusion_matrix(y_true, y_pred, report=True):\n",
        "    labels = sorted(list(set(y_true)))\n",
        "    cmx_data = confusion_matrix(y_true, y_pred, labels=labels)\n",
        "    \n",
        "    df_cmx = pd.DataFrame(cmx_data, index=labels, columns=labels)\n",
        " \n",
        "    fig, ax = plt.subplots(figsize=(7, 6))\n",
        "    sns.heatmap(df_cmx, annot=True, fmt='g' ,square=False)\n",
        "    ax.set_ylim(len(set(y_true)), 0)\n",
        "    plt.show()\n",
        "    \n",
        "    if report:\n",
        "        print('Classification Report')\n",
        "        print(classification_report(y_test, y_pred))\n",
        "\n",
        "Y_pred = model.predict(X_test)\n",
        "y_pred = np.argmax(Y_pred, axis=1)\n",
        "\n",
        "print_confusion_matrix(y_test, y_pred)"
      ]
    },
    {
      "cell_type": "markdown",
      "metadata": {
        "id": "FNP6aqzc9hE5"
      },
      "source": [
        "# Convert to model for Tensorflow-Lite"
      ]
    },
    {
      "cell_type": "code",
      "execution_count": 302,
      "metadata": {
        "id": "ODjnYyld9hE6"
      },
      "outputs": [
        {
          "name": "stderr",
          "output_type": "stream",
          "text": [
            "C:\\Users\\Cristina\\AppData\\Roaming\\Python\\Python310\\site-packages\\keras\\src\\engine\\training.py:3079: UserWarning: You are saving your model as an HDF5 file via `model.save()`. This file format is considered legacy. We recommend using instead the native Keras format, e.g. `model.save('my_model.keras')`.\n",
            "  saving_api.save_model(\n"
          ]
        }
      ],
      "source": [
        "# Save as a model dedicated to inference\n",
        "model.save(model_save_path, include_optimizer=False)"
      ]
    },
    {
      "cell_type": "code",
      "execution_count": 303,
      "metadata": {
        "colab": {
          "base_uri": "https://localhost:8080/"
        },
        "id": "zRfuK8Y59hE6",
        "outputId": "a4ca585c-b5d5-4244-8291-8674063209bb"
      },
      "outputs": [
        {
          "name": "stdout",
          "output_type": "stream",
          "text": [
            "INFO:tensorflow:Assets written to: C:\\Users\\Cristina\\AppData\\Local\\Temp\\tmp5q3mc9t_\\assets\n"
          ]
        },
        {
          "name": "stderr",
          "output_type": "stream",
          "text": [
            "INFO:tensorflow:Assets written to: C:\\Users\\Cristina\\AppData\\Local\\Temp\\tmp5q3mc9t_\\assets\n"
          ]
        },
        {
          "data": {
            "text/plain": [
              "60000"
            ]
          },
          "execution_count": 303,
          "metadata": {},
          "output_type": "execute_result"
        }
      ],
      "source": [
        "# Transform model (quantization)\n",
        "\n",
        "converter = tf.lite.TFLiteConverter.from_keras_model(model)\n",
        "converter.optimizations = [tf.lite.Optimize.DEFAULT]\n",
        "tflite_quantized_model = converter.convert()\n",
        "\n",
        "open(tflite_save_path, 'wb').write(tflite_quantized_model)"
      ]
    },
    {
      "cell_type": "markdown",
      "metadata": {
        "id": "CHBPBXdx9hE6"
      },
      "source": [
        "# Inference test"
      ]
    },
    {
      "cell_type": "code",
      "execution_count": 304,
      "metadata": {
        "id": "mGAzLocO9hE7"
      },
      "outputs": [],
      "source": [
        "interpreter = tf.lite.Interpreter(model_path=tflite_save_path)\n",
        "interpreter.allocate_tensors()"
      ]
    },
    {
      "cell_type": "code",
      "execution_count": 305,
      "metadata": {
        "id": "oQuDK8YS9hE7"
      },
      "outputs": [],
      "source": [
        "# Get I / O tensor\n",
        "input_details = interpreter.get_input_details()\n",
        "output_details = interpreter.get_output_details()"
      ]
    },
    {
      "cell_type": "code",
      "execution_count": 306,
      "metadata": {
        "id": "2_ixAf_l9hE7"
      },
      "outputs": [],
      "source": [
        "interpreter.set_tensor(input_details[0]['index'], np.array([X_test[0]]))"
      ]
    },
    {
      "cell_type": "code",
      "execution_count": 307,
      "metadata": {
        "colab": {
          "base_uri": "https://localhost:8080/"
        },
        "id": "s4FoAnuc9hE7",
        "outputId": "91f18257-8d8b-4ef3-c558-e9b5f94fabbf",
        "scrolled": true
      },
      "outputs": [
        {
          "name": "stdout",
          "output_type": "stream",
          "text": [
            "CPU times: total: 0 ns\n",
            "Wall time: 0 ns\n"
          ]
        }
      ],
      "source": [
        "%%time\n",
        "# Inference implementation\n",
        "interpreter.invoke()\n",
        "tflite_results = interpreter.get_tensor(output_details[0]['index'])"
      ]
    },
    {
      "cell_type": "code",
      "execution_count": 308,
      "metadata": {
        "colab": {
          "base_uri": "https://localhost:8080/"
        },
        "id": "vONjp19J9hE8",
        "outputId": "77205e24-fd00-42c4-f7b6-e06e527c2cba"
      },
      "outputs": [
        {
          "name": "stdout",
          "output_type": "stream",
          "text": [
            "[4.1328018e-05 6.2371396e-06 7.9176803e-05 4.8257230e-04 4.4698704e-06\n",
            " 2.2151893e-04 1.5136758e-05 6.4173498e-04 9.9845374e-01 4.4435175e-05\n",
            " 9.6598396e-06]\n",
            "8\n"
          ]
        }
      ],
      "source": [
        "print(np.squeeze(tflite_results))\n",
        "print(np.argmax(np.squeeze(tflite_results)))"
      ]
    }
  ],
  "metadata": {
    "accelerator": "GPU",
    "colab": {
      "collapsed_sections": [],
      "name": "keypoint_classification_EN.ipynb",
      "provenance": [],
      "toc_visible": true
    },
    "kernelspec": {
      "display_name": "Python 3",
      "language": "python",
      "name": "python3"
    },
    "language_info": {
      "codemirror_mode": {
        "name": "ipython",
        "version": 3
      },
      "file_extension": ".py",
      "mimetype": "text/x-python",
      "name": "python",
      "nbconvert_exporter": "python",
      "pygments_lexer": "ipython3",
      "version": "3.10.7"
    }
  },
  "nbformat": 4,
  "nbformat_minor": 0
}
