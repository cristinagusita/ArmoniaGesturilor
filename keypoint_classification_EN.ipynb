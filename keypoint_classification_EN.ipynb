{
  "cells": [
    {
      "cell_type": "code",
      "execution_count": 26,
      "metadata": {
        "id": "igMyGnjE9hEp"
      },
      "outputs": [],
      "source": [
        "import csv\n",
        "\n",
        "import numpy as np\n",
        "import tensorflow as tf\n",
        "from sklearn.model_selection import train_test_split\n",
        "from keras.layers import BatchNormalization\n",
        "\n",
        "RANDOM_SEED = 42"
      ]
    },
    {
      "cell_type": "markdown",
      "metadata": {
        "id": "t2HDvhIu9hEr"
      },
      "source": [
        "# Specify each path"
      ]
    },
    {
      "cell_type": "code",
      "execution_count": 27,
      "metadata": {
        "id": "9NvZP2Zn9hEy"
      },
      "outputs": [],
      "source": [
        "dataset = 'model/keypoint_classifier/keypoint.csv'\n",
        "model_save_path = 'model/keypoint_classifier/keypoint_classifier.hdf5'\n",
        "tflite_save_path = 'model/keypoint_classifier/keypoint_classifier.tflite'"
      ]
    },
    {
      "cell_type": "markdown",
      "metadata": {
        "id": "s5oMH7x19hEz"
      },
      "source": [
        "# Set number of classes"
      ]
    },
    {
      "cell_type": "code",
      "execution_count": 28,
      "metadata": {
        "id": "du4kodXL9hEz"
      },
      "outputs": [],
      "source": [
        "NUM_CLASSES = 11"
      ]
    },
    {
      "cell_type": "markdown",
      "metadata": {
        "id": "XjnL0uso9hEz"
      },
      "source": [
        "# Dataset reading"
      ]
    },
    {
      "cell_type": "code",
      "execution_count": 29,
      "metadata": {
        "id": "QT5ZqtEz9hE0"
      },
      "outputs": [],
      "source": [
        "X_dataset = np.loadtxt(dataset, delimiter=',', dtype='float32', usecols=list(range(1, (21 * 2) + 1)))"
      ]
    },
    {
      "cell_type": "code",
      "execution_count": 30,
      "metadata": {
        "id": "QmoKFsp49hE0"
      },
      "outputs": [],
      "source": [
        "y_dataset = np.loadtxt(dataset, delimiter=',', dtype='int32', usecols=(0))"
      ]
    },
    {
      "cell_type": "markdown",
      "metadata": {},
      "source": [
        "# Preparing data for training"
      ]
    },
    {
      "cell_type": "markdown",
      "metadata": {},
      "source": [
        "### 1. Augmenting the data via rotation"
      ]
    },
    {
      "cell_type": "code",
      "execution_count": 31,
      "metadata": {},
      "outputs": [],
      "source": [
        "def rotate_point(x, y, cx, cy, angle):\n",
        "    rad = math.radians(angle)\n",
        "    x_new = (x - cx) * math.cos(rad) - (y - cy) * math.sin(rad) + cx\n",
        "    y_new = (x - cx) * math.sin(rad) + (y - cy) * math.cos(rad) + cy\n",
        "    return x_new, y_new\n",
        "\n",
        "def rotate_normalized_landmarks(landmarks, angle, max_value):\n",
        "    # Assuming landmarks are normalized and in pairs of (x, y)\n",
        "    landmarks = [[landmarks[i], landmarks[i+1]] for i in range(0, len(landmarks), 2)]\n",
        "\n",
        "    # Inverse Normalization (if needed)\n",
        "    landmarks = [[x * max_value, y * max_value] for x, y in landmarks]\n",
        "\n",
        "    # Apply rotation\n",
        "    rotated_landmarks = []\n",
        "    cx, cy = 0, 0  # Assuming the first point is the base (0,0) after normalization\n",
        "    for x, y in landmarks:\n",
        "        x_new, y_new = rotate_point(x, y, cx, cy, angle)\n",
        "        rotated_landmarks.append([x_new, y_new])\n",
        "\n",
        "    # Flatten and Re-Normalize\n",
        "    rotated_landmarks = list(itertools.chain.from_iterable(rotated_landmarks))\n",
        "    rotated_landmarks = [n / max_value for n in rotated_landmarks]\n",
        "\n",
        "    return rotated_landmarks"
      ]
    },
    {
      "cell_type": "code",
      "execution_count": 7,
      "metadata": {},
      "outputs": [],
      "source": [
        "import cv2\n",
        "import numpy as np\n",
        "import math\n",
        "\n",
        "def rotate_landmarks(landmarks, angle, center=None):\n",
        "    \"\"\"\n",
        "    Rotate landmarks by a given angle around a center point.\n",
        "\n",
        "    :param landmarks: List of (x, y) tuples representing the landmarks.\n",
        "    :param angle: Rotation angle in degrees.\n",
        "    :param center: Tuple (x, y) representing the center of rotation. If None, the center of the landmarks is used.\n",
        "    :return: Rotated landmarks.\n",
        "    \"\"\"\n",
        "    if center is None:\n",
        "        # Calculate the center of all landmarks\n",
        "        xs, ys = zip(*landmarks)\n",
        "        center = (sum(xs) / len(landmarks), sum(ys) / len(landmarks))\n",
        "\n",
        "    # Convert angle from degrees to radians\n",
        "    angle_rad = math.radians(angle)\n",
        "\n",
        "    # Rotation matrix\n",
        "    rotation_matrix = np.array([\n",
        "        [math.cos(angle_rad), -math.sin(angle_rad)],\n",
        "        [math.sin(angle_rad), math.cos(angle_rad)]\n",
        "    ])\n",
        "\n",
        "    # Rotate each landmark\n",
        "    rotated_landmarks = []\n",
        "    for x, y in landmarks:\n",
        "        # Translate point to origin\n",
        "        temp_x, temp_y = x - center[0], y - center[1]\n",
        "\n",
        "        # Rotate point\n",
        "        rotated_x, rotated_y = np.dot(rotation_matrix, [temp_x, temp_y])\n",
        "\n",
        "        # Translate point back\n",
        "        rotated_x, rotated_y = rotated_x + center[0], rotated_y + center[1]\n",
        "\n",
        "        rotated_landmarks.append((rotated_x, rotated_y))\n",
        "\n",
        "    return rotated_landmarks\n",
        "\n",
        "def on_trackbar_change(dummy=None):\n",
        "    # Get current positions of all trackbars\n",
        "    tilt_value = cv2.getTrackbarPos(\"Rotation Angle\", \"Landmarks\") \n",
        "    shear_value_x = cv2.getTrackbarPos(\"Shear_X\", \"Landmarks\") \n",
        "    shear_value_y = cv2.getTrackbarPos(\"Shear_Y\", \"Landmarks\")\n",
        "    # Apply tilt to the landmarks\n",
        "    tilted_landmarks = tilt_keypoints(landmarks, rotation_angle=tilt_value, shear_angle_x=shear_value_x, shear_angle_y=shear_value_y)\n",
        "\n",
        "    # Clear image and redraw landmarks\n",
        "    image[:] = (0, 0, 0)\n",
        "    draw_landmarks(image, tilted_landmarks)\n",
        "    cv2.imshow(\"Landmarks\", image)\n",
        "\n",
        "def draw_landmarks(image, landmarks, color=(0, 255, 0), radius=5):\n",
        "    for (x, y) in landmarks:\n",
        "        cv2.circle(image, (int(x), int(y)), radius, color, -1)\n",
        "    return image\n",
        "\n",
        "def tilt_keypoints(keypoints, rotation_angle, shear_angle_x=0, shear_angle_y=0, center=None):\n",
        "    \"\"\"\n",
        "    Apply a tilt (rotation followed by shear) to keypoints.\n",
        "\n",
        "    :param keypoints: List of (x, y) tuples representing keypoints.\n",
        "    :param rotation_angle: Rotation angle in degrees.\n",
        "    :param shear_angle_x: Shear angle along x-axis in degrees.\n",
        "    :param shear_angle_y: Shear angle along y-axis in degrees.\n",
        "    :param center: A tuple (x, y) representing the center of rotation and shear. \n",
        "                   If None, the mean of keypoints is used.\n",
        "    :return: List of tilted keypoints.\n",
        "    \"\"\"\n",
        "    # Convert angles from degrees to radians\n",
        "    rotation_rad = np.radians(rotation_angle)\n",
        "    shear_rad_x = np.radians(shear_angle_x)\n",
        "    shear_rad_y = np.radians(shear_angle_y)\n",
        "\n",
        "    # Rotation matrix\n",
        "    R = np.array([[np.cos(rotation_rad), -np.sin(rotation_rad)], \n",
        "                  [np.sin(rotation_rad), np.cos(rotation_rad)]])\n",
        "\n",
        "    # Shear matrix\n",
        "    S = np.array([[1, np.tan(shear_rad_x)], \n",
        "                  [np.tan(shear_rad_y), 1]])\n",
        "\n",
        "    # Combined transformation matrix\n",
        "    T = np.dot(S, R)\n",
        "\n",
        "    # If no center is provided, use the mean of keypoints\n",
        "    if center is None:\n",
        "        center = np.mean(keypoints, axis=0)\n",
        "\n",
        "    # Translate keypoints to origin, apply transformation, and translate back\n",
        "    tilted_keypoints = [T.dot(kp - center) + center for kp in keypoints]\n",
        "\n",
        "    return tilted_keypoints\n",
        "\n",
        "image_width, image_height = 640, 480\n",
        "\n",
        "# Original landmarks\n",
        "landmark_list = [[413, 405], [343, 390], [289, 341], [253, 298], [220, 267], [352, 233], [335, 171], [328, 132], [325, 97], [396, 223], [388, 151], [382, 107], [377, 71], [437, 232], [443, 165], [443, 125], [441, 88], [477, 256], [494, 211], [501, 182], [504, 154]]\n",
        "landmarks = [(x, y) for x, y in landmark_list]\n",
        "\n",
        "# Create a black image\n",
        "image = np.zeros((480, 640, 3), dtype=np.uint8)\n",
        "\n",
        "# Initialize the window\n",
        "cv2.namedWindow(\"Landmarks\")\n",
        "\n",
        "# Maximum tilt angle for the slider\n",
        "max_tilt = 360\n",
        "max_shear_X = 360\n",
        "max_shear_Y = 360\n",
        "\n",
        "# Create a trackbar (slider) in the window\n",
        "cv2.createTrackbar(\"Rotation Angle\", \"Landmarks\", 0, max_tilt, on_trackbar_change)\n",
        "cv2.createTrackbar(\"Shear_X\", \"Landmarks\", 0, max_shear_X, on_trackbar_change)\n",
        "cv2.createTrackbar(\"Shear_Y\", \"Landmarks\", 0, max_shear_Y, on_trackbar_change)\n",
        "\n",
        "# Initialize the image with original landmarks\n",
        "draw_landmarks(image, landmarks)  # Use 'landmarks' (list of tuples), not 'landmark_list' (list of lists)\n",
        "cv2.imshow(\"Landmarks\", image)\n",
        "\n",
        "# Wait until a key is pressed to exit\n",
        "cv2.waitKey(0)\n",
        "cv2.destroyAllWindows()\n"
      ]
    },
    {
      "cell_type": "code",
      "execution_count": 8,
      "metadata": {},
      "outputs": [],
      "source": [
        "def augment_landmarks(landmarks):\n",
        "    augmented_landmarks = []\n",
        "\n",
        "    # Iterate through the specified ranges\n",
        "    for rotation_angle in range(0, 361, 30):  # [0, 360] with a step of 10\n",
        "        for shear_x in range(-20, 21, 10):      # [-20, 20] with a step of 5\n",
        "            for shear_y in range(-20, 21, 10):  # [-20, 20] with a step of 5\n",
        "                if rotation_angle != 360 and (rotation_angle != 0 and shear_x != 0 and shear_y != 0):\n",
        "                    # Apply the tilt transformation\n",
        "                    tilted_landmarks = tilt_keypoints(landmarks, rotation_angle, shear_x, shear_y)\n",
        "                    tilted_landmarks = np.array([arr.tolist() for arr in tilted_landmarks])\n",
        "                    \n",
        "\n",
        "                    # add guassian noise\n",
        "                    noise = np.random.normal(scale=0.1, size=tilted_landmarks.shape)\n",
        "\n",
        "                    tilted_landmarks = tilted_landmarks + noise\n",
        "\n",
        "                    # convert to list\n",
        "                    tilted_landmarks = [arr.tolist() for arr in tilted_landmarks]\n",
        "\n",
        "                    # Add the result to the list of augmented landmarks\n",
        "                    augmented_landmarks.append(tilted_landmarks)\n",
        "\n",
        "    return augmented_landmarks"
      ]
    },
    {
      "cell_type": "code",
      "execution_count": 9,
      "metadata": {},
      "outputs": [],
      "source": [
        "import copy\n",
        "import itertools\n",
        "def pre_process_landmark(landmark_list):\n",
        "    # This function does the following:\n",
        "    # Relative Positioning: By normalizing landmarks relative to a specific point on the hand (like the wrist), you account for the hand's position in the image. \n",
        "    # This makes the landmarks' positions relative to each other, rather than to the whole image.\n",
        "    # Scale Invariance: Normalizing the size of landmarks ensures that the gesture recognition is scale-invariant. \n",
        "    # That means the size of the hand (whether it's close to the camera or far away) doesn't affect the recognition process.\n",
        "    # Consistency Across Different Inputs: This process helps in maintaining consistency of the landmark \n",
        "    # data across different frames or different hands, making the gesture recognition more robust and reliable.\n",
        "\n",
        "    landmark_list = landmark_list.reshape(-1, 2).tolist()\n",
        "\n",
        "    temp_landmark_list = copy.deepcopy(landmark_list)\n",
        "\n",
        "    # Convert to relative coordinates\n",
        "    base_x, base_y = 0, 0\n",
        "    for index, landmark_point in enumerate(temp_landmark_list):\n",
        "        if index == 0:\n",
        "            base_x, base_y = landmark_point[0], landmark_point[1]\n",
        "\n",
        "        temp_landmark_list[index][0] = temp_landmark_list[index][0] - base_x\n",
        "        temp_landmark_list[index][1] = temp_landmark_list[index][1] - base_y\n",
        "\n",
        "    # Convert to a one-dimensional list\n",
        "    temp_landmark_list = list(\n",
        "        itertools.chain.from_iterable(temp_landmark_list))\n",
        "\n",
        "    # Normalization\n",
        "    max_value = max(list(map(abs, temp_landmark_list)))\n",
        "\n",
        "    def normalize_(n):\n",
        "        return n / max_value\n",
        "\n",
        "    temp_landmark_list = list(map(normalize_, temp_landmark_list))\n",
        "\n",
        "    return temp_landmark_list"
      ]
    },
    {
      "cell_type": "code",
      "execution_count": 10,
      "metadata": {},
      "outputs": [],
      "source": [
        "# Normalize landmarks\n",
        "# new_dataset_X_preprocessed = np.array(list(map(pre_process_landmark, X_dataset)))\n",
        "new_dataset_X_preprocessed = X_dataset"
      ]
    },
    {
      "cell_type": "markdown",
      "metadata": {
        "id": "mxK_lETT9hE0"
      },
      "source": [
        "# Model building"
      ]
    },
    {
      "cell_type": "code",
      "execution_count": 11,
      "metadata": {
        "id": "vHBmUf1t9hE1"
      },
      "outputs": [],
      "source": [
        "import tensorflow as tf\n",
        "from tensorflow.keras.models import Model\n",
        "from tensorflow.keras.layers import Input, Dense, Lambda\n",
        "from tensorflow.keras import backend as K\n",
        "from tensorflow.keras.losses import sparse_categorical_crossentropy\n",
        "from tensorflow.keras.layers import Dropout\n",
        "\n",
        "def initialize_backbone(input_shape):\n",
        "    model = tf.keras.Sequential([\n",
        "        Dense(128, activation='tanh', input_shape=input_shape),\n",
        "        Dense(64, activation='tanh'),\n",
        "        Dense(32, activation='tanh'),\n",
        "\n",
        "    ])\n",
        "    return model\n",
        "\n",
        "def create_combined_model(input_shape, num_classes, backbone):\n",
        "    # Backbone for feature extraction\n",
        "    input_a = Input(shape=input_shape)\n",
        "    input_b = Input(shape=input_shape)\n",
        "    processed_a = backbone(input_a)\n",
        "    processed_b = backbone(input_b)\n",
        "\n",
        "    # Contrastive Head\n",
        "    distance = Lambda(lambda tensors: K.sqrt(K.sum(K.square(tensors[0] - tensors[1]), axis=1, keepdims=True)))([processed_a, processed_b])\n",
        "\n",
        "\n",
        "    # Classification Head\n",
        "    classification_output = Dense(num_classes, activation='softmax')(processed_a)\n",
        "\n",
        "    # Combined Model\n",
        "    combined_model = Model(inputs=[input_a, input_b], outputs=[distance, classification_output])\n",
        "    \n",
        "    # Classification Model (for inference)\n",
        "    classification_model = Model(inputs=input_a, outputs=classification_output)\n",
        "\n",
        "    return combined_model, classification_model\n",
        "\n",
        "def contrastive_loss(y_true, y_pred):\n",
        "    # print shapes\n",
        "    y_true = tf.cast(y_true, tf.float32)\n",
        "    margin = 1 \n",
        "    square_pred = K.square(y_pred)\n",
        "    margin_square = K.square(K.maximum(margin - y_pred, 0))\n",
        "    return K.mean(y_true * square_pred + (1 - y_true) * margin_square)\n",
        "\n",
        "# def combined_loss(y_true, y_pred, alpha=0.5, beta=0.5):\n",
        "#     c_loss = contrastive_loss(y_true[0], y_pred[0])\n",
        "#     # print shapes\n",
        "#     print(y_true[1].shape)\n",
        "#     print(y_pred[1].shape)\n",
        "#     class_loss = sparse_categorical_crossentropy(y_true[1], y_pred[1])\n",
        "#     return alpha * c_loss + beta * class_loss\n",
        "\n",
        "input_shape = (21 * 2,)  # Example input shape\n",
        "num_classes = NUM_CLASSES  # Define NUM_CLASSES appropriately\n",
        "\n",
        "# Initialize Backbone\n",
        "backbone = initialize_backbone(input_shape)\n",
        "\n",
        "# Create Combined and Classification Models\n",
        "combined_model, classification_model = create_combined_model(input_shape, num_classes, backbone)\n"
      ]
    },
    {
      "cell_type": "code",
      "execution_count": 12,
      "metadata": {
        "id": "MbMjOflQ9hE1"
      },
      "outputs": [],
      "source": [
        "# Model checkpoint callback\n",
        "cp_callback = tf.keras.callbacks.ModelCheckpoint(\n",
        "    model_save_path, verbose=1, save_weights_only=False)\n",
        "# Callback for early stopping\n",
        "es_callback = tf.keras.callbacks.EarlyStopping(monitor='dense_3_loss', mode='min', patience=5, restore_best_weights=True, verbose=1)"
      ]
    },
    {
      "cell_type": "code",
      "execution_count": 13,
      "metadata": {},
      "outputs": [
        {
          "name": "stdout",
          "output_type": "stream",
          "text": [
            "Model: \"model\"\n",
            "__________________________________________________________________________________________________\n",
            " Layer (type)                Output Shape                 Param #   Connected to                  \n",
            "==================================================================================================\n",
            " input_1 (InputLayer)        [(None, 42)]                 0         []                            \n",
            "                                                                                                  \n",
            " input_2 (InputLayer)        [(None, 42)]                 0         []                            \n",
            "                                                                                                  \n",
            " sequential (Sequential)     (None, 32)                   15840     ['input_1[0][0]',             \n",
            "                                                                     'input_2[0][0]']             \n",
            "                                                                                                  \n",
            " lambda (Lambda)             (None, 1)                    0         ['sequential[0][0]',          \n",
            "                                                                     'sequential[1][0]']          \n",
            "                                                                                                  \n",
            " dense_3 (Dense)             (None, 11)                   363       ['sequential[0][0]']          \n",
            "                                                                                                  \n",
            "==================================================================================================\n",
            "Total params: 16203 (63.29 KB)\n",
            "Trainable params: 16203 (63.29 KB)\n",
            "Non-trainable params: 0 (0.00 Byte)\n",
            "__________________________________________________________________________________________________\n"
          ]
        }
      ],
      "source": [
        "# Show summary\n",
        "combined_model.summary()"
      ]
    },
    {
      "cell_type": "code",
      "execution_count": 14,
      "metadata": {},
      "outputs": [
        {
          "name": "stdout",
          "output_type": "stream",
          "text": [
            "Model: \"model_1\"\n",
            "_________________________________________________________________\n",
            " Layer (type)                Output Shape              Param #   \n",
            "=================================================================\n",
            " input_1 (InputLayer)        [(None, 42)]              0         \n",
            "                                                                 \n",
            " sequential (Sequential)     (None, 32)                15840     \n",
            "                                                                 \n",
            " dense_3 (Dense)             (None, 11)                363       \n",
            "                                                                 \n",
            "=================================================================\n",
            "Total params: 16203 (63.29 KB)\n",
            "Trainable params: 16203 (63.29 KB)\n",
            "Non-trainable params: 0 (0.00 Byte)\n",
            "_________________________________________________________________\n"
          ]
        }
      ],
      "source": [
        "classification_model.summary()"
      ]
    },
    {
      "cell_type": "code",
      "execution_count": 15,
      "metadata": {
        "id": "c3Dac0M_9hE2"
      },
      "outputs": [],
      "source": [
        "from sklearn.metrics import f1_score\n",
        "\n",
        "combined_model.compile(optimizer='adam',\n",
        "                       loss={'lambda': contrastive_loss, \n",
        "                             'dense_3': 'sparse_categorical_crossentropy'},\n",
        "                       loss_weights={'lambda': 0.3, \n",
        "                                     'dense_3': 0.7},\n",
        "                       metrics={'dense_3': 'accuracy'},\n",
        "                       run_eagerly=True)\n"
      ]
    },
    {
      "cell_type": "code",
      "execution_count": 16,
      "metadata": {},
      "outputs": [],
      "source": [
        "import numpy as np\n",
        "\n",
        "def create_pairs(keypoints, labels):\n",
        "    pair_labels = []\n",
        "    pairs = []\n",
        "    classification_labels = []\n",
        "\n",
        "    unique_labels = np.unique(labels)\n",
        "    label_indices = {label: np.where(labels == label)[0] for label in unique_labels}\n",
        "\n",
        "    for idx, label in enumerate(labels):\n",
        "        # Add classification label\n",
        "        classification_labels.append(label)\n",
        "\n",
        "        # Positive Pair (same label)\n",
        "        positive_indices = label_indices[label]\n",
        "        positive_pair_idx = np.random.choice(positive_indices[positive_indices != idx])\n",
        "        pairs.append([keypoints[idx], keypoints[positive_pair_idx]])\n",
        "        pair_labels.append(1)\n",
        "\n",
        "        # Negative Pair (different label)\n",
        "        negative_label = np.random.choice(unique_labels[unique_labels != label])\n",
        "        negative_pair_idx = np.random.choice(label_indices[negative_label])\n",
        "        pairs.append([keypoints[idx], keypoints[negative_pair_idx]])\n",
        "        pair_labels.append(0)\n",
        "\n",
        "    duplicated_classification_labels = []\n",
        "    for label in labels:\n",
        "        duplicated_classification_labels.extend([label, label])  # Duplicate label for positive and negative pair\n",
        "\n",
        "    return np.array(pairs), np.array(pair_labels), np.array(duplicated_classification_labels)\n",
        "\n",
        "# Example usage\n",
        "pairs, pair_labels, classification_labels = create_pairs(new_dataset_X_preprocessed, y_dataset)\n"
      ]
    },
    {
      "cell_type": "code",
      "execution_count": 17,
      "metadata": {},
      "outputs": [],
      "source": [
        "from sklearn.model_selection import train_test_split\n",
        "\n",
        "# Split pairs and pair labels with stratification over classification labels\n",
        "pairs_train, pairs_test, pair_labels_train, pair_labels_test, classification_labels_train, classification_labels_test = train_test_split(\n",
        "    pairs, pair_labels, classification_labels, test_size=0.5, stratify=classification_labels, random_state=42)\n",
        "\n",
        "# Splitting the pairs into two inputs for the model\n",
        "input_a_train, input_b_train = pairs_train[:, 0], pairs_train[:, 1]\n",
        "input_a_test, input_b_test = pairs_test[:, 0], pairs_test[:, 1]\n",
        "\n"
      ]
    },
    {
      "cell_type": "code",
      "execution_count": 18,
      "metadata": {},
      "outputs": [],
      "source": [
        "a = augment_landmarks(input_a_train[0])"
      ]
    },
    {
      "cell_type": "code",
      "execution_count": 19,
      "metadata": {},
      "outputs": [],
      "source": [
        "# Given a list [a,b,c,d,e,f], transform it to [[a,b], [c,d], [e,f]]\n",
        "\n",
        "def transform_to_pairs(input_list):\n",
        "    return [input_list[i:i+2] for i in range(0, len(input_list), 2)]\n",
        "\n",
        "# Reverse of the above function\n",
        "def transform_to_list(input_list):\n",
        "    return [elem for pair in input_list for elem in pair]\n",
        "\n",
        "\n",
        "a = augment_landmarks(transform_to_pairs(X_dataset[0].tolist()))"
      ]
    },
    {
      "cell_type": "code",
      "execution_count": 20,
      "metadata": {},
      "outputs": [],
      "source": [
        "new_input_a_train = []\n",
        "new_classification_labels_train = []\n",
        "new_pair_labels_train = []\n",
        "i = 0\n",
        "for landmark in input_a_train:\n",
        "    a = augment_landmarks(transform_to_pairs(landmark.tolist()))\n",
        "    a = [transform_to_list(elem) for elem in a]\n",
        "    new_input_a_train.append(landmark.tolist())\n",
        "    new_input_a_train.extend(a)\n",
        "    # Add the same classification label for the augmented landmarks\n",
        "    new_classification_labels_train.extend([classification_labels_train[i]] * (len(a) + 1))\n",
        "    # Do the same for pair labels\n",
        "    new_pair_labels_train.extend([pair_labels_train[i]] * (len(a) + 1))\n",
        "    i = i + 1\n",
        "  \n",
        "new_input_a_train = np.array(new_input_a_train)\n",
        "new_classification_labels_train = np.array(new_classification_labels_train)\n",
        "new_pair_labels_train = np.array(new_pair_labels_train)"
      ]
    },
    {
      "cell_type": "code",
      "execution_count": 21,
      "metadata": {},
      "outputs": [],
      "source": [
        "new_input_b_train = []\n",
        "for landmark in input_b_train:\n",
        "    a = augment_landmarks(transform_to_pairs(landmark.tolist()))\n",
        "    a = [transform_to_list(elem) for elem in a]\n",
        "    new_input_b_train.append(landmark.tolist())\n",
        "    new_input_b_train.extend(a)\n",
        "  \n",
        "new_input_b_train = np.array(new_input_b_train)"
      ]
    },
    {
      "cell_type": "code",
      "execution_count": 22,
      "metadata": {},
      "outputs": [],
      "source": [
        "# Preprocess inputs\n",
        "new_input_a_train = [pre_process_landmark(x) for x in new_input_a_train]\n",
        "new_input_b_train = [pre_process_landmark(x) for x in new_input_b_train]\n",
        "\n",
        "new_input_a_train = np.array(new_input_a_train)\n",
        "new_input_b_train = np.array(new_input_b_train)\n"
      ]
    },
    {
      "cell_type": "code",
      "execution_count": 23,
      "metadata": {},
      "outputs": [],
      "source": [
        "# Preprocess test\n",
        "new_input_a_test = [pre_process_landmark(x) for x in input_a_test]\n",
        "new_input_b_test = [pre_process_landmark(x) for x in input_b_test]\n",
        "\n",
        "new_input_a_test = np.array(new_input_a_test)\n",
        "new_input_b_test = np.array(new_input_b_test)"
      ]
    },
    {
      "cell_type": "code",
      "execution_count": 24,
      "metadata": {},
      "outputs": [
        {
          "data": {
            "text/plain": [
              "(False, False, False, False, False, False, False, False)"
            ]
          },
          "execution_count": 24,
          "metadata": {},
          "output_type": "execute_result"
        }
      ],
      "source": [
        "#Check for nan values in all the arrays\n",
        "np.isnan(new_input_a_train).any(), np.isnan(new_input_b_train).any(), np.isnan(new_input_a_test).any(), np.isnan(new_input_b_test).any(), np.isnan(new_classification_labels_train).any(), np.isnan(new_pair_labels_train).any(), np.isnan(pair_labels_test).any(), np.isnan(classification_labels_test).any()"
      ]
    },
    {
      "cell_type": "code",
      "execution_count": 25,
      "metadata": {},
      "outputs": [
        {
          "data": {
            "text/plain": [
              "(False, False, False, False, False, False, False, False)"
            ]
          },
          "execution_count": 25,
          "metadata": {},
          "output_type": "execute_result"
        }
      ],
      "source": [
        "# Look for infinity\n",
        "np.isinf(new_input_a_train).any(), np.isinf(new_input_b_train).any(), np.isinf(new_input_a_test).any(), np.isinf(new_input_b_test).any(), np.isinf(new_classification_labels_train).any(), np.isinf(new_pair_labels_train).any(), np.isinf(pair_labels_test).any(), np.isinf(classification_labels_test).any()"
      ]
    },
    {
      "cell_type": "markdown",
      "metadata": {
        "id": "7XI0j1Iu9hE2"
      },
      "source": [
        "# Model training"
      ]
    },
    {
      "cell_type": "code",
      "execution_count": 32,
      "metadata": {
        "colab": {
          "base_uri": "https://localhost:8080/"
        },
        "id": "WirBl-JE9hE3",
        "outputId": "71b30ca2-8294-4d9d-8aa2-800d90d399de",
        "scrolled": true
      },
      "outputs": [
        {
          "name": "stdout",
          "output_type": "stream",
          "text": [
            "Epoch 1/20\n"
          ]
        },
        {
          "name": "stdout",
          "output_type": "stream",
          "text": [
            "249/249 [==============================] - ETA: 0s - loss: 1.6808 - lambda_loss: 0.1463 - dense_3_loss: 2.3384 - dense_3_accuracy: 0.1767\n",
            "Epoch 1: saving model to model/keypoint_classifier\\keypoint_classifier.hdf5\n",
            "249/249 [==============================] - 22s 87ms/step - loss: 1.6808 - lambda_loss: 0.1463 - dense_3_loss: 2.3384 - dense_3_accuracy: 0.1767 - val_loss: 1.8751 - val_lambda_loss: 0.1248 - val_dense_3_loss: 2.6252 - val_dense_3_accuracy: 0.1667\n",
            "Epoch 2/20\n",
            "  1/249 [..............................] - ETA: 18s - loss: 1.6276 - lambda_loss: 0.1549 - dense_3_loss: 2.2588 - dense_3_accuracy: 0.1953"
          ]
        },
        {
          "name": "stderr",
          "output_type": "stream",
          "text": [
            "C:\\Users\\Cristina\\AppData\\Roaming\\Python\\Python310\\site-packages\\keras\\src\\engine\\training.py:3079: UserWarning: You are saving your model as an HDF5 file via `model.save()`. This file format is considered legacy. We recommend using instead the native Keras format, e.g. `model.save('my_model.keras')`.\n",
            "  saving_api.save_model(\n"
          ]
        },
        {
          "name": "stdout",
          "output_type": "stream",
          "text": [
            "249/249 [==============================] - ETA: 0s - loss: 1.2633 - lambda_loss: 0.3184 - dense_3_loss: 1.6683 - dense_3_accuracy: 0.4664\n",
            "Epoch 2: saving model to model/keypoint_classifier\\keypoint_classifier.hdf5\n",
            "249/249 [==============================] - 19s 78ms/step - loss: 1.2633 - lambda_loss: 0.3184 - dense_3_loss: 1.6683 - dense_3_accuracy: 0.4664 - val_loss: 1.2448 - val_lambda_loss: 0.2899 - val_dense_3_loss: 1.6540 - val_dense_3_accuracy: 0.2444\n",
            "Epoch 3/20\n",
            "249/249 [==============================] - ETA: 0s - loss: 0.6904 - lambda_loss: 0.4397 - dense_3_loss: 0.7978 - dense_3_accuracy: 0.7929\n",
            "Epoch 3: saving model to model/keypoint_classifier\\keypoint_classifier.hdf5\n",
            "249/249 [==============================] - 18s 74ms/step - loss: 0.6904 - lambda_loss: 0.4397 - dense_3_loss: 0.7978 - dense_3_accuracy: 0.7929 - val_loss: 0.7326 - val_lambda_loss: 0.4309 - val_dense_3_loss: 0.8619 - val_dense_3_accuracy: 0.7722\n",
            "Epoch 4/20\n",
            "249/249 [==============================] - ETA: 0s - loss: 0.4115 - lambda_loss: 0.4221 - dense_3_loss: 0.4070 - dense_3_accuracy: 0.9109\n",
            "Epoch 4: saving model to model/keypoint_classifier\\keypoint_classifier.hdf5\n",
            "249/249 [==============================] - 28s 114ms/step - loss: 0.4115 - lambda_loss: 0.4221 - dense_3_loss: 0.4070 - dense_3_accuracy: 0.9109 - val_loss: 0.4993 - val_lambda_loss: 0.4609 - val_dense_3_loss: 0.5158 - val_dense_3_accuracy: 0.8667\n",
            "Epoch 5/20\n",
            "249/249 [==============================] - ETA: 0s - loss: 0.2891 - lambda_loss: 0.3855 - dense_3_loss: 0.2478 - dense_3_accuracy: 0.9580\n",
            "Epoch 5: saving model to model/keypoint_classifier\\keypoint_classifier.hdf5\n",
            "249/249 [==============================] - 33s 131ms/step - loss: 0.2891 - lambda_loss: 0.3855 - dense_3_loss: 0.2478 - dense_3_accuracy: 0.9580 - val_loss: 0.3886 - val_lambda_loss: 0.4601 - val_dense_3_loss: 0.3579 - val_dense_3_accuracy: 0.9222\n",
            "Epoch 6/20\n",
            "249/249 [==============================] - ETA: 0s - loss: 0.2223 - lambda_loss: 0.3492 - dense_3_loss: 0.1679 - dense_3_accuracy: 0.9768\n",
            "Epoch 6: saving model to model/keypoint_classifier\\keypoint_classifier.hdf5\n",
            "249/249 [==============================] - 31s 124ms/step - loss: 0.2223 - lambda_loss: 0.3492 - dense_3_loss: 0.1679 - dense_3_accuracy: 0.9768 - val_loss: 0.3184 - val_lambda_loss: 0.4546 - val_dense_3_loss: 0.2600 - val_dense_3_accuracy: 0.9167\n",
            "Epoch 7/20\n",
            "249/249 [==============================] - ETA: 0s - loss: 0.1789 - lambda_loss: 0.3134 - dense_3_loss: 0.1212 - dense_3_accuracy: 0.9865\n",
            "Epoch 7: saving model to model/keypoint_classifier\\keypoint_classifier.hdf5\n",
            "249/249 [==============================] - 32s 128ms/step - loss: 0.1789 - lambda_loss: 0.3134 - dense_3_loss: 0.1212 - dense_3_accuracy: 0.9865 - val_loss: 0.2674 - val_lambda_loss: 0.4495 - val_dense_3_loss: 0.1893 - val_dense_3_accuracy: 0.9500\n",
            "Epoch 8/20\n",
            "249/249 [==============================] - ETA: 0s - loss: 0.1496 - lambda_loss: 0.2838 - dense_3_loss: 0.0921 - dense_3_accuracy: 0.9917\n",
            "Epoch 8: saving model to model/keypoint_classifier\\keypoint_classifier.hdf5\n",
            "249/249 [==============================] - 31s 126ms/step - loss: 0.1496 - lambda_loss: 0.2838 - dense_3_loss: 0.0921 - dense_3_accuracy: 0.9917 - val_loss: 0.2409 - val_lambda_loss: 0.4450 - val_dense_3_loss: 0.1534 - val_dense_3_accuracy: 0.9667\n",
            "Epoch 9/20\n",
            "249/249 [==============================] - ETA: 0s - loss: 0.1283 - lambda_loss: 0.2566 - dense_3_loss: 0.0733 - dense_3_accuracy: 0.9940\n",
            "Epoch 9: saving model to model/keypoint_classifier\\keypoint_classifier.hdf5\n",
            "249/249 [==============================] - 36s 143ms/step - loss: 0.1283 - lambda_loss: 0.2566 - dense_3_loss: 0.0733 - dense_3_accuracy: 0.9940 - val_loss: 0.2189 - val_lambda_loss: 0.4234 - val_dense_3_loss: 0.1313 - val_dense_3_accuracy: 0.9778\n",
            "Epoch 10/20\n",
            "249/249 [==============================] - ETA: 0s - loss: 0.1109 - lambda_loss: 0.2317 - dense_3_loss: 0.0591 - dense_3_accuracy: 0.9960\n",
            "Epoch 10: saving model to model/keypoint_classifier\\keypoint_classifier.hdf5\n",
            "249/249 [==============================] - 44s 176ms/step - loss: 0.1109 - lambda_loss: 0.2317 - dense_3_loss: 0.0591 - dense_3_accuracy: 0.9960 - val_loss: 0.1988 - val_lambda_loss: 0.4135 - val_dense_3_loss: 0.1068 - val_dense_3_accuracy: 0.9778\n",
            "Epoch 11/20\n",
            "249/249 [==============================] - ETA: 0s - loss: 0.0983 - lambda_loss: 0.2117 - dense_3_loss: 0.0497 - dense_3_accuracy: 0.9965\n",
            "Epoch 11: saving model to model/keypoint_classifier\\keypoint_classifier.hdf5\n",
            "249/249 [==============================] - 34s 136ms/step - loss: 0.0983 - lambda_loss: 0.2117 - dense_3_loss: 0.0497 - dense_3_accuracy: 0.9965 - val_loss: 0.1914 - val_lambda_loss: 0.4003 - val_dense_3_loss: 0.1019 - val_dense_3_accuracy: 0.9722\n",
            "Epoch 12/20\n",
            "249/249 [==============================] - ETA: 0s - loss: 0.0866 - lambda_loss: 0.1916 - dense_3_loss: 0.0417 - dense_3_accuracy: 0.9974\n",
            "Epoch 12: saving model to model/keypoint_classifier\\keypoint_classifier.hdf5\n",
            "249/249 [==============================] - 35s 141ms/step - loss: 0.0866 - lambda_loss: 0.1916 - dense_3_loss: 0.0417 - dense_3_accuracy: 0.9974 - val_loss: 0.1711 - val_lambda_loss: 0.3655 - val_dense_3_loss: 0.0877 - val_dense_3_accuracy: 0.9778\n",
            "Epoch 13/20\n",
            "249/249 [==============================] - ETA: 0s - loss: 0.0775 - lambda_loss: 0.1757 - dense_3_loss: 0.0354 - dense_3_accuracy: 0.9981\n",
            "Epoch 13: saving model to model/keypoint_classifier\\keypoint_classifier.hdf5\n",
            "249/249 [==============================] - 35s 141ms/step - loss: 0.0775 - lambda_loss: 0.1757 - dense_3_loss: 0.0354 - dense_3_accuracy: 0.9981 - val_loss: 0.1439 - val_lambda_loss: 0.3321 - val_dense_3_loss: 0.0632 - val_dense_3_accuracy: 1.0000\n",
            "Epoch 14/20\n",
            "249/249 [==============================] - ETA: 0s - loss: 0.0710 - lambda_loss: 0.1621 - dense_3_loss: 0.0319 - dense_3_accuracy: 0.9981\n",
            "Epoch 14: saving model to model/keypoint_classifier\\keypoint_classifier.hdf5\n",
            "249/249 [==============================] - 34s 138ms/step - loss: 0.0710 - lambda_loss: 0.1621 - dense_3_loss: 0.0319 - dense_3_accuracy: 0.9981 - val_loss: 0.1428 - val_lambda_loss: 0.3227 - val_dense_3_loss: 0.0656 - val_dense_3_accuracy: 0.9889\n",
            "Epoch 15/20\n",
            "249/249 [==============================] - ETA: 0s - loss: 0.0637 - lambda_loss: 0.1488 - dense_3_loss: 0.0273 - dense_3_accuracy: 0.9985\n",
            "Epoch 15: saving model to model/keypoint_classifier\\keypoint_classifier.hdf5\n",
            "249/249 [==============================] - 34s 138ms/step - loss: 0.0637 - lambda_loss: 0.1488 - dense_3_loss: 0.0273 - dense_3_accuracy: 0.9985 - val_loss: 0.1305 - val_lambda_loss: 0.3084 - val_dense_3_loss: 0.0542 - val_dense_3_accuracy: 0.9889\n",
            "Epoch 16/20\n",
            "249/249 [==============================] - ETA: 0s - loss: 0.0575 - lambda_loss: 0.1364 - dense_3_loss: 0.0237 - dense_3_accuracy: 0.9990\n",
            "Epoch 16: saving model to model/keypoint_classifier\\keypoint_classifier.hdf5\n",
            "249/249 [==============================] - 34s 136ms/step - loss: 0.0575 - lambda_loss: 0.1364 - dense_3_loss: 0.0237 - dense_3_accuracy: 0.9990 - val_loss: 0.1219 - val_lambda_loss: 0.2890 - val_dense_3_loss: 0.0502 - val_dense_3_accuracy: 0.9944\n",
            "Epoch 17/20\n",
            "249/249 [==============================] - ETA: 0s - loss: 0.0524 - lambda_loss: 0.1255 - dense_3_loss: 0.0211 - dense_3_accuracy: 0.9992\n",
            "Epoch 17: saving model to model/keypoint_classifier\\keypoint_classifier.hdf5\n",
            "249/249 [==============================] - 33s 134ms/step - loss: 0.0524 - lambda_loss: 0.1255 - dense_3_loss: 0.0211 - dense_3_accuracy: 0.9992 - val_loss: 0.1137 - val_lambda_loss: 0.2662 - val_dense_3_loss: 0.0484 - val_dense_3_accuracy: 1.0000\n",
            "Epoch 18/20\n",
            "249/249 [==============================] - ETA: 0s - loss: 0.0482 - lambda_loss: 0.1156 - dense_3_loss: 0.0193 - dense_3_accuracy: 0.9991\n",
            "Epoch 18: saving model to model/keypoint_classifier\\keypoint_classifier.hdf5\n",
            "249/249 [==============================] - 32s 130ms/step - loss: 0.0482 - lambda_loss: 0.1156 - dense_3_loss: 0.0193 - dense_3_accuracy: 0.9991 - val_loss: 0.1090 - val_lambda_loss: 0.2515 - val_dense_3_loss: 0.0479 - val_dense_3_accuracy: 0.9833\n",
            "Epoch 19/20\n",
            "249/249 [==============================] - ETA: 0s - loss: 0.0456 - lambda_loss: 0.1088 - dense_3_loss: 0.0186 - dense_3_accuracy: 0.9985\n",
            "Epoch 19: saving model to model/keypoint_classifier\\keypoint_classifier.hdf5\n",
            "249/249 [==============================] - 32s 128ms/step - loss: 0.0456 - lambda_loss: 0.1088 - dense_3_loss: 0.0186 - dense_3_accuracy: 0.9985 - val_loss: 0.1025 - val_lambda_loss: 0.2505 - val_dense_3_loss: 0.0390 - val_dense_3_accuracy: 0.9944\n",
            "Epoch 20/20\n",
            "249/249 [==============================] - ETA: 0s - loss: 0.0407 - lambda_loss: 0.0999 - dense_3_loss: 0.0153 - dense_3_accuracy: 0.9993\n",
            "Epoch 20: saving model to model/keypoint_classifier\\keypoint_classifier.hdf5\n",
            "249/249 [==============================] - 32s 128ms/step - loss: 0.0407 - lambda_loss: 0.0999 - dense_3_loss: 0.0153 - dense_3_accuracy: 0.9993 - val_loss: 0.1085 - val_lambda_loss: 0.2307 - val_dense_3_loss: 0.0561 - val_dense_3_accuracy: 0.9889\n"
          ]
        },
        {
          "data": {
            "text/plain": [
              "<keras.src.callbacks.History at 0x18a449b29e0>"
            ]
          },
          "execution_count": 32,
          "metadata": {},
          "output_type": "execute_result"
        }
      ],
      "source": [
        "combined_model.fit(\n",
        "    [new_input_a_train, new_input_b_train],  # Inputs\n",
        "    [new_pair_labels_train, new_classification_labels_train],  # Outputs\n",
        "    epochs=20,\n",
        "    batch_size=128,\n",
        "    validation_data=([new_input_a_test, new_input_b_test], [pair_labels_test, classification_labels_test]),\n",
        "    callbacks=[cp_callback, es_callback],\n",
        "    verbose=1\n",
        ")"
      ]
    },
    {
      "cell_type": "code",
      "execution_count": 34,
      "metadata": {
        "colab": {
          "base_uri": "https://localhost:8080/"
        },
        "id": "pxvb2Y299hE3",
        "outputId": "59eb3185-2e37-4b9e-bc9d-ab1b8ac29b7f"
      },
      "outputs": [
        {
          "name": "stdout",
          "output_type": "stream",
          "text": [
            "6/6 [==============================] - 1s 94ms/step - loss: 0.1085 - lambda_loss: 0.2307 - dense_3_loss: 0.0561 - dense_3_accuracy: 0.9889\n"
          ]
        },
        {
          "data": {
            "text/plain": [
              "[0.10845240205526352,\n",
              " 0.23066310584545135,\n",
              " 0.056076373904943466,\n",
              " 0.9888888597488403]"
            ]
          },
          "execution_count": 34,
          "metadata": {},
          "output_type": "execute_result"
        }
      ],
      "source": [
        "# Model evaluation\n",
        "combined_model.evaluate([new_input_a_test, new_input_b_test], [pair_labels_test, classification_labels_test])"
      ]
    },
    {
      "cell_type": "code",
      "execution_count": 35,
      "metadata": {},
      "outputs": [
        {
          "name": "stdout",
          "output_type": "stream",
          "text": [
            "WARNING:tensorflow:Compiled the loaded model, but the compiled metrics have yet to be built. `model.compile_metrics` will be empty until you train or evaluate the model.\n"
          ]
        },
        {
          "name": "stderr",
          "output_type": "stream",
          "text": [
            "C:\\Users\\Cristina\\AppData\\Roaming\\Python\\Python310\\site-packages\\keras\\src\\engine\\training.py:3079: UserWarning: You are saving your model as an HDF5 file via `model.save()`. This file format is considered legacy. We recommend using instead the native Keras format, e.g. `model.save('my_model.keras')`.\n",
            "  saving_api.save_model(\n"
          ]
        }
      ],
      "source": [
        "# save classifiaction part of the model\n",
        "\n",
        "classification_model.save(model_save_path)"
      ]
    },
    {
      "cell_type": "code",
      "execution_count": 36,
      "metadata": {
        "id": "RBkmDeUW9hE4"
      },
      "outputs": [
        {
          "name": "stdout",
          "output_type": "stream",
          "text": [
            "WARNING:tensorflow:No training configuration found in the save file, so the model was *not* compiled. Compile it manually.\n"
          ]
        }
      ],
      "source": [
        "# Loading the saved model\n",
        "model = tf.keras.models.load_model(model_save_path)"
      ]
    },
    {
      "cell_type": "code",
      "execution_count": 37,
      "metadata": {
        "colab": {
          "base_uri": "https://localhost:8080/"
        },
        "id": "tFz9Tb0I9hE4",
        "outputId": "1c3b3528-54ae-4ee2-ab04-77429211cbef"
      },
      "outputs": [
        {
          "name": "stdout",
          "output_type": "stream",
          "text": [
            "1/1 [==============================] - 0s 258ms/step\n",
            "[5.4041696e-08 2.2859806e-01 6.5231288e-05 7.7045822e-01 3.4549466e-06\n",
            " 1.4148360e-09 6.3952793e-06 7.4088717e-09 6.3129679e-05 8.6830916e-08\n",
            " 8.0538791e-04]\n",
            "3\n"
          ]
        }
      ],
      "source": [
        "# Inference test\n",
        "predict_result = model.predict(np.array([input_a_test[0]]))\n",
        "print(np.squeeze(predict_result))\n",
        "print(np.argmax(np.squeeze(predict_result)))"
      ]
    },
    {
      "cell_type": "markdown",
      "metadata": {
        "id": "S3U4yNWx9hE4"
      },
      "source": [
        "# Confusion matrix"
      ]
    },
    {
      "cell_type": "code",
      "execution_count": 39,
      "metadata": {
        "colab": {
          "base_uri": "https://localhost:8080/",
          "height": 582
        },
        "id": "AP1V6SCk9hE5",
        "outputId": "08e41a80-7a4a-4619-8125-ecc371368d19"
      },
      "outputs": [
        {
          "name": "stdout",
          "output_type": "stream",
          "text": [
            "6/6 [==============================] - 0s 6ms/step\n"
          ]
        },
        {
          "data": {
            "image/png": "[encoded data removed]",
            "text/plain": [
              "<Figure size 700x600 with 2 Axes>"
            ]
          },
          "metadata": {},
          "output_type": "display_data"
        },
        {
          "name": "stdout",
          "output_type": "stream",
          "text": [
            "Classification Report\n",
            "              precision    recall  f1-score   support\n",
            "\n",
            "           0       1.00      1.00      1.00        15\n",
            "           1       1.00      1.00      1.00        15\n",
            "           2       1.00      1.00      1.00        15\n",
            "           3       1.00      1.00      1.00        15\n",
            "           4       1.00      0.87      0.93        15\n",
            "           5       1.00      1.00      1.00        15\n",
            "           6       1.00      1.00      1.00        15\n",
            "           7       1.00      1.00      1.00        15\n",
            "           8       1.00      1.00      1.00        15\n",
            "           9       1.00      1.00      1.00        15\n",
            "          10       0.94      1.00      0.97        30\n",
            "\n",
            "    accuracy                           0.99       180\n",
            "   macro avg       0.99      0.99      0.99       180\n",
            "weighted avg       0.99      0.99      0.99       180\n",
            "\n"
          ]
        }
      ],
      "source": [
        "import pandas as pd\n",
        "import seaborn as sns\n",
        "import matplotlib.pyplot as plt\n",
        "from sklearn.metrics import confusion_matrix, classification_report\n",
        "\n",
        "def print_confusion_matrix(y_true, y_pred, report=True):\n",
        "    labels = sorted(list(set(y_true)))\n",
        "    cmx_data = confusion_matrix(y_true, y_pred, labels=labels)\n",
        "    \n",
        "    df_cmx = pd.DataFrame(cmx_data, index=labels, columns=labels)\n",
        " \n",
        "    fig, ax = plt.subplots(figsize=(7, 6))\n",
        "    sns.heatmap(df_cmx, annot=True, fmt='g' ,square=False)\n",
        "    ax.set_ylim(len(set(y_true)), 0)\n",
        "    plt.show()\n",
        "    \n",
        "    if report:\n",
        "        print('Classification Report')\n",
        "        print(classification_report(classification_labels_test, y_pred))\n",
        "\n",
        "Y_pred = model.predict(new_input_a_test)\n",
        "y_pred = np.argmax(Y_pred, axis=1)\n",
        "\n",
        "print_confusion_matrix(classification_labels_test, y_pred)"
      ]
    },
    {
      "cell_type": "markdown",
      "metadata": {
        "id": "FNP6aqzc9hE5"
      },
      "source": [
        "# Convert to model for Tensorflow-Lite"
      ]
    },
    {
      "cell_type": "code",
      "execution_count": 40,
      "metadata": {
        "id": "ODjnYyld9hE6"
      },
      "outputs": [
        {
          "name": "stdout",
          "output_type": "stream",
          "text": [
            "WARNING:tensorflow:Compiled the loaded model, but the compiled metrics have yet to be built. `model.compile_metrics` will be empty until you train or evaluate the model.\n"
          ]
        },
        {
          "name": "stderr",
          "output_type": "stream",
          "text": [
            "C:\\Users\\Cristina\\AppData\\Roaming\\Python\\Python310\\site-packages\\keras\\src\\engine\\training.py:3079: UserWarning: You are saving your model as an HDF5 file via `model.save()`. This file format is considered legacy. We recommend using instead the native Keras format, e.g. `model.save('my_model.keras')`.\n",
            "  saving_api.save_model(\n"
          ]
        }
      ],
      "source": [
        "# Save as a model dedicated to inference\n",
        "model.save(model_save_path, include_optimizer=False)"
      ]
    },
    {
      "cell_type": "code",
      "execution_count": 41,
      "metadata": {
        "colab": {
          "base_uri": "https://localhost:8080/"
        },
        "id": "zRfuK8Y59hE6",
        "outputId": "a4ca585c-b5d5-4244-8291-8674063209bb"
      },
      "outputs": [
        {
          "name": "stdout",
          "output_type": "stream",
          "text": [
            "INFO:tensorflow:Assets written to: C:\\Users\\Cristina\\AppData\\Local\\Temp\\tmplb3ms1ao\\assets\n"
          ]
        },
        {
          "name": "stderr",
          "output_type": "stream",
          "text": [
            "INFO:tensorflow:Assets written to: C:\\Users\\Cristina\\AppData\\Local\\Temp\\tmplb3ms1ao\\assets\n"
          ]
        },
        {
          "data": {
            "text/plain": [
              "21064"
            ]
          },
          "execution_count": 41,
          "metadata": {},
          "output_type": "execute_result"
        }
      ],
      "source": [
        "# Transform model (quantization)\n",
        "\n",
        "converter = tf.lite.TFLiteConverter.from_keras_model(model)\n",
        "converter.optimizations = [tf.lite.Optimize.DEFAULT]\n",
        "tflite_quantized_model = converter.convert()\n",
        "\n",
        "open(tflite_save_path, 'wb').write(tflite_quantized_model)"
      ]
    },
    {
      "cell_type": "markdown",
      "metadata": {
        "id": "CHBPBXdx9hE6"
      },
      "source": [
        "# Inference test"
      ]
    },
    {
      "cell_type": "code",
      "execution_count": 42,
      "metadata": {
        "id": "mGAzLocO9hE7"
      },
      "outputs": [],
      "source": [
        "interpreter = tf.lite.Interpreter(model_path=tflite_save_path)\n",
        "interpreter.allocate_tensors()"
      ]
    },
    {
      "cell_type": "code",
      "execution_count": 43,
      "metadata": {
        "id": "oQuDK8YS9hE7"
      },
      "outputs": [],
      "source": [
        "# Get I / O tensor\n",
        "input_details = interpreter.get_input_details()\n",
        "output_details = interpreter.get_output_details()"
      ]
    },
    {
      "cell_type": "code",
      "execution_count": 44,
      "metadata": {
        "id": "2_ixAf_l9hE7"
      },
      "outputs": [],
      "source": [
        "# convert to float32\n",
        "input_a_test = input_a_test.astype(np.float32)\n",
        "interpreter.set_tensor(input_details[0]['index'], np.array([input_a_test[0]]))"
      ]
    },
    {
      "cell_type": "code",
      "execution_count": 45,
      "metadata": {
        "colab": {
          "base_uri": "https://localhost:8080/"
        },
        "id": "s4FoAnuc9hE7",
        "outputId": "91f18257-8d8b-4ef3-c558-e9b5f94fabbf",
        "scrolled": true
      },
      "outputs": [
        {
          "name": "stdout",
          "output_type": "stream",
          "text": [
            "CPU times: total: 0 ns\n",
            "Wall time: 3 ms\n"
          ]
        }
      ],
      "source": [
        "%%time\n",
        "# Inference implementation\n",
        "interpreter.invoke()\n",
        "tflite_results = interpreter.get_tensor(output_details[0]['index'])"
      ]
    },
    {
      "cell_type": "code",
      "execution_count": 46,
      "metadata": {
        "colab": {
          "base_uri": "https://localhost:8080/"
        },
        "id": "vONjp19J9hE8",
        "outputId": "77205e24-fd00-42c4-f7b6-e06e527c2cba"
      },
      "outputs": [
        {
          "name": "stdout",
          "output_type": "stream",
          "text": [
            "[7.3170391e-08 6.6808808e-01 1.4656565e-04 3.2894814e-01 4.7518784e-05\n",
            " 1.8160679e-09 1.2721411e-05 5.0021178e-08 3.5058038e-05 6.3463386e-07\n",
            " 2.7211499e-03]\n",
            "1\n"
          ]
        }
      ],
      "source": [
        "print(np.squeeze(tflite_results))\n",
        "print(np.argmax(np.squeeze(tflite_results)))"
      ]
    }
  ],
  "metadata": {
    "accelerator": "GPU",
    "colab": {
      "collapsed_sections": [],
      "name": "keypoint_classification_EN.ipynb",
      "provenance": [],
      "toc_visible": true
    },
    "kernelspec": {
      "display_name": "Python 3",
      "language": "python",
      "name": "python3"
    },
    "language_info": {
      "codemirror_mode": {
        "name": "ipython",
        "version": 3
      },
      "file_extension": ".py",
      "mimetype": "text/x-python",
      "name": "python",
      "nbconvert_exporter": "python",
      "pygments_lexer": "ipython3",
      "version": "3.10.7"
    }
  },
  "nbformat": 4,
  "nbformat_minor": 0
}
