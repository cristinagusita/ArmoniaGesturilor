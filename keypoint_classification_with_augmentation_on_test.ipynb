{
  "cells": [
    {
      "cell_type": "code",
      "execution_count": 1,
      "metadata": {
        "id": "igMyGnjE9hEp"
      },
      "outputs": [
        {
          "name": "stdout",
          "output_type": "stream",
          "text": [
            "WARNING:tensorflow:From c:\\Python310\\lib\\site-packages\\keras\\src\\losses.py:2976: The name tf.losses.sparse_softmax_cross_entropy is deprecated. Please use tf.compat.v1.losses.sparse_softmax_cross_entropy instead.\n",
            "\n"
          ]
        }
      ],
      "source": [
        "import csv\n",
        "\n",
        "import numpy as np\n",
        "import tensorflow as tf\n",
        "from sklearn.model_selection import train_test_split\n",
        "from keras.layers import BatchNormalization\n",
        "\n",
        "RANDOM_SEED = 42"
      ]
    },
    {
      "cell_type": "markdown",
      "metadata": {
        "id": "t2HDvhIu9hEr"
      },
      "source": [
        "# Specify each path"
      ]
    },
    {
      "cell_type": "code",
      "execution_count": 2,
      "metadata": {
        "id": "9NvZP2Zn9hEy"
      },
      "outputs": [],
      "source": [
        "dataset = 'model/keypoint_classifier/keypoint.csv'\n",
        "model_save_path = 'model/keypoint_classifier/keypoint_classifier.hdf5'\n",
        "tflite_save_path = 'model/keypoint_classifier/keypoint_classifier.tflite'"
      ]
    },
    {
      "cell_type": "markdown",
      "metadata": {
        "id": "s5oMH7x19hEz"
      },
      "source": [
        "# Set number of classes"
      ]
    },
    {
      "cell_type": "code",
      "execution_count": 3,
      "metadata": {
        "id": "du4kodXL9hEz"
      },
      "outputs": [],
      "source": [
        "NUM_CLASSES = 11"
      ]
    },
    {
      "cell_type": "markdown",
      "metadata": {
        "id": "XjnL0uso9hEz"
      },
      "source": [
        "# Dataset reading"
      ]
    },
    {
      "cell_type": "code",
      "execution_count": 4,
      "metadata": {
        "id": "QT5ZqtEz9hE0"
      },
      "outputs": [],
      "source": [
        "X_dataset = np.loadtxt(dataset, delimiter=',', dtype='float32', usecols=list(range(1, (21 * 2) + 1)))"
      ]
    },
    {
      "cell_type": "code",
      "execution_count": 5,
      "metadata": {
        "id": "QmoKFsp49hE0"
      },
      "outputs": [],
      "source": [
        "y_dataset = np.loadtxt(dataset, delimiter=',', dtype='int32', usecols=(0))"
      ]
    },
    {
      "cell_type": "markdown",
      "metadata": {},
      "source": [
        "# Preparing data for training"
      ]
    },
    {
      "cell_type": "markdown",
      "metadata": {},
      "source": [
        "### 1. Augmenting the data via rotation and shearing"
      ]
    },
    {
      "cell_type": "code",
      "execution_count": 7,
      "metadata": {},
      "outputs": [],
      "source": [
        "import cv2\n",
        "import numpy as np\n",
        "import math\n",
        "\n",
        "def on_trackbar_change(dummy=None):\n",
        "    # Get current positions of all trackbars\n",
        "    tilt_value = cv2.getTrackbarPos(\"Rotation Angle\", \"Landmarks\") \n",
        "    shear_value_x = cv2.getTrackbarPos(\"Shear_X\", \"Landmarks\") \n",
        "    shear_value_y = cv2.getTrackbarPos(\"Shear_Y\", \"Landmarks\")\n",
        "    # Apply tilt to the landmarks\n",
        "    tilted_landmarks = tilt_keypoints(landmarks, rotation_angle=tilt_value, shear_angle_x=shear_value_x, shear_angle_y=shear_value_y)\n",
        "\n",
        "    # Clear image and redraw landmarks\n",
        "    image[:] = (0, 0, 0)\n",
        "    draw_landmarks(image, tilted_landmarks)\n",
        "    cv2.imshow(\"Landmarks\", image)\n",
        "\n",
        "def draw_landmarks(image, landmarks, color=(0, 255, 0), radius=5):\n",
        "    for (x, y) in landmarks:\n",
        "        cv2.circle(image, (int(x), int(y)), radius, color, -1)\n",
        "    return image\n",
        "\n",
        "def tilt_keypoints(keypoints, rotation_angle, shear_angle_x=0, shear_angle_y=0, center=None):\n",
        "    \"\"\"\n",
        "    Apply a tilt (rotation followed by shear) to keypoints.\n",
        "\n",
        "    :param keypoints: List of (x, y) tuples representing keypoints.\n",
        "    :param rotation_angle: Rotation angle in degrees.\n",
        "    :param shear_angle_x: Shear angle along x-axis in degrees.\n",
        "    :param shear_angle_y: Shear angle along y-axis in degrees.\n",
        "    :param center: A tuple (x, y) representing the center of rotation and shear. \n",
        "                   If None, the mean of keypoints is used.\n",
        "    :return: List of tilted keypoints.\n",
        "    \"\"\"\n",
        "    # Convert angles from degrees to radians\n",
        "    rotation_rad = np.radians(rotation_angle)\n",
        "    shear_rad_x = np.radians(shear_angle_x)\n",
        "    shear_rad_y = np.radians(shear_angle_y)\n",
        "\n",
        "    # Rotation matrix\n",
        "    R = np.array([[np.cos(rotation_rad), -np.sin(rotation_rad)], \n",
        "                  [np.sin(rotation_rad), np.cos(rotation_rad)]])\n",
        "\n",
        "    # Shear matrix\n",
        "    S = np.array([[1, np.tan(shear_rad_x)], \n",
        "                  [np.tan(shear_rad_y), 1]])\n",
        "\n",
        "    # Combined transformation matrix\n",
        "    T = np.dot(S, R)\n",
        "\n",
        "    # If no center is provided, use the mean of keypoints\n",
        "    if center is None:\n",
        "        center = np.mean(keypoints, axis=0)\n",
        "\n",
        "    # Translate keypoints to origin, apply transformation, and translate back\n",
        "    tilted_keypoints = [T.dot(kp - center) + center for kp in keypoints]\n",
        "\n",
        "    return tilted_keypoints\n",
        "\n",
        "image_width, image_height = 640, 480\n",
        "\n",
        "# Original landmarks\n",
        "landmark_list = [[413, 405], [343, 390], [289, 341], [253, 298], [220, 267], [352, 233], [335, 171], [328, 132], [325, 97], [396, 223], [388, 151], [382, 107], [377, 71], [437, 232], [443, 165], [443, 125], [441, 88], [477, 256], [494, 211], [501, 182], [504, 154]]\n",
        "landmarks = [(x, y) for x, y in landmark_list]\n",
        "\n",
        "# Create a black image\n",
        "image = np.zeros((480, 640, 3), dtype=np.uint8)\n",
        "\n",
        "# Initialize the window\n",
        "cv2.namedWindow(\"Landmarks\")\n",
        "\n",
        "# Maximum tilt angle for the slider\n",
        "max_tilt = 360\n",
        "max_shear_X = 360\n",
        "max_shear_Y = 360\n",
        "\n",
        "# Create a trackbar (slider) in the window\n",
        "cv2.createTrackbar(\"Rotation Angle\", \"Landmarks\", 0, max_tilt, on_trackbar_change)\n",
        "cv2.createTrackbar(\"Shear_X\", \"Landmarks\", 0, max_shear_X, on_trackbar_change)\n",
        "cv2.createTrackbar(\"Shear_Y\", \"Landmarks\", 0, max_shear_Y, on_trackbar_change)\n",
        "\n",
        "# Initialize the image with original landmarks\n",
        "draw_landmarks(image, landmarks)  # Use 'landmarks' (list of tuples), not 'landmark_list' (list of lists)\n",
        "cv2.imshow(\"Landmarks\", image)\n",
        "\n",
        "# Wait until a key is pressed to exit\n",
        "cv2.waitKey(0)\n",
        "cv2.destroyAllWindows()\n"
      ]
    },
    {
      "cell_type": "code",
      "execution_count": 8,
      "metadata": {},
      "outputs": [],
      "source": [
        "def augment_landmarks(landmarks):\n",
        "    augmented_landmarks = []\n",
        "\n",
        "    # Iterate through the specified ranges\n",
        "    for rotation_angle in range(0, 361, 30):  # [0, 360] with a step of 30\n",
        "        for shear_x in range(-20, 21, 10):      # [-20, 20] with a step of 10\n",
        "            for shear_y in range(-20, 21, 10):  # [-20, 20] with a step of 10\n",
        "                if rotation_angle != 360 and (rotation_angle != 0 and shear_x != 0 and shear_y != 0):\n",
        "                    # Apply the tilt transformation\n",
        "                    tilted_landmarks = tilt_keypoints(landmarks, rotation_angle, shear_x, shear_y)\n",
        "                    tilted_landmarks = np.array([arr.tolist() for arr in tilted_landmarks])\n",
        "                    \n",
        "\n",
        "                    # add guassian noise\n",
        "                    noise = np.random.normal(scale=0.1, size=tilted_landmarks.shape)\n",
        "\n",
        "                    tilted_landmarks = tilted_landmarks + noise\n",
        "\n",
        "                    # convert to list\n",
        "                    tilted_landmarks = [arr.tolist() for arr in tilted_landmarks]\n",
        "\n",
        "                    # Add the result to the list of augmented landmarks\n",
        "                    augmented_landmarks.append(tilted_landmarks)\n",
        "\n",
        "    return augmented_landmarks"
      ]
    },
    {
      "cell_type": "code",
      "execution_count": 9,
      "metadata": {},
      "outputs": [],
      "source": [
        "import copy\n",
        "import itertools\n",
        "def pre_process_landmark(landmark_list):\n",
        "    # This function does the following:\n",
        "    # Relative Positioning: By normalizing landmarks relative to a specific point on the hand (like the wrist), you account for the hand's position in the image. \n",
        "    # This makes the landmarks' positions relative to each other, rather than to the whole image.\n",
        "    # Scale Invariance: Normalizing the size of landmarks ensures that the gesture recognition is scale-invariant. \n",
        "    # That means the size of the hand (whether it's close to the camera or far away) doesn't affect the recognition process.\n",
        "    # Consistency Across Different Inputs: This process helps in maintaining consistency of the landmark \n",
        "    # data across different frames or different hands, making the gesture recognition more robust and reliable.\n",
        "\n",
        "    landmark_list = landmark_list.reshape(-1, 2).tolist()\n",
        "\n",
        "    temp_landmark_list = copy.deepcopy(landmark_list)\n",
        "\n",
        "    # Convert to relative coordinates\n",
        "    base_x, base_y = 0, 0\n",
        "    for index, landmark_point in enumerate(temp_landmark_list):\n",
        "        if index == 0:\n",
        "            base_x, base_y = landmark_point[0], landmark_point[1]\n",
        "\n",
        "        temp_landmark_list[index][0] = temp_landmark_list[index][0] - base_x\n",
        "        temp_landmark_list[index][1] = temp_landmark_list[index][1] - base_y\n",
        "\n",
        "    # Convert to a one-dimensional list\n",
        "    temp_landmark_list = list(\n",
        "        itertools.chain.from_iterable(temp_landmark_list))\n",
        "\n",
        "    # Normalization\n",
        "    max_value = max(list(map(abs, temp_landmark_list)))\n",
        "\n",
        "    def normalize_(n):\n",
        "        return n / max_value\n",
        "\n",
        "    temp_landmark_list = list(map(normalize_, temp_landmark_list))\n",
        "\n",
        "    return temp_landmark_list"
      ]
    },
    {
      "cell_type": "code",
      "execution_count": 10,
      "metadata": {},
      "outputs": [],
      "source": [
        "# Normalize landmarks\n",
        "# new_dataset_X_preprocessed = np.array(list(map(pre_process_landmark, X_dataset)))\n",
        "new_dataset_X_preprocessed = X_dataset"
      ]
    },
    {
      "cell_type": "markdown",
      "metadata": {
        "id": "mxK_lETT9hE0"
      },
      "source": [
        "# Model building"
      ]
    },
    {
      "cell_type": "code",
      "execution_count": 11,
      "metadata": {
        "id": "vHBmUf1t9hE1"
      },
      "outputs": [
        {
          "name": "stdout",
          "output_type": "stream",
          "text": [
            "WARNING:tensorflow:From c:\\Python310\\lib\\site-packages\\keras\\src\\backend.py:873: The name tf.get_default_graph is deprecated. Please use tf.compat.v1.get_default_graph instead.\n",
            "\n"
          ]
        }
      ],
      "source": [
        "import tensorflow as tf\n",
        "from tensorflow.keras.models import Model\n",
        "from tensorflow.keras.layers import Input, Dense, Lambda\n",
        "from tensorflow.keras import backend as K\n",
        "\n",
        "def initialize_backbone(input_shape):\n",
        "    model = tf.keras.Sequential([\n",
        "        Dense(128, activation='tanh', input_shape=input_shape),\n",
        "        Dense(64, activation='tanh'),\n",
        "        Dense(32, activation='tanh'),\n",
        "\n",
        "    ])\n",
        "    return model\n",
        "\n",
        "def create_combined_model(input_shape, num_classes, backbone):\n",
        "    # Backbone for feature extraction\n",
        "    input_a = Input(shape=input_shape)\n",
        "    input_b = Input(shape=input_shape)\n",
        "    processed_a = backbone(input_a)\n",
        "    processed_b = backbone(input_b)\n",
        "\n",
        "    # Contrastive Head\n",
        "    distance = Lambda(lambda tensors: K.sqrt(K.sum(K.square(tensors[0] - tensors[1]), axis=1, keepdims=True)))([processed_a, processed_b])\n",
        "\n",
        "\n",
        "    # Classification Head\n",
        "    classification_output = Dense(num_classes, activation='softmax')(processed_a)\n",
        "\n",
        "    # Combined Model\n",
        "    combined_model = Model(inputs=[input_a, input_b], outputs=[distance, classification_output])\n",
        "    \n",
        "    # Classification Model (for inference)\n",
        "    classification_model = Model(inputs=input_a, outputs=classification_output)\n",
        "\n",
        "    return combined_model, classification_model\n",
        "\n",
        "def contrastive_loss(y_true, y_pred):\n",
        "    # print shapes\n",
        "    y_true = tf.cast(y_true, tf.float32)\n",
        "    margin = 1 \n",
        "    square_pred = K.square(y_pred)\n",
        "    margin_square = K.square(K.maximum(margin - y_pred, 0))\n",
        "    return K.mean(y_true * square_pred + (1 - y_true) * margin_square)\n",
        "\n",
        "\n",
        "input_shape = (21 * 2,)  # Example input shape\n",
        "num_classes = NUM_CLASSES  # Define NUM_CLASSES appropriately\n",
        "\n",
        "# Initialize Backbone\n",
        "backbone = initialize_backbone(input_shape)\n",
        "\n",
        "# Create Combined and Classification Models\n",
        "combined_model, classification_model = create_combined_model(input_shape, num_classes, backbone)\n"
      ]
    },
    {
      "cell_type": "code",
      "execution_count": 12,
      "metadata": {
        "id": "MbMjOflQ9hE1"
      },
      "outputs": [],
      "source": [
        "# Model checkpoint callback\n",
        "cp_callback = tf.keras.callbacks.ModelCheckpoint(\n",
        "    model_save_path, verbose=1, save_weights_only=False)\n",
        "# Callback for early stopping\n",
        "es_callback = tf.keras.callbacks.EarlyStopping(monitor='dense_3_loss', mode='min', patience=5, restore_best_weights=True, verbose=1)"
      ]
    },
    {
      "cell_type": "code",
      "execution_count": 13,
      "metadata": {},
      "outputs": [
        {
          "name": "stdout",
          "output_type": "stream",
          "text": [
            "Model: \"model\"\n",
            "__________________________________________________________________________________________________\n",
            " Layer (type)                Output Shape                 Param #   Connected to                  \n",
            "==================================================================================================\n",
            " input_1 (InputLayer)        [(None, 42)]                 0         []                            \n",
            "                                                                                                  \n",
            " input_2 (InputLayer)        [(None, 42)]                 0         []                            \n",
            "                                                                                                  \n",
            " sequential (Sequential)     (None, 32)                   15840     ['input_1[0][0]',             \n",
            "                                                                     'input_2[0][0]']             \n",
            "                                                                                                  \n",
            " lambda (Lambda)             (None, 1)                    0         ['sequential[0][0]',          \n",
            "                                                                     'sequential[1][0]']          \n",
            "                                                                                                  \n",
            " dense_3 (Dense)             (None, 11)                   363       ['sequential[0][0]']          \n",
            "                                                                                                  \n",
            "==================================================================================================\n",
            "Total params: 16203 (63.29 KB)\n",
            "Trainable params: 16203 (63.29 KB)\n",
            "Non-trainable params: 0 (0.00 Byte)\n",
            "__________________________________________________________________________________________________\n"
          ]
        }
      ],
      "source": [
        "# Show summary\n",
        "combined_model.summary()"
      ]
    },
    {
      "cell_type": "code",
      "execution_count": 14,
      "metadata": {},
      "outputs": [
        {
          "name": "stdout",
          "output_type": "stream",
          "text": [
            "Model: \"model_1\"\n",
            "_________________________________________________________________\n",
            " Layer (type)                Output Shape              Param #   \n",
            "=================================================================\n",
            " input_1 (InputLayer)        [(None, 42)]              0         \n",
            "                                                                 \n",
            " sequential (Sequential)     (None, 32)                15840     \n",
            "                                                                 \n",
            " dense_3 (Dense)             (None, 11)                363       \n",
            "                                                                 \n",
            "=================================================================\n",
            "Total params: 16203 (63.29 KB)\n",
            "Trainable params: 16203 (63.29 KB)\n",
            "Non-trainable params: 0 (0.00 Byte)\n",
            "_________________________________________________________________\n"
          ]
        }
      ],
      "source": [
        "classification_model.summary()"
      ]
    },
    {
      "cell_type": "code",
      "execution_count": 15,
      "metadata": {
        "id": "c3Dac0M_9hE2"
      },
      "outputs": [
        {
          "name": "stdout",
          "output_type": "stream",
          "text": [
            "WARNING:tensorflow:From c:\\Python310\\lib\\site-packages\\keras\\src\\optimizers\\__init__.py:309: The name tf.train.Optimizer is deprecated. Please use tf.compat.v1.train.Optimizer instead.\n",
            "\n"
          ]
        }
      ],
      "source": [
        "from sklearn.metrics import f1_score\n",
        "\n",
        "combined_model.compile(optimizer='adam',\n",
        "                       loss={'lambda': contrastive_loss, \n",
        "                             'dense_3': 'sparse_categorical_crossentropy'},\n",
        "                       loss_weights={'lambda': 0.3, \n",
        "                                     'dense_3': 0.7},\n",
        "                       metrics={'dense_3': 'accuracy'},\n",
        "                       run_eagerly=True)\n"
      ]
    },
    {
      "cell_type": "code",
      "execution_count": 16,
      "metadata": {},
      "outputs": [],
      "source": [
        "import numpy as np\n",
        "\n",
        "def create_pairs(keypoints, labels):\n",
        "    pair_labels = []\n",
        "    pairs = []\n",
        "    classification_labels = []\n",
        "\n",
        "    unique_labels = np.unique(labels)\n",
        "    label_indices = {label: np.where(labels == label)[0] for label in unique_labels}\n",
        "\n",
        "    for idx, label in enumerate(labels):\n",
        "        # Add classification label\n",
        "        classification_labels.append(label)\n",
        "\n",
        "        # Positive Pair (same label)\n",
        "        positive_indices = label_indices[label]\n",
        "        positive_pair_idx = np.random.choice(positive_indices[positive_indices != idx])\n",
        "        pairs.append([keypoints[idx], keypoints[positive_pair_idx]])\n",
        "        pair_labels.append(1)\n",
        "\n",
        "        # Negative Pair (different label)\n",
        "        negative_label = np.random.choice(unique_labels[unique_labels != label])\n",
        "        negative_pair_idx = np.random.choice(label_indices[negative_label])\n",
        "        pairs.append([keypoints[idx], keypoints[negative_pair_idx]])\n",
        "        pair_labels.append(0)\n",
        "\n",
        "    duplicated_classification_labels = []\n",
        "    for label in labels:\n",
        "        duplicated_classification_labels.extend([label, label])  # Duplicate label for positive and negative pair\n",
        "\n",
        "    return np.array(pairs), np.array(pair_labels), np.array(duplicated_classification_labels)\n",
        "\n",
        "# Example usage\n",
        "pairs, pair_labels, classification_labels = create_pairs(new_dataset_X_preprocessed, y_dataset)\n"
      ]
    },
    {
      "cell_type": "code",
      "execution_count": 17,
      "metadata": {},
      "outputs": [],
      "source": [
        "from sklearn.model_selection import train_test_split\n",
        "\n",
        "# Split pairs and pair labels with stratification over classification labels\n",
        "pairs_train, pairs_test, pair_labels_train, pair_labels_test, classification_labels_train, classification_labels_test = train_test_split(\n",
        "    pairs, pair_labels, classification_labels, test_size=0.25, stratify=classification_labels, random_state=42)\n",
        "\n",
        "# Splitting the pairs into two inputs for the model\n",
        "input_a_train, input_b_train = pairs_train[:, 0], pairs_train[:, 1]\n",
        "input_a_test, input_b_test = pairs_test[:, 0], pairs_test[:, 1]\n",
        "\n"
      ]
    },
    {
      "cell_type": "code",
      "execution_count": 18,
      "metadata": {},
      "outputs": [
        {
          "data": {
            "text/plain": [
              "(270, 90, 270, 90)"
            ]
          },
          "execution_count": 18,
          "metadata": {},
          "output_type": "execute_result"
        }
      ],
      "source": [
        "len(input_a_train), len(input_a_test), len(input_b_train), len(input_b_test)"
      ]
    },
    {
      "cell_type": "code",
      "execution_count": 19,
      "metadata": {},
      "outputs": [],
      "source": [
        "# Given a list [a,b,c,d,e,f], transform it to [[a,b], [c,d], [e,f]]\n",
        "\n",
        "def transform_to_pairs(input_list):\n",
        "    return [input_list[i:i+2] for i in range(0, len(input_list), 2)]\n",
        "\n",
        "# Reverse of the above function\n",
        "def transform_to_list(input_list):\n",
        "    return [elem for pair in input_list for elem in pair]\n"
      ]
    },
    {
      "cell_type": "code",
      "execution_count": 20,
      "metadata": {},
      "outputs": [],
      "source": [
        "new_input_a_train = []\n",
        "new_classification_labels_train = []\n",
        "new_pair_labels_train = []\n",
        "i = 0\n",
        "for landmark in input_a_train:\n",
        "    a = augment_landmarks(transform_to_pairs(landmark.tolist()))\n",
        "    a = [transform_to_list(elem) for elem in a]\n",
        "    new_input_a_train.append(landmark.tolist())\n",
        "    new_input_a_train.extend(a)\n",
        "    # Add the same classification label for the augmented landmarks\n",
        "    new_classification_labels_train.extend([classification_labels_train[i]] * (len(a) + 1))\n",
        "    # Do the same for pair labels\n",
        "    new_pair_labels_train.extend([pair_labels_train[i]] * (len(a) + 1))\n",
        "    i = i + 1\n",
        "  \n",
        "new_input_a_train = np.array(new_input_a_train)\n",
        "new_classification_labels_train = np.array(new_classification_labels_train)\n",
        "new_pair_labels_train = np.array(new_pair_labels_train)"
      ]
    },
    {
      "cell_type": "code",
      "execution_count": 21,
      "metadata": {},
      "outputs": [],
      "source": [
        "new_input_b_train = []\n",
        "for landmark in input_b_train:\n",
        "    a = augment_landmarks(transform_to_pairs(landmark.tolist()))\n",
        "    a = [transform_to_list(elem) for elem in a]\n",
        "    new_input_b_train.append(landmark.tolist())\n",
        "    new_input_b_train.extend(a)\n",
        "  \n",
        "new_input_b_train = np.array(new_input_b_train)"
      ]
    },
    {
      "cell_type": "code",
      "execution_count": 22,
      "metadata": {},
      "outputs": [],
      "source": [
        "# Preprocess inputs\n",
        "new_input_a_train = [pre_process_landmark(x) for x in new_input_a_train]\n",
        "new_input_b_train = [pre_process_landmark(x) for x in new_input_b_train]\n",
        "\n",
        "new_input_a_train = np.array(new_input_a_train)\n",
        "new_input_b_train = np.array(new_input_b_train)\n"
      ]
    },
    {
      "cell_type": "code",
      "execution_count": 23,
      "metadata": {},
      "outputs": [],
      "source": [
        "new_input_a_test = []\n",
        "new_classification_labels_test = []\n",
        "new_pair_labels_test = []\n",
        "i = 0\n",
        "for landmark in input_a_test:\n",
        "    a = augment_landmarks(transform_to_pairs(landmark.tolist()))\n",
        "    a = [transform_to_list(elem) for elem in a]\n",
        "    new_input_a_test.append(landmark.tolist())\n",
        "    new_input_a_test.extend(a)\n",
        "    # Add the same classification label for the augmented landmarks\n",
        "    new_classification_labels_test.extend([classification_labels_test[i]] * (len(a) + 1))\n",
        "    # Do the same for pair labels\n",
        "    new_pair_labels_test.extend([pair_labels_test[i]] * (len(a) + 1))\n",
        "    i = i + 1\n",
        "  \n",
        "new_input_a_test = np.array(new_input_a_test)\n",
        "new_classification_labels_test = np.array(new_classification_labels_test)\n",
        "new_pair_labels_test = np.array(new_pair_labels_test)"
      ]
    },
    {
      "cell_type": "code",
      "execution_count": 25,
      "metadata": {},
      "outputs": [],
      "source": [
        "new_input_b_test = []\n",
        "for landmark in input_b_test:\n",
        "    a = augment_landmarks(transform_to_pairs(landmark.tolist()))\n",
        "    a = [transform_to_list(elem) for elem in a]\n",
        "    new_input_b_test.append(landmark.tolist())\n",
        "    new_input_b_test.extend(a)\n",
        "  \n",
        "new_input_b_test = np.array(new_input_b_test)"
      ]
    },
    {
      "cell_type": "code",
      "execution_count": 28,
      "metadata": {},
      "outputs": [],
      "source": [
        "# Preprocess test\n",
        "new_input_a_test = [pre_process_landmark(x) for x in new_input_a_test]\n",
        "new_input_b_test = [pre_process_landmark(x) for x in new_input_b_test]\n",
        "\n",
        "new_input_a_test = np.array(new_input_a_test)\n",
        "new_input_b_test = np.array(new_input_b_test)"
      ]
    },
    {
      "cell_type": "code",
      "execution_count": 29,
      "metadata": {},
      "outputs": [
        {
          "data": {
            "text/plain": [
              "(False, False, False, False, False, False, False, False)"
            ]
          },
          "execution_count": 29,
          "metadata": {},
          "output_type": "execute_result"
        }
      ],
      "source": [
        "#Check for nan values in all the arrays\n",
        "np.isnan(new_input_a_train).any(), np.isnan(new_input_b_train).any(), np.isnan(new_input_a_test).any(), np.isnan(new_input_b_test).any(), np.isnan(new_classification_labels_train).any(), np.isnan(new_pair_labels_train).any(), np.isnan(pair_labels_test).any(), np.isnan(classification_labels_test).any()"
      ]
    },
    {
      "cell_type": "code",
      "execution_count": 30,
      "metadata": {},
      "outputs": [
        {
          "data": {
            "text/plain": [
              "(False, False, False, False, False, False, False, False)"
            ]
          },
          "execution_count": 30,
          "metadata": {},
          "output_type": "execute_result"
        }
      ],
      "source": [
        "# Look for infinity\n",
        "np.isinf(new_input_a_train).any(), np.isinf(new_input_b_train).any(), np.isinf(new_input_a_test).any(), np.isinf(new_input_b_test).any(), np.isinf(new_classification_labels_train).any(), np.isinf(new_pair_labels_train).any(), np.isinf(pair_labels_test).any(), np.isinf(classification_labels_test).any()"
      ]
    },
    {
      "cell_type": "code",
      "execution_count": 31,
      "metadata": {},
      "outputs": [
        {
          "name": "stdout",
          "output_type": "stream",
          "text": [
            "360\n",
            "270 90\n"
          ]
        }
      ],
      "source": [
        "print(len(pairs))  # Total number of pairs\n",
        "print(len(pairs_train), len(pairs_test))  # Number of pairs in training and testing datasets\n"
      ]
    },
    {
      "cell_type": "code",
      "execution_count": 32,
      "metadata": {},
      "outputs": [
        {
          "name": "stdout",
          "output_type": "stream",
          "text": [
            "47790 47790 47790 47790\n"
          ]
        }
      ],
      "source": [
        "print(len(new_input_a_train), len(new_input_b_train), len(new_classification_labels_train), len(new_pair_labels_train))  # Number of samples in training dataset"
      ]
    },
    {
      "cell_type": "code",
      "execution_count": 34,
      "metadata": {},
      "outputs": [
        {
          "data": {
            "text/plain": [
              "(15930, 15930, 15930, 15930)"
            ]
          },
          "execution_count": 34,
          "metadata": {},
          "output_type": "execute_result"
        }
      ],
      "source": [
        "len(new_input_a_test), len(new_input_b_test), len(new_classification_labels_test), len(new_pair_labels_test)  # Number of samples in testing dataset"
      ]
    },
    {
      "cell_type": "markdown",
      "metadata": {
        "id": "7XI0j1Iu9hE2"
      },
      "source": [
        "# Model training"
      ]
    },
    {
      "cell_type": "code",
      "execution_count": 35,
      "metadata": {
        "colab": {
          "base_uri": "https://localhost:8080/"
        },
        "id": "WirBl-JE9hE3",
        "outputId": "71b30ca2-8294-4d9d-8aa2-800d90d399de",
        "scrolled": true
      },
      "outputs": [
        {
          "name": "stdout",
          "output_type": "stream",
          "text": [
            "Epoch 1/20\n",
            "WARNING:tensorflow:From c:\\Python310\\lib\\site-packages\\keras\\src\\utils\\tf_utils.py:492: The name tf.ragged.RaggedTensorValue is deprecated. Please use tf.compat.v1.ragged.RaggedTensorValue instead.\n",
            "\n",
            "374/374 [==============================] - ETA: 0s - loss: 1.6421 - lambda_loss: 0.1697 - dense_3_loss: 2.2731 - dense_3_accuracy: 0.2240\n",
            "Epoch 1: saving model to model/keypoint_classifier\\keypoint_classifier.hdf5\n",
            "374/374 [==============================] - 51s 136ms/step - loss: 1.6421 - lambda_loss: 0.1697 - dense_3_loss: 2.2731 - dense_3_accuracy: 0.2240 - val_loss: 1.3909 - val_lambda_loss: 0.2702 - val_dense_3_loss: 1.8712 - val_dense_3_accuracy: 0.3662\n",
            "Epoch 2/20\n",
            "  1/374 [..............................] - ETA: 39s - loss: 1.3849 - lambda_loss: 0.3148 - dense_3_loss: 1.8435 - dense_3_accuracy: 0.4688"
          ]
        },
        {
          "name": "stderr",
          "output_type": "stream",
          "text": [
            "c:\\Python310\\lib\\site-packages\\keras\\src\\engine\\training.py:3103: UserWarning: You are saving your model as an HDF5 file via `model.save()`. This file format is considered legacy. We recommend using instead the native Keras format, e.g. `model.save('my_model.keras')`.\n",
            "  saving_api.save_model(\n"
          ]
        },
        {
          "name": "stdout",
          "output_type": "stream",
          "text": [
            "374/374 [==============================] - ETA: 0s - loss: 0.9516 - lambda_loss: 0.4383 - dense_3_loss: 1.1715 - dense_3_accuracy: 0.6667\n",
            "Epoch 2: saving model to model/keypoint_classifier\\keypoint_classifier.hdf5\n",
            "374/374 [==============================] - 46s 122ms/step - loss: 0.9516 - lambda_loss: 0.4383 - dense_3_loss: 1.1715 - dense_3_accuracy: 0.6667 - val_loss: 0.5849 - val_lambda_loss: 0.5001 - val_dense_3_loss: 0.6212 - val_dense_3_accuracy: 0.8836\n",
            "Epoch 3/20\n",
            "374/374 [==============================] - ETA: 0s - loss: 0.4191 - lambda_loss: 0.4627 - dense_3_loss: 0.4003 - dense_3_accuracy: 0.9234\n",
            "Epoch 3: saving model to model/keypoint_classifier\\keypoint_classifier.hdf5\n",
            "374/374 [==============================] - 45s 121ms/step - loss: 0.4191 - lambda_loss: 0.4627 - dense_3_loss: 0.4003 - dense_3_accuracy: 0.9234 - val_loss: 0.3279 - val_lambda_loss: 0.4755 - val_dense_3_loss: 0.2646 - val_dense_3_accuracy: 0.9583\n",
            "Epoch 4/20\n",
            "374/374 [==============================] - ETA: 0s - loss: 0.2561 - lambda_loss: 0.3933 - dense_3_loss: 0.1972 - dense_3_accuracy: 0.9715\n",
            "Epoch 4: saving model to model/keypoint_classifier\\keypoint_classifier.hdf5\n",
            "374/374 [==============================] - 46s 122ms/step - loss: 0.2561 - lambda_loss: 0.3933 - dense_3_loss: 0.1972 - dense_3_accuracy: 0.9715 - val_loss: 0.2233 - val_lambda_loss: 0.4156 - val_dense_3_loss: 0.1409 - val_dense_3_accuracy: 0.9860\n",
            "Epoch 5/20\n",
            "374/374 [==============================] - ETA: 0s - loss: 0.1847 - lambda_loss: 0.3316 - dense_3_loss: 0.1218 - dense_3_accuracy: 0.9855\n",
            "Epoch 5: saving model to model/keypoint_classifier\\keypoint_classifier.hdf5\n",
            "374/374 [==============================] - 48s 130ms/step - loss: 0.1847 - lambda_loss: 0.3316 - dense_3_loss: 0.1218 - dense_3_accuracy: 0.9855 - val_loss: 0.1812 - val_lambda_loss: 0.3708 - val_dense_3_loss: 0.0999 - val_dense_3_accuracy: 0.9879\n",
            "Epoch 6/20\n",
            "374/374 [==============================] - ETA: 0s - loss: 0.1435 - lambda_loss: 0.2830 - dense_3_loss: 0.0837 - dense_3_accuracy: 0.9918\n",
            "Epoch 6: saving model to model/keypoint_classifier\\keypoint_classifier.hdf5\n",
            "374/374 [==============================] - 48s 127ms/step - loss: 0.1435 - lambda_loss: 0.2830 - dense_3_loss: 0.0837 - dense_3_accuracy: 0.9918 - val_loss: 0.1562 - val_lambda_loss: 0.3356 - val_dense_3_loss: 0.0793 - val_dense_3_accuracy: 0.9833\n",
            "Epoch 7/20\n",
            "374/374 [==============================] - ETA: 0s - loss: 0.1162 - lambda_loss: 0.2428 - dense_3_loss: 0.0620 - dense_3_accuracy: 0.9947\n",
            "Epoch 7: saving model to model/keypoint_classifier\\keypoint_classifier.hdf5\n",
            "374/374 [==============================] - 45s 121ms/step - loss: 0.1162 - lambda_loss: 0.2428 - dense_3_loss: 0.0620 - dense_3_accuracy: 0.9947 - val_loss: 0.1276 - val_lambda_loss: 0.2953 - val_dense_3_loss: 0.0558 - val_dense_3_accuracy: 0.9958\n",
            "Epoch 8/20\n",
            "374/374 [==============================] - ETA: 0s - loss: 0.0971 - lambda_loss: 0.2112 - dense_3_loss: 0.0482 - dense_3_accuracy: 0.9959\n",
            "Epoch 8: saving model to model/keypoint_classifier\\keypoint_classifier.hdf5\n",
            "374/374 [==============================] - 45s 121ms/step - loss: 0.0971 - lambda_loss: 0.2112 - dense_3_loss: 0.0482 - dense_3_accuracy: 0.9959 - val_loss: 0.1077 - val_lambda_loss: 0.2661 - val_dense_3_loss: 0.0399 - val_dense_3_accuracy: 0.9975\n",
            "Epoch 9/20\n",
            "374/374 [==============================] - ETA: 0s - loss: 0.0820 - lambda_loss: 0.1849 - dense_3_loss: 0.0380 - dense_3_accuracy: 0.9975\n",
            "Epoch 9: saving model to model/keypoint_classifier\\keypoint_classifier.hdf5\n",
            "374/374 [==============================] - 45s 121ms/step - loss: 0.0820 - lambda_loss: 0.1849 - dense_3_loss: 0.0380 - dense_3_accuracy: 0.9975 - val_loss: 0.0921 - val_lambda_loss: 0.2367 - val_dense_3_loss: 0.0302 - val_dense_3_accuracy: 0.9986\n",
            "Epoch 10/20\n",
            "374/374 [==============================] - ETA: 0s - loss: 0.0711 - lambda_loss: 0.1648 - dense_3_loss: 0.0309 - dense_3_accuracy: 0.9980\n",
            "Epoch 10: saving model to model/keypoint_classifier\\keypoint_classifier.hdf5\n",
            "374/374 [==============================] - 48s 129ms/step - loss: 0.0711 - lambda_loss: 0.1648 - dense_3_loss: 0.0309 - dense_3_accuracy: 0.9980 - val_loss: 0.0861 - val_lambda_loss: 0.2213 - val_dense_3_loss: 0.0282 - val_dense_3_accuracy: 0.9986\n",
            "Epoch 11/20\n",
            "374/374 [==============================] - ETA: 0s - loss: 0.0616 - lambda_loss: 0.1465 - dense_3_loss: 0.0252 - dense_3_accuracy: 0.9986\n",
            "Epoch 11: saving model to model/keypoint_classifier\\keypoint_classifier.hdf5\n",
            "374/374 [==============================] - 47s 125ms/step - loss: 0.0616 - lambda_loss: 0.1465 - dense_3_loss: 0.0252 - dense_3_accuracy: 0.9986 - val_loss: 0.0766 - val_lambda_loss: 0.2000 - val_dense_3_loss: 0.0238 - val_dense_3_accuracy: 0.9986\n",
            "Epoch 12/20\n",
            "374/374 [==============================] - ETA: 0s - loss: 0.0545 - lambda_loss: 0.1318 - dense_3_loss: 0.0214 - dense_3_accuracy: 0.9989\n",
            "Epoch 12: saving model to model/keypoint_classifier\\keypoint_classifier.hdf5\n",
            "374/374 [==============================] - 48s 127ms/step - loss: 0.0545 - lambda_loss: 0.1318 - dense_3_loss: 0.0214 - dense_3_accuracy: 0.9989 - val_loss: 0.0733 - val_lambda_loss: 0.1911 - val_dense_3_loss: 0.0228 - val_dense_3_accuracy: 0.9992\n",
            "Epoch 13/20\n",
            "374/374 [==============================] - ETA: 0s - loss: 0.0491 - lambda_loss: 0.1207 - dense_3_loss: 0.0184 - dense_3_accuracy: 0.9989\n",
            "Epoch 13: saving model to model/keypoint_classifier\\keypoint_classifier.hdf5\n",
            "374/374 [==============================] - 48s 128ms/step - loss: 0.0491 - lambda_loss: 0.1207 - dense_3_loss: 0.0184 - dense_3_accuracy: 0.9989 - val_loss: 0.0636 - val_lambda_loss: 0.1776 - val_dense_3_loss: 0.0147 - val_dense_3_accuracy: 0.9995\n",
            "Epoch 14/20\n",
            "374/374 [==============================] - ETA: 0s - loss: 0.0452 - lambda_loss: 0.1118 - dense_3_loss: 0.0167 - dense_3_accuracy: 0.9988\n",
            "Epoch 14: saving model to model/keypoint_classifier\\keypoint_classifier.hdf5\n",
            "374/374 [==============================] - 51s 137ms/step - loss: 0.0452 - lambda_loss: 0.1118 - dense_3_loss: 0.0167 - dense_3_accuracy: 0.9988 - val_loss: 0.0586 - val_lambda_loss: 0.1657 - val_dense_3_loss: 0.0128 - val_dense_3_accuracy: 0.9996\n",
            "Epoch 15/20\n",
            "374/374 [==============================] - ETA: 0s - loss: 0.0399 - lambda_loss: 0.1015 - dense_3_loss: 0.0135 - dense_3_accuracy: 0.9994\n",
            "Epoch 15: saving model to model/keypoint_classifier\\keypoint_classifier.hdf5\n",
            "374/374 [==============================] - 44s 118ms/step - loss: 0.0399 - lambda_loss: 0.1015 - dense_3_loss: 0.0135 - dense_3_accuracy: 0.9994 - val_loss: 0.0573 - val_lambda_loss: 0.1645 - val_dense_3_loss: 0.0113 - val_dense_3_accuracy: 0.9992\n",
            "Epoch 16/20\n",
            "374/374 [==============================] - ETA: 0s - loss: 0.0371 - lambda_loss: 0.0941 - dense_3_loss: 0.0127 - dense_3_accuracy: 0.9992\n",
            "Epoch 16: saving model to model/keypoint_classifier\\keypoint_classifier.hdf5\n",
            "374/374 [==============================] - 69s 184ms/step - loss: 0.0371 - lambda_loss: 0.0941 - dense_3_loss: 0.0127 - dense_3_accuracy: 0.9992 - val_loss: 0.0542 - val_lambda_loss: 0.1523 - val_dense_3_loss: 0.0121 - val_dense_3_accuracy: 0.9993\n",
            "Epoch 17/20\n",
            "374/374 [==============================] - ETA: 0s - loss: 0.0328 - lambda_loss: 0.0855 - dense_3_loss: 0.0103 - dense_3_accuracy: 0.9996\n",
            "Epoch 17: saving model to model/keypoint_classifier\\keypoint_classifier.hdf5\n",
            "374/374 [==============================] - 60s 161ms/step - loss: 0.0328 - lambda_loss: 0.0855 - dense_3_loss: 0.0103 - dense_3_accuracy: 0.9996 - val_loss: 0.0507 - val_lambda_loss: 0.1443 - val_dense_3_loss: 0.0105 - val_dense_3_accuracy: 0.9998\n",
            "Epoch 18/20\n",
            "374/374 [==============================] - ETA: 0s - loss: 0.0302 - lambda_loss: 0.0796 - dense_3_loss: 0.0090 - dense_3_accuracy: 0.9997\n",
            "Epoch 18: saving model to model/keypoint_classifier\\keypoint_classifier.hdf5\n",
            "374/374 [==============================] - 62s 166ms/step - loss: 0.0302 - lambda_loss: 0.0796 - dense_3_loss: 0.0090 - dense_3_accuracy: 0.9997 - val_loss: 0.0455 - val_lambda_loss: 0.1343 - val_dense_3_loss: 0.0074 - val_dense_3_accuracy: 0.9999\n",
            "Epoch 19/20\n",
            "374/374 [==============================] - ETA: 0s - loss: 0.0284 - lambda_loss: 0.0748 - dense_3_loss: 0.0085 - dense_3_accuracy: 0.9998\n",
            "Epoch 19: saving model to model/keypoint_classifier\\keypoint_classifier.hdf5\n",
            "374/374 [==============================] - 53s 142ms/step - loss: 0.0284 - lambda_loss: 0.0748 - dense_3_loss: 0.0085 - dense_3_accuracy: 0.9998 - val_loss: 0.0427 - val_lambda_loss: 0.1254 - val_dense_3_loss: 0.0072 - val_dense_3_accuracy: 1.0000\n",
            "Epoch 20/20\n",
            "374/374 [==============================] - ETA: 0s - loss: 0.0260 - lambda_loss: 0.0692 - dense_3_loss: 0.0075 - dense_3_accuracy: 0.9998\n",
            "Epoch 20: saving model to model/keypoint_classifier\\keypoint_classifier.hdf5\n",
            "374/374 [==============================] - 62s 165ms/step - loss: 0.0260 - lambda_loss: 0.0692 - dense_3_loss: 0.0075 - dense_3_accuracy: 0.9998 - val_loss: 0.0405 - val_lambda_loss: 0.1211 - val_dense_3_loss: 0.0060 - val_dense_3_accuracy: 0.9999\n"
          ]
        },
        {
          "data": {
            "text/plain": [
              "<keras.src.callbacks.History at 0x1d01a473790>"
            ]
          },
          "execution_count": 35,
          "metadata": {},
          "output_type": "execute_result"
        }
      ],
      "source": [
        "combined_model.fit(\n",
        "    [new_input_a_train, new_input_b_train],  # Inputs\n",
        "    [new_pair_labels_train, new_classification_labels_train],  # Outputs\n",
        "    epochs=20,\n",
        "    batch_size=128,\n",
        "    validation_data=([new_input_a_test, new_input_b_test], [new_pair_labels_test, new_classification_labels_test]),\n",
        "    callbacks=[cp_callback, es_callback],\n",
        "    verbose=1\n",
        ")"
      ]
    },
    {
      "cell_type": "code",
      "execution_count": 37,
      "metadata": {
        "colab": {
          "base_uri": "https://localhost:8080/"
        },
        "id": "pxvb2Y299hE3",
        "outputId": "59eb3185-2e37-4b9e-bc9d-ab1b8ac29b7f"
      },
      "outputs": [
        {
          "name": "stdout",
          "output_type": "stream",
          "text": [
            "498/498 [==============================] - 33s 67ms/step - loss: 0.0405 - lambda_loss: 0.1211 - dense_3_loss: 0.0060 - dense_3_accuracy: 0.9999\n"
          ]
        },
        {
          "data": {
            "text/plain": [
              "[0.04051719605922699,\n",
              " 0.12112532556056976,\n",
              " 0.00597086176276207,\n",
              " 0.999874472618103]"
            ]
          },
          "execution_count": 37,
          "metadata": {},
          "output_type": "execute_result"
        }
      ],
      "source": [
        "# Model evaluation\n",
        "combined_model.evaluate([new_input_a_test, new_input_b_test], [new_pair_labels_test, new_classification_labels_test])"
      ]
    },
    {
      "cell_type": "code",
      "execution_count": 38,
      "metadata": {},
      "outputs": [
        {
          "name": "stdout",
          "output_type": "stream",
          "text": [
            "WARNING:tensorflow:Compiled the loaded model, but the compiled metrics have yet to be built. `model.compile_metrics` will be empty until you train or evaluate the model.\n"
          ]
        },
        {
          "name": "stderr",
          "output_type": "stream",
          "text": [
            "c:\\Python310\\lib\\site-packages\\keras\\src\\engine\\training.py:3103: UserWarning: You are saving your model as an HDF5 file via `model.save()`. This file format is considered legacy. We recommend using instead the native Keras format, e.g. `model.save('my_model.keras')`.\n",
            "  saving_api.save_model(\n"
          ]
        }
      ],
      "source": [
        "# save classifiaction part of the model\n",
        "\n",
        "classification_model.save(model_save_path)"
      ]
    },
    {
      "cell_type": "code",
      "execution_count": 39,
      "metadata": {
        "id": "RBkmDeUW9hE4"
      },
      "outputs": [
        {
          "name": "stdout",
          "output_type": "stream",
          "text": [
            "WARNING:tensorflow:No training configuration found in the save file, so the model was *not* compiled. Compile it manually.\n"
          ]
        }
      ],
      "source": [
        "# Loading the saved model\n",
        "model = tf.keras.models.load_model(model_save_path)"
      ]
    },
    {
      "cell_type": "code",
      "execution_count": 40,
      "metadata": {
        "colab": {
          "base_uri": "https://localhost:8080/"
        },
        "id": "tFz9Tb0I9hE4",
        "outputId": "1c3b3528-54ae-4ee2-ab04-77429211cbef"
      },
      "outputs": [
        {
          "name": "stdout",
          "output_type": "stream",
          "text": [
            "1/1 [==============================] - 0s 231ms/step\n",
            "[9.3339826e-04 5.0591153e-09 5.0871962e-01 4.5112274e-09 2.2239310e-10\n",
            " 1.5517742e-04 4.7931188e-01 1.0779953e-02 7.2445424e-08 2.8001774e-09\n",
            " 9.9732759e-05]\n",
            "2\n"
          ]
        }
      ],
      "source": [
        "# Inference test\n",
        "predict_result = model.predict(np.array([input_a_test[0]]))\n",
        "print(np.squeeze(predict_result))\n",
        "print(np.argmax(np.squeeze(predict_result)))"
      ]
    },
    {
      "cell_type": "markdown",
      "metadata": {
        "id": "S3U4yNWx9hE4"
      },
      "source": [
        "# Confusion matrix"
      ]
    },
    {
      "cell_type": "code",
      "execution_count": 42,
      "metadata": {
        "colab": {
          "base_uri": "https://localhost:8080/",
          "height": 582
        },
        "id": "AP1V6SCk9hE5",
        "outputId": "08e41a80-7a4a-4619-8125-ecc371368d19"
      },
      "outputs": [
        {
          "name": "stdout",
          "output_type": "stream",
          "text": [
            "498/498 [==============================] - 2s 4ms/step\n"
          ]
        },
        {
          "data": {
            "image/png": "[encoded data removed]",
            "text/plain": [
              "<Figure size 700x600 with 2 Axes>"
            ]
          },
          "metadata": {},
          "output_type": "display_data"
        },
        {
          "name": "stdout",
          "output_type": "stream",
          "text": [
            "Classification Report\n",
            "              precision    recall  f1-score   support\n",
            "\n",
            "           0       1.00      1.00      1.00      1239\n",
            "           1       1.00      1.00      1.00      1239\n",
            "           2       1.00      1.00      1.00      1416\n",
            "           3       1.00      1.00      1.00      1416\n",
            "           4       1.00      1.00      1.00      1416\n",
            "           5       1.00      1.00      1.00      1239\n",
            "           6       1.00      1.00      1.00      1416\n",
            "           7       1.00      1.00      1.00      1239\n",
            "           8       1.00      1.00      1.00      1239\n",
            "           9       1.00      1.00      1.00      1416\n",
            "          10       1.00      1.00      1.00      2655\n",
            "\n",
            "    accuracy                           1.00     15930\n",
            "   macro avg       1.00      1.00      1.00     15930\n",
            "weighted avg       1.00      1.00      1.00     15930\n",
            "\n"
          ]
        }
      ],
      "source": [
        "import pandas as pd\n",
        "import seaborn as sns\n",
        "import matplotlib.pyplot as plt\n",
        "from sklearn.metrics import confusion_matrix, classification_report\n",
        "\n",
        "def print_confusion_matrix(y_true, y_pred, report=True):\n",
        "    labels = sorted(list(set(y_true)))\n",
        "    cmx_data = confusion_matrix(y_true, y_pred, labels=labels)\n",
        "    \n",
        "    df_cmx = pd.DataFrame(cmx_data, index=labels, columns=labels)\n",
        " \n",
        "    fig, ax = plt.subplots(figsize=(7, 6))\n",
        "    sns.heatmap(df_cmx, annot=True, fmt='g' ,square=False)\n",
        "    ax.set_ylim(len(set(y_true)), 0)\n",
        "    plt.show()\n",
        "    \n",
        "    if report:\n",
        "        print('Classification Report')\n",
        "        print(classification_report(new_classification_labels_test, y_pred))\n",
        "\n",
        "Y_pred = model.predict(new_input_a_test)\n",
        "y_pred = np.argmax(Y_pred, axis=1)\n",
        "\n",
        "print_confusion_matrix(new_classification_labels_test, y_pred)"
      ]
    },
    {
      "cell_type": "markdown",
      "metadata": {
        "id": "FNP6aqzc9hE5"
      },
      "source": [
        "# Convert to model for Tensorflow-Lite"
      ]
    },
    {
      "cell_type": "code",
      "execution_count": 43,
      "metadata": {
        "id": "ODjnYyld9hE6"
      },
      "outputs": [
        {
          "name": "stdout",
          "output_type": "stream",
          "text": [
            "WARNING:tensorflow:Compiled the loaded model, but the compiled metrics have yet to be built. `model.compile_metrics` will be empty until you train or evaluate the model.\n"
          ]
        },
        {
          "name": "stderr",
          "output_type": "stream",
          "text": [
            "c:\\Python310\\lib\\site-packages\\keras\\src\\engine\\training.py:3103: UserWarning: You are saving your model as an HDF5 file via `model.save()`. This file format is considered legacy. We recommend using instead the native Keras format, e.g. `model.save('my_model.keras')`.\n",
            "  saving_api.save_model(\n"
          ]
        }
      ],
      "source": [
        "# Save as a model dedicated to inference\n",
        "model.save(model_save_path, include_optimizer=False)"
      ]
    },
    {
      "cell_type": "code",
      "execution_count": 44,
      "metadata": {
        "colab": {
          "base_uri": "https://localhost:8080/"
        },
        "id": "zRfuK8Y59hE6",
        "outputId": "a4ca585c-b5d5-4244-8291-8674063209bb"
      },
      "outputs": [
        {
          "name": "stdout",
          "output_type": "stream",
          "text": [
            "INFO:tensorflow:Assets written to: C:\\Users\\Cristina\\AppData\\Local\\Temp\\tmpfts3y2ds\\assets\n"
          ]
        },
        {
          "name": "stderr",
          "output_type": "stream",
          "text": [
            "INFO:tensorflow:Assets written to: C:\\Users\\Cristina\\AppData\\Local\\Temp\\tmpfts3y2ds\\assets\n"
          ]
        },
        {
          "data": {
            "text/plain": [
              "21064"
            ]
          },
          "execution_count": 44,
          "metadata": {},
          "output_type": "execute_result"
        }
      ],
      "source": [
        "# Transform model (quantization)\n",
        "\n",
        "converter = tf.lite.TFLiteConverter.from_keras_model(model)\n",
        "converter.optimizations = [tf.lite.Optimize.DEFAULT]\n",
        "tflite_quantized_model = converter.convert()\n",
        "\n",
        "open(tflite_save_path, 'wb').write(tflite_quantized_model)"
      ]
    },
    {
      "cell_type": "markdown",
      "metadata": {
        "id": "CHBPBXdx9hE6"
      },
      "source": [
        "# Inference test"
      ]
    },
    {
      "cell_type": "code",
      "execution_count": 45,
      "metadata": {
        "id": "mGAzLocO9hE7"
      },
      "outputs": [],
      "source": [
        "interpreter = tf.lite.Interpreter(model_path=tflite_save_path)\n",
        "interpreter.allocate_tensors()"
      ]
    },
    {
      "cell_type": "code",
      "execution_count": 46,
      "metadata": {
        "id": "oQuDK8YS9hE7"
      },
      "outputs": [],
      "source": [
        "# Get I / O tensor\n",
        "input_details = interpreter.get_input_details()\n",
        "output_details = interpreter.get_output_details()"
      ]
    },
    {
      "cell_type": "code",
      "execution_count": 47,
      "metadata": {
        "id": "2_ixAf_l9hE7"
      },
      "outputs": [],
      "source": [
        "# convert to float32\n",
        "input_a_test = input_a_test.astype(np.float32)\n",
        "interpreter.set_tensor(input_details[0]['index'], np.array([input_a_test[0]]))"
      ]
    },
    {
      "cell_type": "code",
      "execution_count": 48,
      "metadata": {
        "colab": {
          "base_uri": "https://localhost:8080/"
        },
        "id": "s4FoAnuc9hE7",
        "outputId": "91f18257-8d8b-4ef3-c558-e9b5f94fabbf",
        "scrolled": true
      },
      "outputs": [
        {
          "name": "stdout",
          "output_type": "stream",
          "text": [
            "CPU times: total: 0 ns\n",
            "Wall time: 3.02 ms\n"
          ]
        }
      ],
      "source": [
        "%%time\n",
        "# Inference implementation\n",
        "interpreter.invoke()\n",
        "tflite_results = interpreter.get_tensor(output_details[0]['index'])"
      ]
    },
    {
      "cell_type": "code",
      "execution_count": 50,
      "metadata": {
        "colab": {
          "base_uri": "https://localhost:8080/"
        },
        "id": "vONjp19J9hE8",
        "outputId": "77205e24-fd00-42c4-f7b6-e06e527c2cba"
      },
      "outputs": [
        {
          "name": "stdout",
          "output_type": "stream",
          "text": [
            "[3.0454842e-04 2.1898170e-09 8.2668710e-01 1.3130528e-09 1.6309246e-11\n",
            " 8.0591650e-05 1.6794831e-01 4.9340678e-03 5.9841181e-09 3.0236610e-10\n",
            " 4.5410041e-05]\n",
            "2\n"
          ]
        }
      ],
      "source": [
        "print(np.squeeze(tflite_results))\n",
        "print(np.argmax(np.squeeze(tflite_results)))"
      ]
    }
  ],
  "metadata": {
    "accelerator": "GPU",
    "colab": {
      "collapsed_sections": [],
      "name": "keypoint_classification_EN.ipynb",
      "provenance": [],
      "toc_visible": true
    },
    "kernelspec": {
      "display_name": "Python 3",
      "language": "python",
      "name": "python3"
    },
    "language_info": {
      "codemirror_mode": {
        "name": "ipython",
        "version": 3
      },
      "file_extension": ".py",
      "mimetype": "text/x-python",
      "name": "python",
      "nbconvert_exporter": "python",
      "pygments_lexer": "ipython3",
      "version": "3.10.7"
    }
  },
  "nbformat": 4,
  "nbformat_minor": 0
}
